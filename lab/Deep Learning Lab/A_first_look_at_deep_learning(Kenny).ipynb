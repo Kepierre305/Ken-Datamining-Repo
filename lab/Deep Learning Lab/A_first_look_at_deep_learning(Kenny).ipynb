{
  "cells": [
    {
      "cell_type": "markdown",
      "metadata": {
        "id": "0mKArb-b1_En"
      },
      "source": [
        "### Note:\n",
        "\n",
        "**First let's set the runtime to GPU -- click on 'runtime' in the menu above, select 'Change runtime type' and pick 'GPU'.**"
      ]
    },
    {
      "cell_type": "code",
      "execution_count": null,
      "metadata": {
        "id": "-n3xuc-8gykk",
        "outputId": "200c4f9c-8c0c-4bea-b9b1-2cc83fa4ed67"
      },
      "outputs": [
        {
          "name": "stderr",
          "output_type": "stream",
          "text": [
            "'nvidia-smi' n'est pas reconnu en tant que commande interne\n",
            "ou externe, un programme ex‚cutable ou un fichier de commandes.\n"
          ]
        }
      ],
      "source": [
        "!nvidia-smi"
      ]
    },
    {
      "cell_type": "markdown",
      "metadata": {
        "id": "2ii5clez0HmE"
      },
      "source": [
        "# A First Look at Deep Learning using Keras  \n",
        "\n",
        "![](https://raw.githubusercontent.com/zacharski/ml-class/master/labs/pics/keras22.png)\n",
        "\n",
        "\n",
        "\n",
        "This notebook is intended to be a first quick hands-on introduction to deep learning using TensorFlow and Keras. \n",
        "\n",
        "\n",
        "First, let's cover a few definitions.\n",
        "\n",
        "#### Tensor\n",
        "Tensors, like arrays and matrices, are containers for numbers. For now, it is fine to think of tensors as arrays. Tensors have three defining characteristics. \n",
        "\n",
        "1. **Number of Axes or Dimensions**\n",
        "2. **The shape**\n",
        "3. **The Type of Data Stored in the Tensor**\n",
        "\n",
        "For example, the tensor `x` below \n",
        "\n",
        "* has one axis (it is one dimensional).\n",
        "* its shape is represented by the tuple `(4)` --- there are 4 elements in that one axis.\n",
        "* the datatype is `uint8` (the tensor contains integers).\n",
        "\n",
        "![](https://raw.githubusercontent.com/zacharski/datamining-guide/master/labs/pics/tensors43.png)\n",
        "\n",
        "The tensor `y`\n",
        "\n",
        "* has 2 axis (2 dimensional)\n",
        "* its shape is (3,4). Along one axis there are 3 rows and along the other, 4 columns\n",
        "* the datatype is `uint8`\n",
        "\n",
        "Finally, the tensor `z` \n",
        "\n",
        "* has 3 axis   -- it is 3 dimensional\n",
        "* its shape is (2, 3, 4)\n",
        "* the datatype is `uint8`\n",
        "\n",
        "**Tensors are the fundamental datatype for deep learning systems.**\n",
        "\n",
        "\n",
        "### Keras\n",
        "Keras is open source software that functions as an abstract interface to TensorFlow. \n",
        "\n",
        "My difficulty ranking of deep learning libraries (from easiest to hardest) is \n",
        "\n",
        "1. Keras\n",
        "2. PyTorch\n",
        "3. TensorFlow\n",
        "\n",
        "All have their strengths and it is difficult to recommend which one a beginner should start with. The excellent, free, Open.ai course uses PyTorch. However, in our exploration of deep learning we will start with Keras. In your path toward deepening your knowledge in machine learning you will likely encounter all three.\n",
        "\n",
        "# A first look at a neural network\n",
        "Let's go back to the example of recognizing hand written digits. \n",
        "\n",
        "\n",
        "![](https://raw.githubusercontent.com/zacharski/datamining-guide/master/labs/pics/mmnist.png)\n",
        "\n",
        "We are using the MNIST dataset (Modified National Institute of Standards) which is a dataset of 60,000 training instances and 10,000 testing instances of 28x28 grayscale images of the digits 0 through 9. This dataset was created in the 1980s as a testbed for various research groups. Back then it was considered a hard problem. Today it is considered the \"hello world\" equivalent in deep learning and you will see it again and again on your path learning about machine learning. \n"
      ]
    },
    {
      "cell_type": "markdown",
      "metadata": {
        "id": "fHO0x8YE0HmF"
      },
      "source": [
        "\n",
        "\n",
        "# Prelim steps\n",
        "\n",
        "## 1. Import Keras\n"
      ]
    },
    {
      "cell_type": "code",
      "execution_count": null,
      "metadata": {
        "id": "DS58igpC0HmG",
        "colab": {
          "base_uri": "https://localhost:8080/",
          "height": 35
        },
        "outputId": "4868ac9a-b626-4ad9-9e99-1e96bbfec598"
      },
      "outputs": [
        {
          "output_type": "execute_result",
          "data": {
            "text/plain": [
              "'2.12.0'"
            ],
            "application/vnd.google.colaboratory.intrinsic+json": {
              "type": "string"
            }
          },
          "metadata": {},
          "execution_count": 1
        }
      ],
      "source": [
        "import keras\n",
        "keras.__version__ "
      ]
    },
    {
      "cell_type": "markdown",
      "metadata": {
        "id": "noY1wNno0HmK"
      },
      "source": [
        "\n",
        "\n",
        "## 2. Define the datasets we are going to use.\n",
        "\n",
        "\n"
      ]
    },
    {
      "cell_type": "markdown",
      "metadata": {
        "id": "1tUaQ5q20HmK"
      },
      "source": [
        "The MNIST dataset is so common that Keras knows how to download the data into a set of four Numpy arrays:"
      ]
    },
    {
      "cell_type": "code",
      "execution_count": null,
      "metadata": {
        "id": "voWJ4eMm0HmL",
        "colab": {
          "base_uri": "https://localhost:8080/"
        },
        "outputId": "75ed8442-73f4-4669-d513-c060886a4153"
      },
      "outputs": [
        {
          "output_type": "stream",
          "name": "stdout",
          "text": [
            "Downloading data from https://storage.googleapis.com/tensorflow/tf-keras-datasets/mnist.npz\n",
            "11490434/11490434 [==============================] - 1s 0us/step\n"
          ]
        }
      ],
      "source": [
        "from keras.datasets import mnist\n",
        "\n",
        "(train_images, train_labels), (test_images, test_labels) = mnist.load_data()"
      ]
    },
    {
      "cell_type": "markdown",
      "metadata": {
        "id": "AsarChQu0HmN"
      },
      "source": [
        "`train_images` and `train_labels` form the \"training set\", the data that the model will learn from. The model will then be tested on the \n",
        "\"test set\", `test_images` and `test_labels`. The Keras version of this dataset encodes the images as Numpy arrays, and the labels are simply an array of digits, ranging \n",
        "from 0 to 9. There is a one-to-one correspondence between the images and the labels.\n",
        "\n",
        "## 3. Examining the data\n",
        "\n",
        "As already mentioned, each digit in the data is represented by a 28x28 pixel image:\n",
        "\n",
        "\n",
        "![](https://raw.githubusercontent.com/zacharski/datamining-guide/master/labs/pics/mnist2.png)\n",
        "\n",
        "This is represented as a 2 dimensional array of 28 rows and 28 columns. The gray scale at each location is represented by a number. Total white is represented by 0, total black as 255, and shades of gray are represented by numbers between those two. \n",
        "\n",
        "Just for a sanity check, let's see if this format matches a sample of our training data. Let's get the first batch of our data:"
      ]
    },
    {
      "cell_type": "code",
      "execution_count": null,
      "metadata": {
        "id": "Z5UJNpAs0HmN",
        "colab": {
          "base_uri": "https://localhost:8080/"
        },
        "outputId": "8c2b8c32-555a-4d1e-fe91-51127623520d"
      },
      "outputs": [
        {
          "output_type": "execute_result",
          "data": {
            "text/plain": [
              "(60000, 28, 28)"
            ]
          },
          "metadata": {},
          "execution_count": 3
        }
      ],
      "source": [
        "train_images.shape"
      ]
    },
    {
      "cell_type": "markdown",
      "metadata": {
        "id": "_SexwMUDfdF-"
      },
      "source": [
        "That is not surprising---so 60,000 images that are a 28x28 array of pixel values"
      ]
    },
    {
      "cell_type": "code",
      "execution_count": null,
      "metadata": {
        "id": "iGoBVIWU0HmQ",
        "colab": {
          "base_uri": "https://localhost:8080/"
        },
        "outputId": "0fb08c59-8f91-49fb-b59d-1a0d39858aa0"
      },
      "outputs": [
        {
          "output_type": "execute_result",
          "data": {
            "text/plain": [
              "60000"
            ]
          },
          "metadata": {},
          "execution_count": 4
        }
      ],
      "source": [
        "len(train_labels)"
      ]
    },
    {
      "cell_type": "code",
      "execution_count": null,
      "metadata": {
        "id": "6xrzLvCu0HmV",
        "colab": {
          "base_uri": "https://localhost:8080/"
        },
        "outputId": "78f37fba-74c4-4457-cd27-8dab0369e798"
      },
      "outputs": [
        {
          "output_type": "execute_result",
          "data": {
            "text/plain": [
              "array([5, 0, 4, ..., 5, 6, 8], dtype=uint8)"
            ]
          },
          "metadata": {},
          "execution_count": 5
        }
      ],
      "source": [
        "train_labels"
      ]
    },
    {
      "cell_type": "markdown",
      "metadata": {
        "id": "sw4IhMIr0Hmm"
      },
      "source": [
        "# The data\n",
        "To get an idea of what the data looks like let's display a few images."
      ]
    },
    {
      "cell_type": "code",
      "execution_count": null,
      "metadata": {
        "id": "K4oH15sT0Hmm",
        "colab": {
          "base_uri": "https://localhost:8080/",
          "height": 1000
        },
        "outputId": "697b7932-fdf9-4bf0-c29a-b245c4110324"
      },
      "outputs": [
        {
          "output_type": "display_data",
          "data": {
            "text/plain": [
              "<Figure size 200x200 with 1 Axes>"
            ],
            "image/png": "[encoded data removed]"
          },
          "metadata": {}
        },
        {
          "output_type": "display_data",
          "data": {
            "text/plain": [
              "<Figure size 200x200 with 1 Axes>"
            ],
            "image/png": "[encoded data removed]"
          },
          "metadata": {}
        },
        {
          "output_type": "display_data",
          "data": {
            "text/plain": [
              "<Figure size 200x200 with 1 Axes>"
            ],
            "image/png": "[encoded data removed]"
          },
          "metadata": {}
        },
        {
          "output_type": "display_data",
          "data": {
            "text/plain": [
              "<Figure size 200x200 with 1 Axes>"
            ],
            "image/png": "[encoded data removed]"
          },
          "metadata": {}
        },
        {
          "output_type": "display_data",
          "data": {
            "text/plain": [
              "<Figure size 200x200 with 1 Axes>"
            ],
            "image/png": "[encoded data removed]"
          },
          "metadata": {}
        }
      ],
      "source": [
        "import matplotlib.pyplot as plt\n",
        "\n",
        "def viewImage(x):\n",
        "    plt.figure(figsize=(2,2))\n",
        "    plt.imshow(x, interpolation='nearest', cmap='Greys')\n",
        "    plt.show()\n",
        "    \n",
        "viewImage(test_images[0])\n",
        "viewImage(test_images[1])\n",
        "viewImage(test_images[2])\n",
        "viewImage(test_images[3])\n",
        "viewImage(test_images[4])\n",
        "\n",
        "\n"
      ]
    },
    {
      "cell_type": "markdown",
      "metadata": {
        "id": "ereJKgeH_-5f"
      },
      "source": [
        "and let's look at the associated labels:"
      ]
    },
    {
      "cell_type": "code",
      "execution_count": null,
      "metadata": {
        "id": "h8HKsdisAC_x",
        "colab": {
          "base_uri": "https://localhost:8080/"
        },
        "outputId": "61ef0e34-7776-4d68-f592-7a2f84e3572d"
      },
      "outputs": [
        {
          "output_type": "execute_result",
          "data": {
            "text/plain": [
              "array([7, 2, 1, 0, 4], dtype=uint8)"
            ]
          },
          "metadata": {},
          "execution_count": 7
        }
      ],
      "source": [
        "test_labels[:5]"
      ]
    },
    {
      "cell_type": "markdown",
      "metadata": {
        "id": "OHPEFxanojmP"
      },
      "source": [
        "![](https://raw.githubusercontent.com/zacharski/datamining-guide/master/labs/pics/torchdivide.png)\n",
        "\n",
        "# Our deep learning network design.\n",
        "\n",
        "Let us now turn our attention to the deep learning network we will implement.\n",
        "\n",
        "The input to our deep learning network will be a 28x28 image. Instead of using the two dimensional 28 x 28 representation, for simplicity we will flatten the image into a sequence of 784 pixels (28 times 28). These 784 pixel values will be our input. There are 10 possible outputs representing the digits 0 through 9. Thus, the architecture of our input values and output nodes looks like this:\n",
        "\n",
        "\n",
        "![](https://raw.githubusercontent.com/zacharski/datamining-guide/master/labs/pics/dense1a.png)\n",
        "\n",
        "Between the input and the output we will have one or more hidden layers. *Hidden layers* are simply the layers of nodes between the input and the output. \n",
        "\n",
        "![](https://raw.githubusercontent.com/zacharski/datamining-guide/master/labs/pics/hiddenpyt.png)\n",
        "\n",
        "\n",
        "For our initial network we are going to have one hidden layer of 256 nodes. The layer will be densely connected (also called *fully connected*) meaning that each input  (in this case each pixel) is connected to each node in the inner layer:\n",
        "\n",
        "![](https://raw.githubusercontent.com/zacharski/datamining-guide/master/labs/pics/connect1p.png)\n",
        "\n",
        "\n",
        "So each of the 784 pixel values is connected to each of the 256 nodes of the hidden layer.\n",
        "\n",
        "![](https://raw.githubusercontent.com/zacharski/datamining-guide/master/labs/pics/connect2p.png)\n",
        "\n",
        "Let's examine one of these nodes in the hidden layer in more detail. Each node has 784 inputs and each of these inputs has an associated weight. So *input<sub>1</sub>* has an associated *weight<sub>1</sub>*, *input<sub>2</sub>* has an associated *weight<sub>2</sub>* and *input<sub>784</sub>* has an associated *weight<sub>784</sub>*. Also, each node has an additional weight *weight<sub>0</sub>*. \n",
        "\n",
        "\n",
        "![](https://raw.githubusercontent.com/zacharski/datamining-guide/master/labs/pics/relu2.png)\n",
        "\n",
        "Each node multiplies its input by the associated weights:\n",
        "\n",
        "$$\n",
        "total = \\sum_{i=0}^{784}{x_i w_i}\n",
        "$$\n",
        "\n",
        "Since the inputs are represented by a tensor and the weights are as well, this operation can be done very efficiently on the parallel architecture of a GPU. Next, the node determines its output based on this total weighted input, using an **activation function**. One common activation function is **ReLU** (rectified linear unit) and is defined by \n",
        "\n",
        "$$\n",
        "relu(total) = \\max(0, total)\n",
        "$$\n",
        "\n",
        "So the output of a single node is\n",
        "\n",
        "$$\n",
        "output = \\max(0, \\sum_{i=0}^{784}{x_i w_i})\n",
        "$$\n",
        "\n",
        "Since each node has 785 weights and there are 256 nodes in our hidden layer, there are 200,960 weights in that layer. \n",
        "\n",
        "\n",
        "#### Output layer\n",
        "The output layer is also densely connected, mean each node in the hidden layer will be connected to each of the output nodes. \n",
        "\n",
        "![](https://raw.githubusercontent.com/zacharski/datamining-guide/master/labs/pics/connect3p.png)\n",
        "\n",
        "\n",
        "Resulting in a dense, or fully connected network.\n",
        "\n",
        "![](https://raw.githubusercontent.com/zacharski/datamining-guide/master/labs/pics/connect4p.png)\n",
        "\n",
        "\n",
        "Each node in the output layer has 256 + 1 weights (256 because each node in the output layer is connected to each of the outputs of the 256 nodes in the hidden layer). Thus, there are 2,570 trainable parameters in the output layer for a total of 203,530 trainable parameters. These weights, or trainable parameters, are what the model learns during the training phase. Typically, these parameters are initially set to random numbers.\n",
        "\n",
        "The network in these images is shown with the input on the left and the output on the right and the processing proceeds left to right. The hidden layer performs the calculations described above Each node in the hidden layer has a specific output and these outputs are then processed by the output layer. If we had more layers to our network (for example, three hidden layers), the progression on calculations would be similar. When processing proceeds in this direction it is known as **forward propagation**. *Forward* meaning that the calculations proceed from the initial inputs to the final output.  Using forward propagation, the networks takes inputs representing an image of the number 4 as an example and the network makes a prediction which may be correct (*it is a 4*) or incorrect (*it is a 9*). In what is called a **back propagation** step, the system uses the actual label and the prediction to adjust the weights throughout the network. This will be described in more detail later.\n",
        "\n",
        "As François Chollet, creator of Keras says:  \n",
        "\n",
        "> The core building block of neural networks is the \"layer\", a data-processing module which you can conceive as a \"filter\" for data. Some \n",
        "data comes in, and comes out in a more useful form. Precisely, layers extract _representations_ out of the data fed into them -- hopefully \n",
        "representations that are more meaningful for the problem at hand. Most of deep learning really consists of chaining together simple layers \n",
        "which will implement a form of progressive \"data distillation\". A deep learning model is like a sieve for data processing, made of a \n",
        "succession of increasingly refined data filters -- the \"layers\".\n",
        "\n",
        " \n",
        "\n",
        "#### The total network.\n",
        "This network image above represents the basic architecture of our system\n",
        "\n",
        "* 784 inputs (the pixels of the MNIST image)\n",
        "* 256 densely connected nodes of the hidden layer\n",
        "* 10 output nodes represented the 10 possible classifications of an image (the digits 0 through 9)\n",
        "\n",
        "### Implementing in Keras\n",
        "\n",
        "Just to introduce some code, let us look how to implement this architecture:\n",
        "\n",
        "```\n",
        "from keras import models\n",
        "from keras import layers\n",
        "\n",
        "input_size=784 \n",
        "hidden_size = 256\n",
        "output_size = 10\n",
        "\n",
        "network = models.Sequential()\n",
        "network.add(layers.Dense(hidden_size, activation='relu', input_shape=(input_size,)))\n",
        "network.add(layers.Dense(output_size, activation='softmax'))\n",
        "\n",
        "```\n",
        "\n",
        "First, we set up some variables representing, as the variable names suggest, the input size (the 28 by 28 image contains 784 pixels, the number of hidden nodes (256), and the number of classes in the output (10).\n",
        "\n",
        "Next, we define `network`. `Sequential` creates a sequential container, which means that the layers we add are organized sequentially.\n",
        "\n",
        "The `add` method adds a layer to the network.\n",
        "\n",
        "* `Layers.dense` creates a dense (fully connected) layer. \n",
        "  * The first parameter is the size of the hidden layer---in our case `hidden_size`\n",
        "  * `activation=relu,` specifies we are using the ReLU activation function.\n",
        "  * `input_shape` specifies, as the name suggests, the shape of the input. In our case the 784 pixels of the image.\n",
        "* `network.add(layers.Dense(output_size, activation='softmax'))` Next we add another densely connected layer to our network. \n",
        "  * `output_size` There will be 10 nodes in this layer. Each node represents one of the possible labels for the image--the digits 0 through 9.\n",
        "  * `activation='softmax',` specifies we are using the softmax activation function. This function will give us the probabilies of the possible labels. (For ex., 80% sure it is a '5', etc)\n",
        "\n",
        "\n",
        "If we instead wanted 64 nodes in our hidden layer our code would be\n",
        "\n",
        "\n",
        "\n",
        "```\n",
        "from keras import models\n",
        "from keras import layers\n",
        "\n",
        "input_size=784 \n",
        "hidden_size = 64\n",
        "output_size = 10\n",
        "\n",
        "network = models.Sequential()\n",
        "network.add(layers.Dense(hidden_size, activation='relu', input_shape=(input_size,)))\n",
        "network.add(layers.Dense(output_size, activation='softmax'))\n",
        "\n",
        "```\n",
        "\n",
        "And if we wanted a network with two hidden layers , the first with 256 nodes and the second with 64 nodes we might code it...\n",
        "\n",
        "```\n",
        "from keras import models\n",
        "from keras import layers\n",
        "\n",
        "input_size=784 \n",
        "hidden_size = [256, 64]\n",
        "output_size = 10\n",
        "\n",
        "network = models.Sequential()\n",
        "network.add(layers.Dense(hidden_size[0], activation='relu', input_shape=(input_size,)))\n",
        "network.add(layers.Dense(hidden_size[1], activation='relu'))\n",
        "network.add(layers.Dense(output_size, activation='softmax'))\n",
        "\n",
        "```\n",
        "\n",
        "\n",
        "\n"
      ]
    },
    {
      "cell_type": "markdown",
      "metadata": {
        "id": "P_XKnAu30Hmp"
      },
      "source": [
        "\n",
        "### Workflow\n",
        "\n",
        "\n",
        "Our workflow will be as follow: \n",
        "\n",
        "1. we will create a neural network containing a fully connected hidden layer.\n",
        "2. we will present our neural network with the training data, `train_images` and `train_labels`. The \n",
        "network will then learn to associate images and labels by adjusting the 2,570 weights.\n",
        "3. we will ask the network to produce predictions for `test_images`\n",
        "4. we will verify if these predictions match the labels from `test_labels`.\n",
        "\n",
        "#### Let's build our network."
      ]
    },
    {
      "cell_type": "code",
      "execution_count": null,
      "metadata": {
        "id": "6I0sj6hW0Hmp"
      },
      "outputs": [],
      "source": [
        "from keras import models\n",
        "from keras import layers\n",
        "\n",
        "input_size=784 \n",
        "hidden_size = 256\n",
        "output_size = 10\n",
        "\n",
        "network = models.Sequential()\n",
        "network.add(layers.Dense(hidden_size, activation='relu', input_shape=(input_size,)))\n",
        "network.add(layers.Dense(output_size, activation='softmax'))"
      ]
    },
    {
      "cell_type": "markdown",
      "metadata": {
        "id": "ouiEONIe0Hms"
      },
      "source": [
        "\n",
        "The core building block of neural networks is the \"layer\", a data-processing module which you can conceive as a \"filter\" for data. Some \n",
        "data comes in, and comes out in a more useful form. Precisely, layers extract _representations_ out of the data fed into them -- hopefully \n",
        "representations that are more meaningful for the problem at hand. Most of deep learning really consists of chaining together simple layers \n",
        "which will implement a form of progressive \"data distillation\". A deep learning model is like a sieve for data processing, made of a \n",
        "succession of increasingly refined data filters -- the \"layers\".\n",
        "\n",
        "Here our network consists of a sequence of two `Dense` layers, which are densely-connected (also called \"fully-connected\") neural layers. \n",
        "The second (and last) layer is a 10-way \"softmax\" layer, which means it will return an array of 10 probability scores (summing to 1). Each \n",
        "score will be the probability that the current digit image belongs to one of our 10 digit classes.\n",
        "\n",
        "\n",
        "#### Compiling the model.\n",
        "To make our network ready for training, we need to pick three more things, as part of a compilation step:\n",
        "\n",
        "* An **optimizer**: this is the mechanism through which the network will update itself based on the data it sees and its loss function.\n",
        "* A **loss function**: this is how the network will be able to measure how good a job it is doing on its training data, and thus how it will be \n",
        "able to steer itself in the right direction.\n",
        "* **Metrics** to monitor during training and testing. Here we will only care about accuracy (the fraction of the images that were correctly \n",
        "classified).\n",
        "\n",
        "Keras makes this compilation step easy:"
      ]
    },
    {
      "cell_type": "code",
      "execution_count": null,
      "metadata": {
        "id": "tXUIZUwN0Hmt"
      },
      "outputs": [],
      "source": [
        "network.compile(optimizer='rmsprop',\n",
        "                loss='categorical_crossentropy',\n",
        "                metrics=['accuracy'])"
      ]
    },
    {
      "cell_type": "markdown",
      "metadata": {
        "id": "mcclDPL10Hmu"
      },
      "source": [
        "\n",
        "Why did we select categorical crossentropy as the loss function? From the Tensorflow documentation:\n",
        "\n",
        "> Use this crossentropy loss function when there are two or more label classes. We expect labels to be provided in a one_hot representation. If you want to provide labels as integers, please use SparseCategoricalCrossentropy loss. There should be # classes floating point values per feature.\n",
        "\n",
        "Note that the documentation says that we need to one_hot encode the labels. You probably already know this but that means if we are labeling pictures of dogs, cats, squirrel and moose and our test_labels look like\n",
        "\n",
        "picture | label\n",
        ":---:   | :---\n",
        "1.  | dog\n",
        "2. | dog\n",
        "3. | cat\n",
        "4. | squirel\n",
        "5. | cat\n",
        "6. | moose\n",
        "\n",
        "We will one_hot encode this resulting in \n",
        "\n",
        "\n",
        "picture | dog | cat | squirrel | moose\n",
        ":---: | :----: |:--: | :---: | :---:\n",
        " 1.     | 1 | 0 | 0 | 0\n",
        " 2. | 1 | 0| 0 | 0\n",
        " 3. | 0 | 1 | 0 | 0\n",
        " 4. | 0 | 0 | 1 | 0\n",
        " 5. | 0 | 1 |0 | 0\n",
        " 6. | 0|0|0|1\n",
        "\n",
        "And again, the `metrics=['accuracy']` line means that we are calculating the percentage of predicted values that match with actual values.\n",
        "\n",
        "\n",
        "### Preprocessing the data\n",
        "Before training, we will preprocess our data by reshaping it into the shape that the network expects, and scaling it so that all values are in \n",
        "the `[0, 1]` interval. Previously, our training images for instance were stored in an array of shape `(60000, 28, 28)` of type `uint8` with \n",
        "values in the `[0, 255]` interval. We transform it into a `float32` array of shape `(60000, 28 * 28)` with values between 0 and 1.\n",
        "\n",
        "In other words, each image in our original data was a 28x28 array of integers ranging from 0 to 255. We are going to transform the integers 0-255 to a float between 0 and 1. In addition we are going to flatten each image array to look like\n",
        "\n",
        "```\n",
        "[0, 1, 2, 3, 4, 5 ... 784 ]\n",
        "```\n"
      ]
    },
    {
      "cell_type": "code",
      "execution_count": null,
      "metadata": {
        "id": "h-tevXPN0Hmv",
        "colab": {
          "base_uri": "https://localhost:8080/"
        },
        "outputId": "20e1c100-3328-4d3b-b330-ab12b3433a79"
      },
      "outputs": [
        {
          "output_type": "execute_result",
          "data": {
            "text/plain": [
              "array([[0., 0., 0., ..., 0., 0., 0.],\n",
              "       [0., 0., 0., ..., 0., 0., 0.],\n",
              "       [0., 0., 0., ..., 0., 0., 0.],\n",
              "       [0., 0., 0., ..., 0., 0., 0.],\n",
              "       [0., 0., 0., ..., 0., 0., 0.]], dtype=float32)"
            ]
          },
          "metadata": {},
          "execution_count": 10
        }
      ],
      "source": [
        "train_images = train_images.reshape((60000, 28 * 28))\n",
        "train_images = train_images.astype('float32') / 255\n",
        "\n",
        "test_images = test_images.reshape((10000, 28 * 28))\n",
        "test_images = test_images.astype('float32') / 255\n",
        "test_images[:5]"
      ]
    },
    {
      "cell_type": "markdown",
      "metadata": {
        "id": "efw6Tx4x0Hmy"
      },
      "source": [
        "#### Here's a question:\n",
        "Why are we dividing each pixel by 255? What did the original number represent?\n",
        "\n",
        "The MNIST image dataset are being divided by 255 to normalize the data between 0 and 1. The original pixel values represent grayscale intensity values ranging from 0 to 255, where 0 represents black and 255 represents white. By dividing each pixel value by 255, we are scaling the pixel values to be between 0 and 1, which can help improve the convergence and performance of machine learning models.\n",
        "\n",
        "Normalizing the pixel values can also help ensure that the model is not biased towards any particular range of pixel intensities, and that it can generalize well to new images with different lighting conditions, contrasts, and color schemes. Additionally, normalization can help reduce the effects of outliers or extreme values in the dataset.\n",
        "\n",
        "#### Encode the labels\n",
        "We also need to categorically encode the labels:"
      ]
    },
    {
      "cell_type": "code",
      "execution_count": null,
      "metadata": {
        "id": "QBoQhwiX0Hmz"
      },
      "outputs": [],
      "source": [
        "from keras.utils import to_categorical\n",
        "\n",
        "train_labels = to_categorical(train_labels)\n",
        "test_labels = to_categorical(test_labels)"
      ]
    },
    {
      "cell_type": "markdown",
      "metadata": {
        "id": "eNSszmzz0Hm1"
      },
      "source": [
        "![](https://raw.githubusercontent.com/zacharski/datamining-guide/master/labs/pics/PyDivideTwo.png)\n",
        "\n",
        "## <font color='#EE4C2C'>1. What does the first test label look like? (print it out)</font> "
      ]
    },
    {
      "cell_type": "markdown",
      "metadata": {
        "id": "CUqOVP6RsfEF"
      },
      "source": [
        "The first test label after categorically encoding it would be an array of length 10, with a value of 1 at the index corresponding to the label and 0s everywhere else."
      ]
    },
    {
      "cell_type": "code",
      "execution_count": null,
      "metadata": {
        "id": "6de8eFdF0Hm1",
        "colab": {
          "base_uri": "https://localhost:8080/"
        },
        "outputId": "770231f8-aa81-41be-a9fb-e33afbe215c7"
      },
      "outputs": [
        {
          "output_type": "execute_result",
          "data": {
            "text/plain": [
              "array([0., 0., 0., 0., 0., 1., 0., 0., 0., 0.], dtype=float32)"
            ]
          },
          "metadata": {},
          "execution_count": 12
        }
      ],
      "source": [
        "train_labels[0]"
      ]
    },
    {
      "cell_type": "markdown",
      "metadata": {
        "id": "8VxQPQGrsfEF"
      },
      "source": [
        "This represents the digit 5, since the labels in the MNIST dataset range from 0 to 9. The array has a value of 1 at index 5 and 0s at all other indices, indicating that this image corresponds to the digit 5."
      ]
    },
    {
      "cell_type": "markdown",
      "metadata": {
        "id": "_3wWDY0g0Hm3"
      },
      "source": [
        "### Training our first deep learning model\n",
        "\n",
        "We are now ready to train our network, which, unsurprisingly, in Keras is done via a call to the `fit` method of the network: \n",
        "we \"fit\" the model to its training data."
      ]
    },
    {
      "cell_type": "code",
      "execution_count": null,
      "metadata": {
        "id": "3JQ7pH630Hm4",
        "colab": {
          "base_uri": "https://localhost:8080/"
        },
        "outputId": "b19e6eb2-1a76-401d-cd9e-fba02c9bc22b"
      },
      "outputs": [
        {
          "output_type": "stream",
          "name": "stdout",
          "text": [
            "Epoch 1/5\n",
            "469/469 [==============================] - 7s 3ms/step - loss: 0.2963 - accuracy: 0.9171\n",
            "Epoch 2/5\n",
            "469/469 [==============================] - 2s 3ms/step - loss: 0.1284 - accuracy: 0.9631\n",
            "Epoch 3/5\n",
            "469/469 [==============================] - 1s 3ms/step - loss: 0.0877 - accuracy: 0.9746\n",
            "Epoch 4/5\n",
            "469/469 [==============================] - 2s 5ms/step - loss: 0.0655 - accuracy: 0.9807\n",
            "Epoch 5/5\n",
            "469/469 [==============================] - 2s 5ms/step - loss: 0.0508 - accuracy: 0.9851\n"
          ]
        },
        {
          "output_type": "execute_result",
          "data": {
            "text/plain": [
              "<keras.callbacks.History at 0x7f1b72ba4250>"
            ]
          },
          "metadata": {},
          "execution_count": 13
        }
      ],
      "source": [
        "network.fit(train_images, train_labels, epochs=5, batch_size=128)"
      ]
    },
    {
      "cell_type": "markdown",
      "metadata": {
        "id": "37PUt_b-0Hm7"
      },
      "source": [
        "Two quantities are being displayed during training: the \"loss\" of the network over the training data, and the accuracy of the network over \n",
        "the training data.\n",
        "\n",
        "We quickly reach an accuracy of 0.989 (i.e. 98.9%) on the training data. Now let's check that our model performs well on the test set too:"
      ]
    },
    {
      "cell_type": "code",
      "execution_count": null,
      "metadata": {
        "id": "Ig8FrFXQ0Hm8",
        "colab": {
          "base_uri": "https://localhost:8080/"
        },
        "outputId": "2f4c236e-8bf1-4e3b-e14b-07d726a7308f"
      },
      "outputs": [
        {
          "output_type": "stream",
          "name": "stdout",
          "text": [
            "313/313 [==============================] - 2s 7ms/step - loss: 0.0815 - accuracy: 0.9759\n"
          ]
        }
      ],
      "source": [
        "test_loss, test_acc = network.evaluate(test_images, test_labels)"
      ]
    },
    {
      "cell_type": "code",
      "execution_count": null,
      "metadata": {
        "id": "u6QizHgB0Hm-",
        "colab": {
          "base_uri": "https://localhost:8080/"
        },
        "outputId": "55df66d0-bce0-4331-cd34-c56ba7eba02c"
      },
      "outputs": [
        {
          "output_type": "stream",
          "name": "stdout",
          "text": [
            "test_acc: 0.9758999943733215\n"
          ]
        }
      ],
      "source": [
        "print('test_acc:', test_acc)"
      ]
    },
    {
      "cell_type": "markdown",
      "metadata": {
        "id": "mEzOBPol0HnA"
      },
      "source": [
        "\n",
        "Our test set accuracy turns out to be 97.8% -- that's quite a bit lower than the training set accuracy. \n",
        "This gap between training accuracy and test accuracy is an example of \"overfitting\", \n",
        "the fact that machine learning models tend to perform worse on new data than on their training data. \n",
        "\n",
        "![](https://raw.githubusercontent.com/zacharski/datamining-guide/master/labs/pics/PyDivideTwo.png)\n",
        "\n",
        "## <font color='#EE4C2C'>2. Accuracy with 7 epochs</font> \n",
        "What is the accuracy on our test data if we use 7 epochs?  You will need to build, compile, and fit a new model.\n",
        "\n",
        "### Build"
      ]
    },
    {
      "cell_type": "code",
      "execution_count": null,
      "metadata": {
        "id": "i2awmR340HnA"
      },
      "outputs": [],
      "source": [
        "network = models.Sequential()\n",
        "network.add(layers.Dense(512, activation='relu', input_shape=(28 * 28,)))\n",
        "network.add(layers.Dense(10, activation='softmax'))"
      ]
    },
    {
      "cell_type": "markdown",
      "metadata": {
        "id": "8YdSlKfSwkFP"
      },
      "source": [
        "### Compile"
      ]
    },
    {
      "cell_type": "code",
      "execution_count": null,
      "metadata": {
        "id": "egIaBbbSwmLd"
      },
      "outputs": [],
      "source": [
        "network.compile(optimizer='rmsprop',\n",
        "                loss='categorical_crossentropy',\n",
        "                metrics=['accuracy'])"
      ]
    },
    {
      "cell_type": "markdown",
      "metadata": {
        "id": "P-ADsdlAwmnM"
      },
      "source": [
        "### Fit"
      ]
    },
    {
      "cell_type": "code",
      "execution_count": null,
      "metadata": {
        "id": "cWytfea1wreu",
        "colab": {
          "base_uri": "https://localhost:8080/"
        },
        "outputId": "d16fb527-5201-4449-cc75-69bfcd52dc6f"
      },
      "outputs": [
        {
          "output_type": "stream",
          "name": "stdout",
          "text": [
            "Epoch 1/7\n",
            "469/469 [==============================] - 2s 3ms/step - loss: 0.2635 - accuracy: 0.9238\n",
            "Epoch 2/7\n",
            "469/469 [==============================] - 2s 3ms/step - loss: 0.1067 - accuracy: 0.9685\n",
            "Epoch 3/7\n",
            "469/469 [==============================] - 2s 3ms/step - loss: 0.0711 - accuracy: 0.9791\n",
            "Epoch 4/7\n",
            "469/469 [==============================] - 2s 3ms/step - loss: 0.0508 - accuracy: 0.9845\n",
            "Epoch 5/7\n",
            "469/469 [==============================] - 2s 3ms/step - loss: 0.0381 - accuracy: 0.9892\n",
            "Epoch 6/7\n",
            "469/469 [==============================] - 2s 5ms/step - loss: 0.0285 - accuracy: 0.9916\n",
            "Epoch 7/7\n",
            "469/469 [==============================] - 2s 4ms/step - loss: 0.0216 - accuracy: 0.9936\n"
          ]
        },
        {
          "output_type": "execute_result",
          "data": {
            "text/plain": [
              "<keras.callbacks.History at 0x7f1b6acf5cd0>"
            ]
          },
          "metadata": {},
          "execution_count": 18
        }
      ],
      "source": [
        "network.fit(train_images, train_labels, epochs=7, batch_size=128)"
      ]
    },
    {
      "cell_type": "markdown",
      "metadata": {
        "id": "KM7ibNFWwtoi"
      },
      "source": [
        "### Accuracy"
      ]
    },
    {
      "cell_type": "code",
      "execution_count": null,
      "metadata": {
        "id": "_TZucb2gwxK-",
        "colab": {
          "base_uri": "https://localhost:8080/"
        },
        "outputId": "fb3f4ce8-3d76-49c0-f5f8-f982a9172503"
      },
      "outputs": [
        {
          "output_type": "stream",
          "name": "stdout",
          "text": [
            "313/313 [==============================] - 1s 3ms/step - loss: 0.0647 - accuracy: 0.9801\n",
            "test_acc: 0.9800999760627747\n"
          ]
        }
      ],
      "source": [
        "test_loss, test_acc = network.evaluate(test_images, test_labels)\n",
        "print('test_acc:', test_acc)"
      ]
    },
    {
      "cell_type": "markdown",
      "metadata": {
        "id": "HjZOO2O10HnD"
      },
      "source": [
        "![](https://raw.githubusercontent.com/zacharski/datamining-guide/master/labs/pics/PyDivideTwo.png)\n",
        "\n",
        "## <font color='#EE4C2C'>3. Accuracy without training</font> \n",
        "What is the accuracy on our test data using our network before we do any training (before `fit`)? You will need to build, and compile a new model."
      ]
    },
    {
      "cell_type": "code",
      "execution_count": null,
      "metadata": {
        "id": "lKR6VDnd0HnD"
      },
      "outputs": [],
      "source": [
        "network = models.Sequential()\n",
        "network.add(layers.Dense(512, activation='relu', input_shape=(28 * 28,)))\n",
        "network.add(layers.Dense(10, activation='softmax'))"
      ]
    },
    {
      "cell_type": "code",
      "execution_count": null,
      "metadata": {
        "id": "jdP1DMxjxB1H"
      },
      "outputs": [],
      "source": [
        "network.compile(optimizer='rmsprop',\n",
        "                loss='categorical_crossentropy',\n",
        "                metrics=['accuracy'])"
      ]
    },
    {
      "cell_type": "code",
      "execution_count": null,
      "metadata": {
        "colab": {
          "base_uri": "https://localhost:8080/"
        },
        "id": "i2XSrSvAsfEI",
        "outputId": "c6b21fb2-2397-4128-9ecc-d6eec703bf75"
      },
      "outputs": [
        {
          "output_type": "stream",
          "name": "stdout",
          "text": [
            "313/313 [==============================] - 1s 3ms/step - loss: 2.3346 - accuracy: 0.1235\n",
            "test_acc: 0.12349999696016312\n"
          ]
        }
      ],
      "source": [
        "test_loss, test_acc = network.evaluate(test_images, test_labels)\n",
        "print('test_acc:', test_acc)"
      ]
    },
    {
      "cell_type": "markdown",
      "metadata": {
        "id": "E4qA1lPZ0HnG"
      },
      "source": [
        "### Training\n",
        "As you can see from your above experiment, before we fit the model the accuracy was not very good. Before training, the weight are set at random (not exactly, but let's keep it simple for now). \n",
        "\n",
        "\n",
        "\n",
        "\n",
        "![](http://zacharski.org/files/courses/cs419/deepLearning.png)\n",
        "\n",
        "When we were fitting the model:\n",
        "\n",
        "     network.fit(train_images, train_labels, epochs=5, batch_size=128)\n",
        "    \n",
        "we processed 128 images at a time (this is called batch_size). Everytime we processed the images in that batch we calculated the loss and adjusted the weights to improve the network's  performance. Each time we go through the entire dataset we call it an epoch. So in our initial training, we went through the dataset 5 times.  Once we have gone through the data 5 times we stop and now we have a trained neural network. 'Trained' simply means that we have a network with the weight adjusted to reduce loss.\n",
        "\n",
        "#### Epochs \n",
        "Again, epochs are how many times we go through the training data. You may wonder, are more epochs always better. Stop for a moment and ponder this. \n",
        "\n",
        "* .\n",
        "* .\n",
        "* .\n",
        "* .\n",
        "If you need a clue let me mention bias and variance. \n",
        "\n",
        "In the next notebook we will be displaying both the accuracy on the training data and the accuracy on the validation error.  If at some point you see the training data accuracy still going gradually down, but the validation error going up. You may be overfitting your data.\n",
        "\n",
        "\n",
        "![](https://raw.githubusercontent.com/zacharski/datamining-guide/master/labs/pics/PyDivideTwo.png)\n",
        "\n",
        "## <font color='#EE4C2C'>4. Fashion</font> \n",
        "\n",
        "As a small first step try out the FashionMNIST dataset.\n",
        "\n",
        "\n",
        "![](https://raw.githubusercontent.com/zacharski/datamining-guide/master/labs/pics/clothing.gif)\n",
        "\n",
        "\n",
        "The dataset consists of small 28x28 grayscale image icons of different articles of clothing. There are 60,000 images in the training set and 10,000 in the test set. Each image has an associated label from a list of 10:\n",
        "\n",
        "\n",
        "| Label | Description |\n",
        "| --- | --- |\n",
        "| 0 | T-shirt/top |\n",
        "| 1 | Trouser |\n",
        "| 2 | Pullover |\n",
        "| 3 | Dress |\n",
        "| 4 | Coat |\n",
        "| 5 | Sandal |\n",
        "| 6 | Shirt |\n",
        "| 7 | Sneaker |\n",
        "| 8 | Bag |\n",
        "| 9 | Ankle boot |\n",
        "\n",
        "\n",
        "\n",
        "#### The files\n",
        "\n",
        "* Training set: [clothes_train.csv](http://zacharski.org/files/courses/cs419/clothes_train.csv)\n",
        "* Test set: [clothing_test.csv](http://zacharski.org/files/courses/cs419/cTest.csv) Note: Don't use the test set for training.\n",
        "\n",
        "Can you create a network with one hidden layer similar to the example above and train it?\n"
      ]
    },
    {
      "cell_type": "code",
      "execution_count": 41,
      "metadata": {
        "id": "2DZJmQ-g0HnG"
      },
      "outputs": [],
      "source": [
        "import pandas as pd\n",
        "\n",
        "# Load the data\n",
        "train_df = pd.read_csv('clothes_train.csv')\n",
        "test_df = pd.read_csv('cTest.csv')"
      ]
    },
    {
      "cell_type": "code",
      "execution_count": 42,
      "metadata": {
        "id": "uSdk1kU4sfEI"
      },
      "outputs": [],
      "source": [
        "# Separate the features (pixels) from the labels\n",
        "train_images = train_df.drop('label', axis=1).values\n",
        "train_labels = train_df['label'].values\n",
        "test_images = test_df.drop('label', axis=1).values\n",
        "test_labels = test_df['label'].values"
      ]
    },
    {
      "cell_type": "code",
      "execution_count": 43,
      "metadata": {
        "id": "MO_Df2KSsfEJ"
      },
      "outputs": [],
      "source": [
        "# Reshape the images to 28x28 pixels and normalize the pixel values\n",
        "train_images = train_images.reshape((60000, 28, 28, 1))\n",
        "train_images = train_images.astype('float32') / 255\n",
        "test_images = test_images.reshape((10000, 28, 28, 1))\n",
        "test_images = test_images.astype('float32') / 255"
      ]
    },
    {
      "cell_type": "code",
      "execution_count": 44,
      "metadata": {
        "id": "S3vdVmhlsfEJ"
      },
      "outputs": [],
      "source": [
        "# Categorically encode the labels\n",
        "train_labels = keras.utils.to_categorical(train_labels)\n",
        "test_labels = keras.utils.to_categorical(test_labels)"
      ]
    },
    {
      "cell_type": "code",
      "execution_count": 45,
      "metadata": {
        "id": "RYf8bakmsfEJ"
      },
      "outputs": [],
      "source": [
        "# Build the model\n",
        "model = keras.models.Sequential([\n",
        "    keras.layers.Flatten(input_shape=(28, 28, 1)),\n",
        "    keras.layers.Dense(128, activation='relu'),\n",
        "    keras.layers.Dense(10, activation='softmax')\n",
        "])"
      ]
    },
    {
      "cell_type": "code",
      "execution_count": 46,
      "metadata": {
        "id": "JtiEYTvosfEJ"
      },
      "outputs": [],
      "source": [
        "# Compile the model\n",
        "model.compile(optimizer='adam',\n",
        "              loss='categorical_crossentropy',\n",
        "              metrics=['accuracy'])"
      ]
    },
    {
      "cell_type": "code",
      "execution_count": 47,
      "metadata": {
        "id": "CSzdDEXhsfEJ",
        "outputId": "6c491eb7-4bdd-48f4-8f70-023abd605e72",
        "colab": {
          "base_uri": "https://localhost:8080/"
        }
      },
      "outputs": [
        {
          "output_type": "stream",
          "name": "stdout",
          "text": [
            "Epoch 1/5\n",
            "469/469 [==============================] - 3s 3ms/step - loss: 0.5570 - accuracy: 0.8081\n",
            "Epoch 2/5\n",
            "469/469 [==============================] - 2s 3ms/step - loss: 0.4071 - accuracy: 0.8571\n",
            "Epoch 3/5\n",
            "469/469 [==============================] - 1s 3ms/step - loss: 0.3674 - accuracy: 0.8685\n",
            "Epoch 4/5\n",
            "469/469 [==============================] - 2s 3ms/step - loss: 0.3418 - accuracy: 0.8773\n",
            "Epoch 5/5\n",
            "469/469 [==============================] - 2s 3ms/step - loss: 0.3233 - accuracy: 0.8830\n"
          ]
        },
        {
          "output_type": "execute_result",
          "data": {
            "text/plain": [
              "<keras.callbacks.History at 0x7f1b6ab95e50>"
            ]
          },
          "metadata": {},
          "execution_count": 47
        }
      ],
      "source": [
        "# Train the model\n",
        "model.fit(train_images, train_labels, epochs=5, batch_size=128)"
      ]
    },
    {
      "cell_type": "markdown",
      "metadata": {
        "id": "NgnlMXV90HnI"
      },
      "source": [
        "### What is its accuracy on the test data?"
      ]
    },
    {
      "cell_type": "code",
      "execution_count": 48,
      "metadata": {
        "id": "nR_lX8i90HnJ",
        "outputId": "874d4e74-d953-4988-d9fe-470e895205d4",
        "colab": {
          "base_uri": "https://localhost:8080/"
        }
      },
      "outputs": [
        {
          "output_type": "stream",
          "name": "stdout",
          "text": [
            "313/313 [==============================] - 1s 4ms/step - loss: 0.3285 - accuracy: 0.8820\n",
            "Test accuracy: 0.8820000290870667\n"
          ]
        }
      ],
      "source": [
        "# Evaluate the model on the test set\n",
        "test_loss, test_acc = model.evaluate(test_images, test_labels)\n",
        "print('Test accuracy:', test_acc)"
      ]
    },
    {
      "cell_type": "markdown",
      "metadata": {
        "id": "tY3fZL-l0HnL"
      },
      "source": [
        "![](https://raw.githubusercontent.com/zacharski/datamining-guide/master/labs/pics/PyDivideTwo.png)\n",
        "\n",
        "## <font color='#EE4C2C'>5. Two Hidden Layers</font> .\n",
        "Can you construct and train a new network that has two hidden layers \n",
        "(as before, the first layer can have 512 neurons - the second should have 256)? What is its accuracy on the test data? "
      ]
    },
    {
      "cell_type": "code",
      "execution_count": 49,
      "metadata": {
        "id": "OiuUUZs30HnL"
      },
      "outputs": [],
      "source": [
        "# Build the model\n",
        "network = models.Sequential()\n",
        "network.add(layers.Dense(512, activation='relu', input_shape=(28 * 28,)))\n",
        "network.add(layers.Dense(256, activation='relu'))\n",
        "network.add(layers.Dense(10, activation='softmax'))"
      ]
    },
    {
      "cell_type": "code",
      "execution_count": 50,
      "metadata": {
        "id": "CKi26FzDsfEK"
      },
      "outputs": [],
      "source": [
        "# Compile the model\n",
        "network.compile(optimizer='rmsprop',\n",
        "                loss='categorical_crossentropy',\n",
        "                metrics=['accuracy'])"
      ]
    },
    {
      "cell_type": "code",
      "execution_count": 51,
      "metadata": {
        "id": "xf1YdgumsfEK"
      },
      "outputs": [],
      "source": [
        "train_images = train_images.reshape((60000, 28 * 28))\n",
        "test_images = test_images.reshape((10000, 28 * 28))"
      ]
    },
    {
      "cell_type": "code",
      "execution_count": 52,
      "metadata": {
        "id": "SDpfhxqXsfEK",
        "outputId": "bd738609-70da-4f35-c861-861896ec926e",
        "colab": {
          "base_uri": "https://localhost:8080/"
        }
      },
      "outputs": [
        {
          "output_type": "stream",
          "name": "stdout",
          "text": [
            "Epoch 1/5\n",
            "469/469 [==============================] - 3s 5ms/step - loss: 0.5490 - accuracy: 0.7983\n",
            "Epoch 2/5\n",
            "469/469 [==============================] - 3s 6ms/step - loss: 0.3813 - accuracy: 0.8602\n",
            "Epoch 3/5\n",
            "469/469 [==============================] - 3s 6ms/step - loss: 0.3388 - accuracy: 0.8737\n",
            "Epoch 4/5\n",
            "469/469 [==============================] - 4s 8ms/step - loss: 0.3115 - accuracy: 0.8851\n",
            "Epoch 5/5\n",
            "469/469 [==============================] - 3s 6ms/step - loss: 0.2915 - accuracy: 0.8900\n"
          ]
        }
      ],
      "source": [
        "# Train the model\n",
        "history = network.fit(train_images, train_labels, epochs=5, batch_size=128)"
      ]
    },
    {
      "cell_type": "code",
      "execution_count": 53,
      "metadata": {
        "id": "XG1d-Y1DsfEK",
        "outputId": "2049c981-bc7b-4d51-b749-4a657c4145e7",
        "colab": {
          "base_uri": "https://localhost:8080/"
        }
      },
      "outputs": [
        {
          "output_type": "stream",
          "name": "stdout",
          "text": [
            "313/313 [==============================] - 1s 2ms/step - loss: 0.3221 - accuracy: 0.8830\n",
            "test_acc: 0.8830000162124634\n"
          ]
        }
      ],
      "source": [
        "test_loss, test_acc = network.evaluate(test_images, test_labels)\n",
        "\n",
        "print('test_acc:', test_acc)"
      ]
    },
    {
      "cell_type": "markdown",
      "metadata": {
        "id": "S8ll6Pz00HnO"
      },
      "source": [
        "![](https://raw.githubusercontent.com/zacharski/datamining-guide/master/labs/pics/torchdivide.png)\n",
        "\n",
        "## <font color='#EE4C2C'>6. Volcanos on Venus</font> \n",
        "![](https://upload.wikimedia.org/wikipedia/commons/1/16/Maat_Mons_on_Venus.jpg)\n",
        "\n",
        "\n",
        "### First, no one has been to Venus\n",
        "I felt I needed to say that upfront because we don't really know if there are volcanoes on Venus. An analysis of the data by experts is not 100% accurate so the labels are the experts best guess.\n",
        "\n",
        "The images are from NASA's Magellan spacecraft which was launched on May 4, 1989 and made it to Venus on August 10, 1990. Magellan mapped the surface of Venus using synthetic aperture radar. Some images have black blocks in them caused by either problems with Magellan or with communication back to earth. \n",
        "\n",
        "### The data\n",
        "The images are 110x110 grayscale pixels. The value of each pixel ranges from 0 to 255. Your task it to build a classifier that will predict whether a volcano is present in the image or not.\n",
        "\n",
        "#### The files\n",
        "\n",
        "* Training images: [volcanoes_train_images.csv](http://zacharski.org/files/courses/cs419/volcanoes_train_images.csv)\n",
        "* Training labels: [volcanoes_train_labels.csv](http://zacharski.org/files/courses/cs419/volcanoes_train_labels.csv) \n",
        "* Testing images: [volcanoes_test_images.csv](http://zacharski.org/files/courses/cs419/volcanoes_test_images.csv)\n",
        "* Testing labels: [volcanoes_test_labels.csv](http://zacharski.org/files/courses/cs419/volcanoes_test_labels.csv) \n",
        "\n",
        "\n",
        "\n",
        "\n",
        "## Tasks\n",
        "\n",
        "There are 5 tasks\n",
        "\n",
        "1. A simple task: Can you display a few of the images from the dataset?\n",
        "2. Build a model with one hidden layer. Train it for 2 epochs. What is it's accuracy?\n",
        "3. Build a model with one hidden layer. Train it for 10 epochs. What is it's accuracy? \n",
        "4. Does increasing the epochs beyond 10 improve accuracy?\n",
        "5. Build a model with 2 hidden layers and test."
      ]
    },
    {
      "cell_type": "markdown",
      "metadata": {
        "id": "Puv0Uws2sfEL"
      },
      "source": [
        "### Task 1"
      ]
    },
    {
      "cell_type": "code",
      "execution_count": 55,
      "metadata": {
        "id": "6ZFUG8Fx0HnO",
        "outputId": "8b52ac60-972d-4da5-d5ee-6643dab5b890",
        "colab": {
          "base_uri": "https://localhost:8080/",
          "height": 1000
        }
      },
      "outputs": [
        {
          "output_type": "display_data",
          "data": {
            "text/plain": [
              "<Figure size 640x480 with 1 Axes>"
            ],
            "image/png": "[encoded data removed]"
          },
          "metadata": {}
        },
        {
          "output_type": "display_data",
          "data": {
            "text/plain": [
              "<Figure size 640x480 with 1 Axes>"
            ],
            "image/png": "[encoded data removed]"
          },
          "metadata": {}
        },
        {
          "output_type": "display_data",
          "data": {
            "text/plain": [
              "<Figure size 640x480 with 1 Axes>"
            ],
            "image/png": "[encoded data removed]"
          },
          "metadata": {}
        },
        {
          "output_type": "display_data",
          "data": {
            "text/plain": [
              "<Figure size 640x480 with 1 Axes>"
            ],
            "image/png": "[encoded data removed]"
          },
          "metadata": {}
        },
        {
          "output_type": "display_data",
          "data": {
            "text/plain": [
              "<Figure size 640x480 with 1 Axes>"
            ],
            "image/png": "[encoded data removed]"
          },
          "metadata": {}
        }
      ],
      "source": [
        "import numpy as np\n",
        "import matplotlib.pyplot as plt\n",
        "\n",
        "# Load the training images\n",
        "train_images = np.loadtxt('volcanoes_train_images.csv', delimiter=',')\n",
        "\n",
        "# Select a few random images to display\n",
        "num_images = 5\n",
        "random_indices = np.random.choice(train_images.shape[0], num_images, replace=False)\n",
        "images_to_display = train_images[random_indices]\n",
        "\n",
        "# Reshape the images to their original size\n",
        "images_to_display = images_to_display.reshape((-1, 110, 110))\n",
        "\n",
        "# Display the images\n",
        "for i in range(num_images):\n",
        "    plt.imshow(images_to_display[i], cmap='gray')\n",
        "    plt.show()"
      ]
    },
    {
      "cell_type": "markdown",
      "metadata": {
        "id": "CfaIBXN_0HnQ"
      },
      "source": [
        "### Task 2"
      ]
    },
    {
      "cell_type": "code",
      "execution_count": 56,
      "metadata": {
        "id": "6orjU6IYsfEM"
      },
      "outputs": [],
      "source": [
        "import pandas as pd \n",
        "\n",
        "# Load training and testing data\n",
        "train_images = pd.read_csv('volcanoes_train_images.csv', header=None)\n",
        "train_labels = pd.read_csv('volcanoes_train_labels.csv', header=None)\n",
        "test_images = pd.read_csv('volcanoes_test_images.csv', header=None)\n",
        "test_labels = pd.read_csv('volcanoes_test_labels.csv', header=None)"
      ]
    },
    {
      "cell_type": "code",
      "execution_count": 57,
      "metadata": {
        "id": "ozjWDwFNsfEM"
      },
      "outputs": [],
      "source": [
        "train_labels = train_labels[0][1:]\n",
        "test_labels = test_labels[0][1:]"
      ]
    },
    {
      "cell_type": "code",
      "execution_count": 58,
      "metadata": {
        "id": "HkepiU9S0HnS"
      },
      "outputs": [],
      "source": [
        "# Preprocess the data\n",
        "train_images = np.array(train_images).astype('float32') / 255.0\n",
        "test_images = np.array(test_images).astype('float32') / 255.0\n",
        "\n",
        "# Convert labels to categorical one-hot encoded vectors\n",
        "train_labels = to_categorical(train_labels)\n",
        "test_labels = to_categorical(test_labels)"
      ]
    },
    {
      "cell_type": "code",
      "execution_count": 59,
      "metadata": {
        "id": "uQ1k0CCCsfEN"
      },
      "outputs": [],
      "source": [
        "# Build the model\n",
        "model = models.Sequential()\n",
        "model.add(layers.Dense(256, activation='relu', input_shape=(110*110,)))\n",
        "model.add(layers.Dense(2, activation='softmax'))"
      ]
    },
    {
      "cell_type": "code",
      "execution_count": 60,
      "metadata": {
        "id": "LLdOuPwRsfEN"
      },
      "outputs": [],
      "source": [
        "# Compile the model\n",
        "model.compile(optimizer='adam',\n",
        "              loss='categorical_crossentropy',\n",
        "              metrics=['accuracy'])"
      ]
    },
    {
      "cell_type": "code",
      "execution_count": 61,
      "metadata": {
        "id": "v-7R8__HsfEN",
        "outputId": "2cb21db5-b652-4f91-bbd1-913afb8a537f",
        "colab": {
          "base_uri": "https://localhost:8080/"
        }
      },
      "outputs": [
        {
          "output_type": "stream",
          "name": "stdout",
          "text": [
            "Epoch 1/2\n",
            "55/55 [==============================] - 2s 7ms/step - loss: 1.6324 - accuracy: 0.8061\n",
            "Epoch 2/2\n",
            "55/55 [==============================] - 0s 7ms/step - loss: 0.4070 - accuracy: 0.8567\n"
          ]
        },
        {
          "output_type": "execute_result",
          "data": {
            "text/plain": [
              "<keras.callbacks.History at 0x7f1a58b08310>"
            ]
          },
          "metadata": {},
          "execution_count": 61
        }
      ],
      "source": [
        "# Train the model for 2 epochs\n",
        "model.fit(train_images, train_labels, epochs=2, batch_size=128)"
      ]
    },
    {
      "cell_type": "code",
      "execution_count": 62,
      "metadata": {
        "id": "ldsleQRDsfEN",
        "outputId": "801cd1de-fbdf-4304-dcaa-68973ec65f8d",
        "colab": {
          "base_uri": "https://localhost:8080/"
        }
      },
      "outputs": [
        {
          "output_type": "stream",
          "name": "stdout",
          "text": [
            "86/86 [==============================] - 0s 3ms/step - loss: 0.4119 - accuracy: 0.8402\n",
            "Test accuracy: 0.8401609659194946\n"
          ]
        }
      ],
      "source": [
        "# Evaluate the model on the test set\n",
        "test_loss, test_acc = model.evaluate(test_images, test_labels)\n",
        "print('Test accuracy:', test_acc)"
      ]
    },
    {
      "cell_type": "markdown",
      "metadata": {
        "id": "74NCIVGvsfEN"
      },
      "source": [
        "### Task 3"
      ]
    },
    {
      "cell_type": "code",
      "execution_count": 63,
      "metadata": {
        "id": "A6YM0FuesfEN"
      },
      "outputs": [],
      "source": [
        "# Compile the model\n",
        "model.compile(optimizer='adam',\n",
        "              loss='categorical_crossentropy',\n",
        "              metrics=['accuracy'])"
      ]
    },
    {
      "cell_type": "code",
      "execution_count": 64,
      "metadata": {
        "id": "HJKKKVNjsfEO",
        "outputId": "2a4f6c0d-9057-4eb7-d162-db32d256d90d",
        "colab": {
          "base_uri": "https://localhost:8080/"
        }
      },
      "outputs": [
        {
          "output_type": "stream",
          "name": "stdout",
          "text": [
            "Epoch 1/10\n",
            "55/55 [==============================] - 1s 9ms/step - loss: 0.7207 - accuracy: 0.8203\n",
            "Epoch 2/10\n",
            "55/55 [==============================] - 0s 8ms/step - loss: 0.4366 - accuracy: 0.8467\n",
            "Epoch 3/10\n",
            "55/55 [==============================] - 0s 8ms/step - loss: 0.3771 - accuracy: 0.8617\n",
            "Epoch 4/10\n",
            "55/55 [==============================] - 0s 8ms/step - loss: 0.4334 - accuracy: 0.8426\n",
            "Epoch 5/10\n",
            "55/55 [==============================] - 0s 8ms/step - loss: 0.3358 - accuracy: 0.8696\n",
            "Epoch 6/10\n",
            "55/55 [==============================] - 0s 8ms/step - loss: 0.3517 - accuracy: 0.8734\n",
            "Epoch 7/10\n",
            "55/55 [==============================] - 0s 7ms/step - loss: 0.3041 - accuracy: 0.8791\n",
            "Epoch 8/10\n",
            "55/55 [==============================] - 0s 7ms/step - loss: 0.2973 - accuracy: 0.8824\n",
            "Epoch 9/10\n",
            "55/55 [==============================] - 0s 7ms/step - loss: 0.3393 - accuracy: 0.8761\n",
            "Epoch 10/10\n",
            "55/55 [==============================] - 0s 7ms/step - loss: 0.3888 - accuracy: 0.8601\n"
          ]
        },
        {
          "output_type": "execute_result",
          "data": {
            "text/plain": [
              "<keras.callbacks.History at 0x7f1a58b29460>"
            ]
          },
          "metadata": {},
          "execution_count": 64
        }
      ],
      "source": [
        "# Train the model for 10 epochs\n",
        "model.fit(train_images, train_labels, epochs=10, batch_size=128)"
      ]
    },
    {
      "cell_type": "code",
      "execution_count": 65,
      "metadata": {
        "id": "7PdX7DctsfEO",
        "outputId": "ec2c4d76-cf47-489c-a9a9-bb6f8bf8ec15",
        "colab": {
          "base_uri": "https://localhost:8080/"
        }
      },
      "outputs": [
        {
          "output_type": "stream",
          "name": "stdout",
          "text": [
            "86/86 [==============================] - 0s 3ms/step - loss: 0.3035 - accuracy: 0.8859\n",
            "Test accuracy: 0.8858814835548401\n"
          ]
        }
      ],
      "source": [
        "# Evaluate the model on the test set\n",
        "test_loss, test_acc = model.evaluate(test_images, test_labels)\n",
        "print('Test accuracy:', test_acc)"
      ]
    },
    {
      "cell_type": "markdown",
      "metadata": {
        "id": "wlDONJ4PsfEO"
      },
      "source": [
        "### Task 4"
      ]
    },
    {
      "cell_type": "markdown",
      "metadata": {
        "id": "gyfFHuLtsfEO"
      },
      "source": [
        "It appears that increasing the number of epochs from 2 to 10 did not significantly improve the accuracy, as the difference is only about 0.001. However, it's possible that increasing the number of epochs beyond 10 might lead to further improvements in accuracy. It's important to keep in mind that increasing the number of epochs can also increase the risk of overfitting, so it's important to monitor the validation loss as well to make sure the model is not overfitting to the training data."
      ]
    },
    {
      "cell_type": "markdown",
      "metadata": {
        "id": "zGqBknMusfEO"
      },
      "source": [
        "### Task 5"
      ]
    },
    {
      "cell_type": "code",
      "execution_count": 66,
      "metadata": {
        "id": "1wjgZWPjsfEO"
      },
      "outputs": [],
      "source": [
        "model = models.Sequential([\n",
        "    layers.Flatten(input_shape=(110*110,)),  # flatten the 110x110 images into a 1D array\n",
        "    layers.Dense(64, activation='relu'),  # first hidden layer with 64 units and ReLU activation\n",
        "    layers.Dense(32, activation='relu'),  # second hidden layer with 32 units and ReLU activation\n",
        "    layers.Dense(2, activation='sigmoid')  # output layer with 1 unit and sigmoid activation for binary classification\n",
        "])"
      ]
    },
    {
      "cell_type": "code",
      "execution_count": 67,
      "metadata": {
        "id": "WEN4mjdHsfEP",
        "outputId": "1ac64640-60cd-452e-ae00-a9e063842d5d",
        "colab": {
          "base_uri": "https://localhost:8080/"
        }
      },
      "outputs": [
        {
          "output_type": "stream",
          "name": "stdout",
          "text": [
            "Model: \"sequential_7\"\n",
            "_________________________________________________________________\n",
            " Layer (type)                Output Shape              Param #   \n",
            "=================================================================\n",
            " flatten_1 (Flatten)         (None, 12100)             0         \n",
            "                                                                 \n",
            " dense_15 (Dense)            (None, 64)                774464    \n",
            "                                                                 \n",
            " dense_16 (Dense)            (None, 32)                2080      \n",
            "                                                                 \n",
            " dense_17 (Dense)            (None, 2)                 66        \n",
            "                                                                 \n",
            "=================================================================\n",
            "Total params: 776,610\n",
            "Trainable params: 776,610\n",
            "Non-trainable params: 0\n",
            "_________________________________________________________________\n"
          ]
        }
      ],
      "source": [
        "model.compile(optimizer='adam', loss='binary_crossentropy', metrics=['accuracy'])\n",
        "model.summary()"
      ]
    },
    {
      "cell_type": "code",
      "execution_count": 68,
      "metadata": {
        "id": "larkhwgKsfEP",
        "outputId": "8810e26e-3c59-41fd-8a94-fa7804834313",
        "colab": {
          "base_uri": "https://localhost:8080/"
        }
      },
      "outputs": [
        {
          "output_type": "stream",
          "name": "stdout",
          "text": [
            "Epoch 1/10\n",
            "55/55 [==============================] - 2s 6ms/step - loss: 0.4585 - accuracy: 0.8434\n",
            "Epoch 2/10\n",
            "55/55 [==============================] - 0s 7ms/step - loss: 0.4187 - accuracy: 0.8571\n",
            "Epoch 3/10\n",
            "55/55 [==============================] - 0s 9ms/step - loss: 0.4154 - accuracy: 0.8571\n",
            "Epoch 4/10\n",
            "55/55 [==============================] - 0s 8ms/step - loss: 0.4102 - accuracy: 0.8570\n",
            "Epoch 5/10\n",
            "55/55 [==============================] - 0s 8ms/step - loss: 0.3952 - accuracy: 0.8570\n",
            "Epoch 6/10\n",
            "55/55 [==============================] - 0s 9ms/step - loss: 0.3850 - accuracy: 0.8567\n",
            "Epoch 7/10\n",
            "55/55 [==============================] - 0s 9ms/step - loss: 0.3736 - accuracy: 0.8566\n",
            "Epoch 8/10\n",
            "55/55 [==============================] - 0s 7ms/step - loss: 0.3534 - accuracy: 0.8580\n",
            "Epoch 9/10\n",
            "55/55 [==============================] - 0s 6ms/step - loss: 0.3558 - accuracy: 0.8651\n",
            "Epoch 10/10\n",
            "55/55 [==============================] - 0s 6ms/step - loss: 0.3462 - accuracy: 0.8631\n"
          ]
        }
      ],
      "source": [
        "history = model.fit(train_images, train_labels, epochs=10, batch_size=128)"
      ]
    },
    {
      "cell_type": "code",
      "execution_count": 69,
      "metadata": {
        "id": "WhayTQDXsfEP",
        "outputId": "2906f3c4-84a5-4e0f-cf72-e18eda3796c9",
        "colab": {
          "base_uri": "https://localhost:8080/"
        }
      },
      "outputs": [
        {
          "output_type": "stream",
          "name": "stdout",
          "text": [
            "86/86 [==============================] - 0s 3ms/step - loss: 0.3540 - accuracy: 0.8449\n",
            "Test accuracy: 0.8449158668518066\n"
          ]
        }
      ],
      "source": [
        "test_loss, test_acc = model.evaluate(test_images, test_labels)\n",
        "print('Test accuracy:', test_acc)"
      ]
    },
    {
      "cell_type": "markdown",
      "metadata": {
        "id": "1oPtUCBi0HnU"
      },
      "source": [
        "#### Remix\n",
        "Remix by Ron Zacharski. Orginal Python notebook by François Chollet\n",
        "\n",
        "### MIT License\n",
        "\n",
        "Copyright (c) 2017 François Chollet\n",
        "\n",
        "Permission is hereby granted, free of charge, to any person obtaining a copy\n",
        "of this software and associated documentation files (the \"Software\"), to deal\n",
        "in the Software without restriction, including without limitation the rights\n",
        "to use, copy, modify, merge, publish, distribute, sublicense, and/or sell\n",
        "copies of the Software, and to permit persons to whom the Software is\n",
        "furnished to do so, subject to the following conditions:\n",
        "\n",
        "The above copyright notice and this permission notice shall be included in all\n",
        "copies or substantial portions of the Software.\n",
        "\n",
        "THE SOFTWARE IS PROVIDED \"AS IS\", WITHOUT WARRANTY OF ANY KIND, EXPRESS OR\n",
        "IMPLIED, INCLUDING BUT NOT LIMITED TO THE WARRANTIES OF MERCHANTABILITY,\n",
        "FITNESS FOR A PARTICULAR PURPOSE AND NONINFRINGEMENT. IN NO EVENT SHALL THE\n",
        "AUTHORS OR COPYRIGHT HOLDERS BE LIABLE FOR ANY CLAIM, DAMAGES OR OTHER\n",
        "LIABILITY, WHETHER IN AN ACTION OF CONTRACT, TORT OR OTHERWISE, ARISING FROM,\n",
        "OUT OF OR IN CONNECTION WITH THE SOFTWARE OR THE USE OR OTHER DEALINGS IN THE\n",
        "SOFTWARE."
      ]
    }
  ],
  "metadata": {
    "accelerator": "GPU",
    "colab": {
      "provenance": [],
      "toc_visible": true
    },
    "kernelspec": {
      "display_name": "Python 3 (ipykernel)",
      "language": "python",
      "name": "python3"
    },
    "language_info": {
      "codemirror_mode": {
        "name": "ipython",
        "version": 3
      },
      "file_extension": ".py",
      "mimetype": "text/x-python",
      "name": "python",
      "nbconvert_exporter": "python",
      "pygments_lexer": "ipython3",
      "version": "3.9.13"
    }
  },
  "nbformat": 4,
  "nbformat_minor": 0
}