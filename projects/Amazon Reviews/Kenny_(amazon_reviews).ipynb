{
  "cells": [
    {
      "cell_type": "markdown",
      "id": "431de7ba-12f2-4517-9eb9-0d0046c8004a",
      "metadata": {
        "id": "431de7ba-12f2-4517-9eb9-0d0046c8004a"
      },
      "source": [
        "### Context"
      ]
    },
    {
      "cell_type": "markdown",
      "id": "d8045f38-a620-4db1-96ff-08f8ff0616e0",
      "metadata": {
        "id": "d8045f38-a620-4db1-96ff-08f8ff0616e0"
      },
      "source": [
        "Welcome to this Jupyter notebook that focuses on analyzing the Amazon Musical Instrument Reviews dataset. This dataset contains over 221,000 reviews of musical instruments sold on Amazon. In this project, we will be using this dataset to develop a classifier that predicts whether a review is positive, neutral, or negative.\n",
        "\n",
        "Web commerce sites often receive vast amounts of feedback from customers, making it impractical to analyze all the data manually. With the help of machine learning, we can develop a classifier that automates the process of identifying positive, neutral, and negative reviews.\n",
        "\n",
        "The dataset contains several columns, such as the reviewer's ID, the product's ID, the review's text, and the rating. We will use these columns to train our classifier to predict the rating of the reviews.\n",
        "\n",
        "To test our classifier, we will run it on the test data, and our predictions will be stored in a text file named amazonReviewsPredictions.txt. To ensure the format of our output file is correct, we will use the provided test function.\n",
        "\n",
        "In the following sections of this notebook, we will explore the dataset, preprocess the data, and train our classifier. Finally, we will evaluate our model's performance on the test data and generate predictions for this specific test set. Let us get into it!"
      ]
    },
    {
      "cell_type": "markdown",
      "id": "6b728fa9-638a-49cf-9658-9161268abd1f",
      "metadata": {
        "id": "6b728fa9-638a-49cf-9658-9161268abd1f"
      },
      "source": [
        "### Libraries"
      ]
    },
    {
      "cell_type": "code",
      "execution_count": null,
      "id": "6dc0a16f-cf80-4622-a150-8b75a956035b",
      "metadata": {
        "id": "6dc0a16f-cf80-4622-a150-8b75a956035b"
      },
      "outputs": [],
      "source": [
        "import pandas as pd\n",
        "import numpy as np\n",
        "import matplotlib.pyplot as plt\n",
        "import seaborn as sns\n",
        "\n",
        "import re\n",
        "import nltk\n",
        "import string\n",
        "from nltk.corpus import stopwords\n",
        "from nltk.stem.porter import PorterStemmer\n",
        "from nltk.tokenize import word_tokenize, sent_tokenize\n",
        "from nltk.stem.wordnet import WordNetLemmatizer\n",
        "from sklearn.model_selection import train_test_split\n",
        "\n",
        "import tensorflow as tf\n",
        "from keras.utils import to_categorical\n",
        "from tensorflow.keras.models import Sequential\n",
        "from tensorflow.keras.layers import Embedding, Conv1D, GlobalMaxPooling1D, Dense\n",
        "from tensorflow.keras.preprocessing.text import Tokenizer\n",
        "from tensorflow.keras.preprocessing.sequence import pad_sequences"
      ]
    },
    {
      "cell_type": "markdown",
      "id": "5755de9f-a8b1-47d9-8067-23398d4130e6",
      "metadata": {
        "id": "5755de9f-a8b1-47d9-8067-23398d4130e6"
      },
      "source": [
        "### Data reading"
      ]
    },
    {
      "cell_type": "code",
      "execution_count": null,
      "id": "596e63b5-bb6d-4d46-b065-fe1453545097",
      "metadata": {
        "id": "596e63b5-bb6d-4d46-b065-fe1453545097"
      },
      "outputs": [],
      "source": [
        "# reading the datasets\n",
        "train = pd.read_csv('amazonReviewsTrain.csv', low_memory=False)\n",
        "test = pd.read_csv('amazonReviewsTest.csv')"
      ]
    },
    {
      "cell_type": "code",
      "execution_count": null,
      "id": "9a04286a-5e87-4d76-b0ea-66b5395f31c0",
      "metadata": {
        "id": "9a04286a-5e87-4d76-b0ea-66b5395f31c0",
        "outputId": "ed935ee8-6531-450d-a230-44e212f2caba"
      },
      "outputs": [
        {
          "data": {
            "text/plain": [
              "((221392, 12), (10000, 11))"
            ]
          },
          "execution_count": 3,
          "metadata": {},
          "output_type": "execute_result"
        }
      ],
      "source": [
        "train.shape, test.shape"
      ]
    },
    {
      "cell_type": "code",
      "execution_count": null,
      "id": "72546bcf-4c27-4c46-9ff0-c0d39453ccc2",
      "metadata": {
        "id": "72546bcf-4c27-4c46-9ff0-c0d39453ccc2",
        "outputId": "df45d0b0-0ad8-48ad-c209-87a0ef281b87"
      },
      "outputs": [
        {
          "data": {
            "text/html": [
              "<div>\n",
              "<style scoped>\n",
              "    .dataframe tbody tr th:only-of-type {\n",
              "        vertical-align: middle;\n",
              "    }\n",
              "\n",
              "    .dataframe tbody tr th {\n",
              "        vertical-align: top;\n",
              "    }\n",
              "\n",
              "    .dataframe thead th {\n",
              "        text-align: right;\n",
              "    }\n",
              "</style>\n",
              "<table border=\"1\" class=\"dataframe\">\n",
              "  <thead>\n",
              "    <tr style=\"text-align: right;\">\n",
              "      <th></th>\n",
              "      <th>verified</th>\n",
              "      <th>reviewTime</th>\n",
              "      <th>reviewerID</th>\n",
              "      <th>asin</th>\n",
              "      <th>reviewerName</th>\n",
              "      <th>reviewText</th>\n",
              "      <th>summary</th>\n",
              "      <th>unixReviewTime</th>\n",
              "      <th>vote</th>\n",
              "      <th>style</th>\n",
              "      <th>image</th>\n",
              "      <th>rating</th>\n",
              "    </tr>\n",
              "  </thead>\n",
              "  <tbody>\n",
              "    <tr>\n",
              "      <th>0</th>\n",
              "      <td>True</td>\n",
              "      <td>05 4, 2017</td>\n",
              "      <td>A2QNLVLQHW6OOC</td>\n",
              "      <td>B00NEZNT74</td>\n",
              "      <td>Jason L.</td>\n",
              "      <td>Have 30 of these in operation great lights</td>\n",
              "      <td>Five Stars</td>\n",
              "      <td>1493856000</td>\n",
              "      <td>NaN</td>\n",
              "      <td>{'Size:': ' 4PC'}</td>\n",
              "      <td>NaN</td>\n",
              "      <td>positive</td>\n",
              "    </tr>\n",
              "    <tr>\n",
              "      <th>1</th>\n",
              "      <td>True</td>\n",
              "      <td>12 1, 2014</td>\n",
              "      <td>A32SHV461SUWNQ</td>\n",
              "      <td>B002Q0WTCE</td>\n",
              "      <td>Richard C.</td>\n",
              "      <td>Good replacement.  I prefer my Rovner L5, but ...</td>\n",
              "      <td>Good replacement. I prefer my Rovner L5</td>\n",
              "      <td>1417392000</td>\n",
              "      <td>NaN</td>\n",
              "      <td>NaN</td>\n",
              "      <td>NaN</td>\n",
              "      <td>positive</td>\n",
              "    </tr>\n",
              "    <tr>\n",
              "      <th>2</th>\n",
              "      <td>True</td>\n",
              "      <td>12 23, 2015</td>\n",
              "      <td>A2SKHG5ULPYIMC</td>\n",
              "      <td>B0002GFP9I</td>\n",
              "      <td>BellaLatinaReina-ACP Zero-Nine-Five</td>\n",
              "      <td>My son &amp; band teacher loves it. Really nice. B...</td>\n",
              "      <td>Really Helps With Their Practice Pad</td>\n",
              "      <td>1450828800</td>\n",
              "      <td>NaN</td>\n",
              "      <td>NaN</td>\n",
              "      <td>NaN</td>\n",
              "      <td>positive</td>\n",
              "    </tr>\n",
              "    <tr>\n",
              "      <th>3</th>\n",
              "      <td>True</td>\n",
              "      <td>09 4, 2013</td>\n",
              "      <td>A2MFJ6C67AL015</td>\n",
              "      <td>B003AJVKDO</td>\n",
              "      <td>BOS116</td>\n",
              "      <td>This was a gift for a friend who is a fan of t...</td>\n",
              "      <td>Guitar picks</td>\n",
              "      <td>1378252800</td>\n",
              "      <td>NaN</td>\n",
              "      <td>{'Color:': ' Logo'}</td>\n",
              "      <td>NaN</td>\n",
              "      <td>positive</td>\n",
              "    </tr>\n",
              "    <tr>\n",
              "      <th>4</th>\n",
              "      <td>True</td>\n",
              "      <td>08 28, 2015</td>\n",
              "      <td>ACYCDUUE9A3T2</td>\n",
              "      <td>B004XNK7AI</td>\n",
              "      <td>jack edwards</td>\n",
              "      <td>Wish it would attach to my violin a little eas...</td>\n",
              "      <td>... to my violin a little easier but it works ...</td>\n",
              "      <td>1440720000</td>\n",
              "      <td>NaN</td>\n",
              "      <td>{'Color:': ' Black - SN-5'}</td>\n",
              "      <td>NaN</td>\n",
              "      <td>positive</td>\n",
              "    </tr>\n",
              "  </tbody>\n",
              "</table>\n",
              "</div>"
            ],
            "text/plain": [
              "   verified   reviewTime      reviewerID        asin  \\\n",
              "0      True   05 4, 2017  A2QNLVLQHW6OOC  B00NEZNT74   \n",
              "1      True   12 1, 2014  A32SHV461SUWNQ  B002Q0WTCE   \n",
              "2      True  12 23, 2015  A2SKHG5ULPYIMC  B0002GFP9I   \n",
              "3      True   09 4, 2013  A2MFJ6C67AL015  B003AJVKDO   \n",
              "4      True  08 28, 2015   ACYCDUUE9A3T2  B004XNK7AI   \n",
              "\n",
              "                          reviewerName  \\\n",
              "0                             Jason L.   \n",
              "1                           Richard C.   \n",
              "2  BellaLatinaReina-ACP Zero-Nine-Five   \n",
              "3                               BOS116   \n",
              "4                         jack edwards   \n",
              "\n",
              "                                          reviewText  \\\n",
              "0         Have 30 of these in operation great lights   \n",
              "1  Good replacement.  I prefer my Rovner L5, but ...   \n",
              "2  My son & band teacher loves it. Really nice. B...   \n",
              "3  This was a gift for a friend who is a fan of t...   \n",
              "4  Wish it would attach to my violin a little eas...   \n",
              "\n",
              "                                             summary  unixReviewTime vote  \\\n",
              "0                                         Five Stars      1493856000  NaN   \n",
              "1            Good replacement. I prefer my Rovner L5      1417392000  NaN   \n",
              "2               Really Helps With Their Practice Pad      1450828800  NaN   \n",
              "3                                       Guitar picks      1378252800  NaN   \n",
              "4  ... to my violin a little easier but it works ...      1440720000  NaN   \n",
              "\n",
              "                         style image    rating  \n",
              "0            {'Size:': ' 4PC'}   NaN  positive  \n",
              "1                          NaN   NaN  positive  \n",
              "2                          NaN   NaN  positive  \n",
              "3          {'Color:': ' Logo'}   NaN  positive  \n",
              "4  {'Color:': ' Black - SN-5'}   NaN  positive  "
            ]
          },
          "execution_count": 4,
          "metadata": {},
          "output_type": "execute_result"
        }
      ],
      "source": [
        "train.head()"
      ]
    },
    {
      "cell_type": "code",
      "execution_count": null,
      "id": "0f77ac84-05b3-42a7-84df-23cc58da37ed",
      "metadata": {
        "id": "0f77ac84-05b3-42a7-84df-23cc58da37ed",
        "outputId": "d010b5f6-3366-429f-ff55-278491d8456e"
      },
      "outputs": [
        {
          "data": {
            "text/html": [
              "<div>\n",
              "<style scoped>\n",
              "    .dataframe tbody tr th:only-of-type {\n",
              "        vertical-align: middle;\n",
              "    }\n",
              "\n",
              "    .dataframe tbody tr th {\n",
              "        vertical-align: top;\n",
              "    }\n",
              "\n",
              "    .dataframe thead th {\n",
              "        text-align: right;\n",
              "    }\n",
              "</style>\n",
              "<table border=\"1\" class=\"dataframe\">\n",
              "  <thead>\n",
              "    <tr style=\"text-align: right;\">\n",
              "      <th></th>\n",
              "      <th>verified</th>\n",
              "      <th>reviewTime</th>\n",
              "      <th>reviewerID</th>\n",
              "      <th>asin</th>\n",
              "      <th>reviewerName</th>\n",
              "      <th>reviewText</th>\n",
              "      <th>summary</th>\n",
              "      <th>unixReviewTime</th>\n",
              "      <th>vote</th>\n",
              "      <th>style</th>\n",
              "      <th>image</th>\n",
              "    </tr>\n",
              "  </thead>\n",
              "  <tbody>\n",
              "    <tr>\n",
              "      <th>0</th>\n",
              "      <td>False</td>\n",
              "      <td>08 17, 2016</td>\n",
              "      <td>AMKHFIJJ81LYJ</td>\n",
              "      <td>B00EA1U1X6</td>\n",
              "      <td>Frank P.</td>\n",
              "      <td>I am a (very amateur) EDM and Hip Hop Producer...</td>\n",
              "      <td>Extremely Happy.</td>\n",
              "      <td>1471392000</td>\n",
              "      <td>NaN</td>\n",
              "      <td>{'style:': ' 5\" Monitor Speaker'}</td>\n",
              "      <td>NaN</td>\n",
              "    </tr>\n",
              "    <tr>\n",
              "      <th>1</th>\n",
              "      <td>True</td>\n",
              "      <td>08 22, 2015</td>\n",
              "      <td>A3SZ045Z7CP56</td>\n",
              "      <td>B0002GNUYU</td>\n",
              "      <td>David A. Caufield</td>\n",
              "      <td>These are pretty beefy strings even for black ...</td>\n",
              "      <td>once again, Rotosound strings fail to impress ...</td>\n",
              "      <td>1440201600</td>\n",
              "      <td>NaN</td>\n",
              "      <td>NaN</td>\n",
              "      <td>NaN</td>\n",
              "    </tr>\n",
              "    <tr>\n",
              "      <th>2</th>\n",
              "      <td>True</td>\n",
              "      <td>07 30, 2014</td>\n",
              "      <td>AZMSVSJFACBPB</td>\n",
              "      <td>B0006LOBA8</td>\n",
              "      <td>Neurofizz</td>\n",
              "      <td>I've played every new \"improved\" string out th...</td>\n",
              "      <td>and keep coming home to the girls that really ...</td>\n",
              "      <td>1406678400</td>\n",
              "      <td>NaN</td>\n",
              "      <td>NaN</td>\n",
              "      <td>NaN</td>\n",
              "    </tr>\n",
              "    <tr>\n",
              "      <th>3</th>\n",
              "      <td>True</td>\n",
              "      <td>03 9, 2012</td>\n",
              "      <td>A39SRYB2M0Z5FG</td>\n",
              "      <td>B000Y30NAA</td>\n",
              "      <td>s.reeths</td>\n",
              "      <td>I thought I would give this pedal a try, becau...</td>\n",
              "      <td>save up for a better pedal</td>\n",
              "      <td>1331251200</td>\n",
              "      <td>NaN</td>\n",
              "      <td>{'Style:': ' CHORUS'}</td>\n",
              "      <td>NaN</td>\n",
              "    </tr>\n",
              "    <tr>\n",
              "      <th>4</th>\n",
              "      <td>True</td>\n",
              "      <td>02 3, 2013</td>\n",
              "      <td>A35A62ZXXKXHIW</td>\n",
              "      <td>B002N4ZBE6</td>\n",
              "      <td>Marine Docl</td>\n",
              "      <td>Been wanting to try one for over a year.  Good...</td>\n",
              "      <td>Big Six</td>\n",
              "      <td>1359849600</td>\n",
              "      <td>NaN</td>\n",
              "      <td>NaN</td>\n",
              "      <td>NaN</td>\n",
              "    </tr>\n",
              "  </tbody>\n",
              "</table>\n",
              "</div>"
            ],
            "text/plain": [
              "   verified   reviewTime      reviewerID        asin       reviewerName  \\\n",
              "0     False  08 17, 2016   AMKHFIJJ81LYJ  B00EA1U1X6           Frank P.   \n",
              "1      True  08 22, 2015   A3SZ045Z7CP56  B0002GNUYU  David A. Caufield   \n",
              "2      True  07 30, 2014   AZMSVSJFACBPB  B0006LOBA8          Neurofizz   \n",
              "3      True   03 9, 2012  A39SRYB2M0Z5FG  B000Y30NAA           s.reeths   \n",
              "4      True   02 3, 2013  A35A62ZXXKXHIW  B002N4ZBE6        Marine Docl   \n",
              "\n",
              "                                          reviewText  \\\n",
              "0  I am a (very amateur) EDM and Hip Hop Producer...   \n",
              "1  These are pretty beefy strings even for black ...   \n",
              "2  I've played every new \"improved\" string out th...   \n",
              "3  I thought I would give this pedal a try, becau...   \n",
              "4  Been wanting to try one for over a year.  Good...   \n",
              "\n",
              "                                             summary  unixReviewTime  vote  \\\n",
              "0                                   Extremely Happy.      1471392000   NaN   \n",
              "1  once again, Rotosound strings fail to impress ...      1440201600   NaN   \n",
              "2  and keep coming home to the girls that really ...      1406678400   NaN   \n",
              "3                         save up for a better pedal      1331251200   NaN   \n",
              "4                                            Big Six      1359849600   NaN   \n",
              "\n",
              "                               style image  \n",
              "0  {'style:': ' 5\" Monitor Speaker'}   NaN  \n",
              "1                                NaN   NaN  \n",
              "2                                NaN   NaN  \n",
              "3              {'Style:': ' CHORUS'}   NaN  \n",
              "4                                NaN   NaN  "
            ]
          },
          "execution_count": 5,
          "metadata": {},
          "output_type": "execute_result"
        }
      ],
      "source": [
        "test.head()"
      ]
    },
    {
      "cell_type": "code",
      "execution_count": null,
      "id": "4655f801-3bca-455e-892f-1ca8caccef7f",
      "metadata": {
        "id": "4655f801-3bca-455e-892f-1ca8caccef7f",
        "outputId": "b98d906f-09e0-4776-8bb3-aaa5fe55a25d"
      },
      "outputs": [
        {
          "name": "stdout",
          "output_type": "stream",
          "text": [
            "<class 'pandas.core.frame.DataFrame'>\n",
            "RangeIndex: 221392 entries, 0 to 221391\n",
            "Data columns (total 12 columns):\n",
            " #   Column          Non-Null Count   Dtype \n",
            "---  ------          --------------   ----- \n",
            " 0   verified        221392 non-null  bool  \n",
            " 1   reviewTime      221392 non-null  object\n",
            " 2   reviewerID      221392 non-null  object\n",
            " 3   asin            221392 non-null  object\n",
            " 4   reviewerName    221358 non-null  object\n",
            " 5   reviewText      221344 non-null  object\n",
            " 6   summary         221344 non-null  object\n",
            " 7   unixReviewTime  221392 non-null  int64 \n",
            " 8   vote            33295 non-null   object\n",
            " 9   style           116012 non-null  object\n",
            " 10  image           3703 non-null    object\n",
            " 11  rating          221392 non-null  object\n",
            "dtypes: bool(1), int64(1), object(10)\n",
            "memory usage: 18.8+ MB\n"
          ]
        }
      ],
      "source": [
        "train.info()"
      ]
    },
    {
      "cell_type": "code",
      "execution_count": null,
      "id": "bd60d71c-b3fc-4cdd-a1ad-646ea739a2a5",
      "metadata": {
        "id": "bd60d71c-b3fc-4cdd-a1ad-646ea739a2a5",
        "outputId": "fe2c0380-58ee-4050-83e7-6130e23ce5c3"
      },
      "outputs": [
        {
          "name": "stdout",
          "output_type": "stream",
          "text": [
            "<class 'pandas.core.frame.DataFrame'>\n",
            "RangeIndex: 10000 entries, 0 to 9999\n",
            "Data columns (total 11 columns):\n",
            " #   Column          Non-Null Count  Dtype  \n",
            "---  ------          --------------  -----  \n",
            " 0   verified        10000 non-null  bool   \n",
            " 1   reviewTime      10000 non-null  object \n",
            " 2   reviewerID      10000 non-null  object \n",
            " 3   asin            10000 non-null  object \n",
            " 4   reviewerName    9995 non-null   object \n",
            " 5   reviewText      10000 non-null  object \n",
            " 6   summary         9997 non-null   object \n",
            " 7   unixReviewTime  10000 non-null  int64  \n",
            " 8   vote            1482 non-null   float64\n",
            " 9   style           5298 non-null   object \n",
            " 10  image           186 non-null    object \n",
            "dtypes: bool(1), float64(1), int64(1), object(8)\n",
            "memory usage: 791.1+ KB\n"
          ]
        }
      ],
      "source": [
        "test.info()"
      ]
    },
    {
      "cell_type": "markdown",
      "id": "17ad5ec3-a8cd-405b-966f-81f44269ad2d",
      "metadata": {
        "id": "17ad5ec3-a8cd-405b-966f-81f44269ad2d"
      },
      "source": [
        "### Data processing"
      ]
    },
    {
      "cell_type": "markdown",
      "id": "20a101c8-60db-421c-8223-19605cc98b4b",
      "metadata": {
        "id": "20a101c8-60db-421c-8223-19605cc98b4b"
      },
      "source": [
        "Since we are concerned with analyzing the text of the reviews, we will drop several columns from the Amazon Musical Instrument Reviews dataset. These columns include the reviewer's ID, the product's ID, the reviewer's name, the helpful column, the Unix time of the review, and the review's time. These columns are not necessary for our text analysis and modeling.\n",
        "\n",
        "Instead, we will only keep the text, summary, and rating columns for our analysis. These columns contain the relevant information we need to develop a classifier that predicts whether a review is positive, neutral, or negative. By focusing on these columns, we can preprocess the text data and train our model more efficiently."
      ]
    },
    {
      "cell_type": "code",
      "execution_count": null,
      "id": "464d74b6-7b13-418f-b083-877a299f7182",
      "metadata": {
        "id": "464d74b6-7b13-418f-b083-877a299f7182"
      },
      "outputs": [],
      "source": [
        "train = train[['reviewText', 'summary', 'rating']]\n",
        "test = test[['reviewText', 'summary']]"
      ]
    },
    {
      "cell_type": "code",
      "execution_count": null,
      "id": "cd415d56-1d17-4edf-8697-af41234df27e",
      "metadata": {
        "id": "cd415d56-1d17-4edf-8697-af41234df27e",
        "outputId": "709db1e3-bffc-4f17-a0db-7cb8469e6391"
      },
      "outputs": [
        {
          "name": "stdout",
          "output_type": "stream",
          "text": [
            "reviewText: 48 NaN values (0.02%)\n",
            "summary: 48 NaN values (0.02%)\n",
            "rating: 0 NaN values (0.00%)\n"
          ]
        }
      ],
      "source": [
        "# Count the number of NaN values in each column\n",
        "nan_counts = train.isna().sum()\n",
        "\n",
        "# Calculate the percentage of NaN values in each column\n",
        "nan_percentages = nan_counts / len(train) * 100\n",
        "\n",
        "# Print the number and percentage of NaN values in each column\n",
        "for column in train.columns:\n",
        "    print(f\"{column}: {nan_counts[column]} NaN values ({nan_percentages[column]:.2f}%)\")"
      ]
    },
    {
      "cell_type": "markdown",
      "id": "8f0e0766-32d9-4adf-ac34-2fbd1b0ec5fb",
      "metadata": {
        "id": "8f0e0766-32d9-4adf-ac34-2fbd1b0ec5fb"
      },
      "source": [
        "The NaN (Not a Number) values in a dataset can cause issues in data analysis and modeling. They can lead to errors, unexpected results, or bias in the results. In this project, since the number of NaN values in the 'reviewText' and 'summary' columns is very small (less than 0.02%), we can safely drop them without losing significant amounts of information. By dropping these NaN values, we can ensure that our analysis and modeling will be more accurate and reliable."
      ]
    },
    {
      "cell_type": "code",
      "execution_count": null,
      "id": "175444bf-fe22-40eb-b4c0-e713a873d582",
      "metadata": {
        "id": "175444bf-fe22-40eb-b4c0-e713a873d582"
      },
      "outputs": [],
      "source": [
        "# Drop rows with NaN values in 'reviewText' and 'summary'\n",
        "train.dropna(subset=['reviewText', 'summary'], inplace=True)"
      ]
    },
    {
      "cell_type": "markdown",
      "id": "4dee40d9-65e1-44e8-ae58-72d9ea9cc5bd",
      "metadata": {
        "id": "4dee40d9-65e1-44e8-ae58-72d9ea9cc5bd"
      },
      "source": [
        "we have merged the 'reviewText' and 'summary' columns into a new 'text' column. By combining these columns, we can get more information about the reviews and reduce the amount of processing required since we only have to process one column instead of two.\n",
        "\n",
        "We then dropped the 'reviewText' and 'summary' columns since they are no longer needed after the merge. This helps to simplify our dataset and reduce the number of columns we need to work with."
      ]
    },
    {
      "cell_type": "code",
      "execution_count": null,
      "id": "5a3bbec4-3d36-4e48-ab66-26b2fa0518e9",
      "metadata": {
        "id": "5a3bbec4-3d36-4e48-ab66-26b2fa0518e9"
      },
      "outputs": [],
      "source": [
        "train['text'] = train['reviewText'] + ' ' + train['summary']\n",
        "del train['reviewText']\n",
        "del train['summary']\n",
        "\n",
        "test['text'] = test['reviewText'] + ' ' + test['summary']\n",
        "del test['reviewText']\n",
        "del test['summary']"
      ]
    },
    {
      "cell_type": "markdown",
      "id": "f0699c8f-8b3e-4be7-8fec-09f821b8d107",
      "metadata": {
        "id": "f0699c8f-8b3e-4be7-8fec-09f821b8d107"
      },
      "source": [
        "We've prepared the encode_labels and decode_labels functions to convert the text labels of 'positive', 'neutral', and 'negative' into corresponding numeric values of 1, 0, and -1, respectively, because most machine learning models work with numeric data as input. This is known as label encoding.\n",
        "\n",
        "For example, if we want to build a classifier to predict whether a review is positive, neutral, or negative based on its text, we need to provide the classifier with a target variable that consists of numeric values. By converting the text labels to numeric values, we can use them as the target variable for our machine learning model.\n",
        "\n",
        "After training the model, we can then use the decode_labels function to convert the predicted numeric values back to their corresponding text labels for easier interpretation and reporting."
      ]
    },
    {
      "cell_type": "code",
      "execution_count": null,
      "id": "6ebe2d83-cd62-40fc-8394-7a360d4b3484",
      "metadata": {
        "id": "6ebe2d83-cd62-40fc-8394-7a360d4b3484"
      },
      "outputs": [],
      "source": [
        "# Coder function\n",
        "def encode_labels(label):\n",
        "    if label == 'positive':\n",
        "        return 2\n",
        "    elif label == 'neutral':\n",
        "        return 1\n",
        "    elif label == 'negative':\n",
        "        return 0\n",
        "\n",
        "# Decoder function\n",
        "def decode_labels(label):\n",
        "    if label == 2:\n",
        "        return 'positive'\n",
        "    elif label == 1:\n",
        "        return 'neutral'\n",
        "    elif label == 0:\n",
        "        return 'negative'"
      ]
    },
    {
      "cell_type": "code",
      "execution_count": null,
      "id": "2a449350-c265-4dfb-a288-8e69ba86ca83",
      "metadata": {
        "id": "2a449350-c265-4dfb-a288-8e69ba86ca83"
      },
      "outputs": [],
      "source": [
        "# encode labels\n",
        "train['rating'] = train['rating'].apply(encode_labels)"
      ]
    },
    {
      "cell_type": "code",
      "execution_count": null,
      "id": "486d0f54-8154-4b3c-baab-d40169b93e4f",
      "metadata": {
        "id": "486d0f54-8154-4b3c-baab-d40169b93e4f",
        "outputId": "5fd56c5e-d27d-4d1e-907d-c793d908d329"
      },
      "outputs": [
        {
          "data": {
            "text/plain": [
              "2    191860\n",
              "1     15333\n",
              "0     14104\n",
              "Name: rating, dtype: int64"
            ]
          },
          "execution_count": 14,
          "metadata": {},
          "output_type": "execute_result"
        }
      ],
      "source": [
        "train.rating.value_counts()"
      ]
    },
    {
      "cell_type": "markdown",
      "id": "2c88995f-47fd-4723-9c0d-c83966503ee6",
      "metadata": {
        "id": "2c88995f-47fd-4723-9c0d-c83966503ee6"
      },
      "source": [
        "### Text preparation"
      ]
    },
    {
      "cell_type": "code",
      "execution_count": null,
      "id": "33bc8868-a194-4dd6-9a30-0f6af6a26b1e",
      "metadata": {
        "id": "33bc8868-a194-4dd6-9a30-0f6af6a26b1e"
      },
      "outputs": [],
      "source": [
        "# Create a set of stopwords in English\n",
        "stop = set(stopwords.words('english'))\n",
        "\n",
        "# Create a list of punctuation marks\n",
        "punctuation = list(string.punctuation)\n",
        "\n",
        "# Add the punctuation marks to the set of stopwords\n",
        "stop.update(punctuation)"
      ]
    },
    {
      "cell_type": "markdown",
      "id": "f391f603-daac-44ce-b1d6-72b4160d99ba",
      "metadata": {
        "id": "f391f603-daac-44ce-b1d6-72b4160d99ba"
      },
      "source": [
        "Now we are performing text lemmatization on the 'text' column of a DataFrame containing text data. Lemmatization is the process of reducing words to their base or root form, which is useful for text analysis because it reduces the number of distinct words in a corpus, making it easier to identify patterns and relationships.\n",
        "\n",
        "The code first imports the WordNetLemmatizer class from the nltk library, which is a widely used natural language processing toolkit in Python. It then creates an instance of the lemmatizer object.\n",
        "\n",
        "Next, the code defines a function called 'lemm_fun' that takes in a string of text and performs lemmatization on each word in the text using the lemmatizer object. The function splits the text into individual words, checks if each word is not in the stop words list (i.e., common words like 'the', 'a', etc. that are often removed in text analysis), lemmatizes each non-stop word, and appends the lemmatized word to a list of final words. The final step is to join the lemmatized words back into a single string and return it."
      ]
    },
    {
      "cell_type": "code",
      "execution_count": null,
      "id": "8252f585-3e26-4090-9b1d-fc524e6fc6f6",
      "metadata": {
        "id": "8252f585-3e26-4090-9b1d-fc524e6fc6f6"
      },
      "outputs": [],
      "source": [
        "train['text'] = train['text'].astype(str)\n",
        "test['text'] = test['text'].astype(str)"
      ]
    },
    {
      "cell_type": "code",
      "execution_count": null,
      "id": "2e12ec0f-d478-46f3-aacb-0bd7d688eae5",
      "metadata": {
        "id": "2e12ec0f-d478-46f3-aacb-0bd7d688eae5"
      },
      "outputs": [],
      "source": [
        "# import WordNetLemmatizer from nltk library\n",
        "from nltk.stem import WordNetLemmatizer\n",
        "\n",
        "# create an instance of the WordNetLemmatizer object\n",
        "lemmatizer = WordNetLemmatizer()\n",
        "\n",
        "# define a function to lemmatize text\n",
        "def lemm_fun(text):\n",
        "    final_text = []\n",
        "    # split the text into individual words and iterate over them\n",
        "    for word in text.split():\n",
        "        # check if the word is not in the stop words list\n",
        "        if word.lower() not in stop:\n",
        "            # lemmatize the word and append it to the final text list in lowercase\n",
        "            lem = lemmatizer.lemmatize(word)\n",
        "            final_text.append(lem.lower())\n",
        "    # join the lemmatized words back into a single string and return it\n",
        "    return \" \".join(final_text)\n",
        "\n",
        "# apply the lemmatization function to the 'text' column of the DataFrame\n",
        "train.text = train.text.apply(lemm_fun)\n",
        "test.text = test.text.apply(lemm_fun)"
      ]
    },
    {
      "cell_type": "markdown",
      "id": "d9097a3e-1dae-49df-8ca9-05e026799703",
      "metadata": {
        "id": "d9097a3e-1dae-49df-8ca9-05e026799703"
      },
      "source": [
        "So, what we did here is use the TF-IDF technique to convert our text data into numerical vectors. First, we initialized a TfidfVectorizer object with certain parameters, like the minimum and maximum document frequency, whether to use inverse document frequency or not, and the range of n-grams we want to include.\n",
        "\n",
        "Then, we fit the tokenizer to our training data using the fit() method, which essentially creates a vocabulary of words and assigns a unique index to each word. We kept the same parameters and tokenization technique for the testing data as well, so that our model can make predictions on it too.\n",
        "\n",
        "Finally, we transformed both the training and testing data using the transform() method, which takes the text data and creates a sparse matrix of numerical vectors representing the text. This is the format that our machine learning model expects as input."
      ]
    },
    {
      "cell_type": "code",
      "execution_count": null,
      "id": "ca6aee2b-9f61-4ace-934c-2a5e973411aa",
      "metadata": {
        "id": "ca6aee2b-9f61-4ace-934c-2a5e973411aa"
      },
      "outputs": [],
      "source": [
        "X_train = train['text']\n",
        "Y_train = train['rating']\n",
        "X_test = test['text']"
      ]
    },
    {
      "cell_type": "code",
      "execution_count": null,
      "id": "db9e9925-9a0a-43d5-a924-96ef49052ca0",
      "metadata": {
        "id": "db9e9925-9a0a-43d5-a924-96ef49052ca0"
      },
      "outputs": [],
      "source": [
        "# Combine train and test data for fitting tokenizer\n",
        "X = np.concatenate([X_train.values, X_test.values])\n",
        "\n",
        "# Fit tokenizer\n",
        "tokenizer = Tokenizer(num_words=10000, oov_token=\"<OOV>\")\n",
        "tokenizer.fit_on_texts(X)\n",
        "\n",
        "# Convert text to sequences\n",
        "X_train_seq = tokenizer.texts_to_sequences(X_train.values)\n",
        "X_test_seq = tokenizer.texts_to_sequences(X_test.values)\n",
        "\n",
        "# Pad sequences to fixed length\n",
        "X_train_pad = pad_sequences(X_train_seq, maxlen=100)\n",
        "X_test_pad = pad_sequences(X_test_seq, maxlen=100)\n",
        "\n",
        "# Convert to tensor\n",
        "X_train_tensor = tf.convert_to_tensor(X_train_pad)\n",
        "X_test_tensor = tf.convert_to_tensor(X_test_pad)"
      ]
    },
    {
      "cell_type": "code",
      "execution_count": null,
      "id": "811a1a33-9e18-4221-9892-d8ad3da67d2d",
      "metadata": {
        "id": "811a1a33-9e18-4221-9892-d8ad3da67d2d",
        "outputId": "e2e776f7-83a6-4e01-87d0-f7e35f2429f6"
      },
      "outputs": [
        {
          "data": {
            "text/plain": [
              "array([[   0,    0,    0, ...,   69,   12,    8],\n",
              "       [   0,    0,    0, ...,  471, 5042,    1],\n",
              "       [   0,    0,    0, ..., 1911,  234,  508],\n",
              "       ...,\n",
              "       [   0,    0,    0, ...,  116,    1,    1],\n",
              "       [   0,    0,    0, ...,   17,   12,    8],\n",
              "       [   0,    0,    0, ...,    2, 2900,  968]])"
            ]
          },
          "execution_count": 20,
          "metadata": {},
          "output_type": "execute_result"
        }
      ],
      "source": [
        "X_train_pad"
      ]
    },
    {
      "cell_type": "markdown",
      "id": "d3865d6d-e9ff-4962-b333-f590ec20337e",
      "metadata": {
        "id": "d3865d6d-e9ff-4962-b333-f590ec20337e"
      },
      "source": [
        "### Train test split "
      ]
    },
    {
      "cell_type": "code",
      "execution_count": null,
      "id": "91dd2690-a352-4106-bade-b8f0f3a8c7d9",
      "metadata": {
        "id": "91dd2690-a352-4106-bade-b8f0f3a8c7d9"
      },
      "outputs": [],
      "source": [
        "# split data into train, test\n",
        "x_train, x_val, y_train, y_val = train_test_split(X_train_pad, Y_train, test_size = 0.3)"
      ]
    },
    {
      "cell_type": "code",
      "execution_count": null,
      "id": "63389c1c-e29c-433b-ac76-7a400985b09e",
      "metadata": {
        "id": "63389c1c-e29c-433b-ac76-7a400985b09e"
      },
      "outputs": [],
      "source": [
        "# convert y_train to categorical variable\n",
        "y_train = to_categorical(y_train, num_classes=3)\n",
        "\n",
        "# convert y_val to categorical variable\n",
        "y_val = to_categorical(y_val, num_classes=3)"
      ]
    },
    {
      "cell_type": "code",
      "execution_count": null,
      "id": "337c2cb3-41c1-43bf-960d-bee05bec938d",
      "metadata": {
        "id": "337c2cb3-41c1-43bf-960d-bee05bec938d",
        "outputId": "5e7444e2-181b-454b-c6af-79adc2eed480"
      },
      "outputs": [
        {
          "data": {
            "text/plain": [
              "array([[[1., 0., 0.],\n",
              "        [1., 0., 0.],\n",
              "        [0., 1., 0.]],\n",
              "\n",
              "       [[1., 0., 0.],\n",
              "        [1., 0., 0.],\n",
              "        [0., 1., 0.]],\n",
              "\n",
              "       [[1., 0., 0.],\n",
              "        [1., 0., 0.],\n",
              "        [0., 1., 0.]],\n",
              "\n",
              "       ...,\n",
              "\n",
              "       [[1., 0., 0.],\n",
              "        [1., 0., 0.],\n",
              "        [0., 1., 0.]],\n",
              "\n",
              "       [[1., 0., 0.],\n",
              "        [1., 0., 0.],\n",
              "        [0., 1., 0.]],\n",
              "\n",
              "       [[0., 1., 0.],\n",
              "        [1., 0., 0.],\n",
              "        [1., 0., 0.]]], dtype=float32)"
            ]
          },
          "execution_count": 23,
          "metadata": {},
          "output_type": "execute_result"
        }
      ],
      "source": [
        "y_val_cat = to_categorical(y_val, num_classes=3)\n",
        "y_val_cat"
      ]
    },
    {
      "cell_type": "code",
      "execution_count": null,
      "id": "7a418fb2-71bf-45f1-90ce-8781a29dccb5",
      "metadata": {
        "id": "7a418fb2-71bf-45f1-90ce-8781a29dccb5",
        "outputId": "c8173e03-c255-43a4-df46-d8e91d4b3807"
      },
      "outputs": [
        {
          "data": {
            "text/plain": [
              "array([[0., 0., 1.],\n",
              "       [0., 0., 1.],\n",
              "       [0., 0., 1.],\n",
              "       ...,\n",
              "       [0., 0., 1.],\n",
              "       [0., 0., 1.],\n",
              "       [1., 0., 0.]], dtype=float32)"
            ]
          },
          "execution_count": 24,
          "metadata": {},
          "output_type": "execute_result"
        }
      ],
      "source": [
        "y_val"
      ]
    },
    {
      "cell_type": "markdown",
      "id": "3da12b43-7e02-41d8-8e98-e11a22ef69e5",
      "metadata": {
        "id": "3da12b43-7e02-41d8-8e98-e11a22ef69e5"
      },
      "source": [
        "### Modeling"
      ]
    },
    {
      "cell_type": "code",
      "execution_count": null,
      "id": "37e5c7da-dad5-4a9e-b3b4-5d73e5244058",
      "metadata": {
        "id": "37e5c7da-dad5-4a9e-b3b4-5d73e5244058",
        "outputId": "5f8cd575-ac34-4238-cff8-5e02f7e1f9e3"
      },
      "outputs": [
        {
          "name": "stdout",
          "output_type": "stream",
          "text": [
            "Model: \"sequential\"\n",
            "_________________________________________________________________\n",
            " Layer (type)                Output Shape              Param #   \n",
            "=================================================================\n",
            " embedding (Embedding)       (None, 100, 100)          1000000   \n",
            "                                                                 \n",
            " conv1d (Conv1D)             (None, 98, 64)            19264     \n",
            "                                                                 \n",
            " global_max_pooling1d (Globa  (None, 64)               0         \n",
            " lMaxPooling1D)                                                  \n",
            "                                                                 \n",
            " dense (Dense)               (None, 3)                 195       \n",
            "                                                                 \n",
            "=================================================================\n",
            "Total params: 1,019,459\n",
            "Trainable params: 1,019,459\n",
            "Non-trainable params: 0\n",
            "_________________________________________________________________\n"
          ]
        }
      ],
      "source": [
        "# Define model architecture\n",
        "model = Sequential()\n",
        "model.add(Embedding(input_dim=10000, output_dim=100, input_length=100))\n",
        "model.add(Conv1D(filters=64, kernel_size=3, activation='relu'))\n",
        "model.add(GlobalMaxPooling1D())\n",
        "model.add(Dense(units=3, activation='softmax'))\n",
        "\n",
        "model.summary()"
      ]
    },
    {
      "cell_type": "markdown",
      "id": "3ce89e20-def5-4f1f-a9cf-ec49ea22133e",
      "metadata": {
        "id": "3ce89e20-def5-4f1f-a9cf-ec49ea22133e"
      },
      "source": [
        "The model architecture is defined as follows:\n",
        "\n",
        "1. An Embedding layer is used to convert the integer-encoded input to dense vectors of fixed size (in this case, 100).\n",
        "2. A Conv1D layer with 64 filters and a kernel size of 3 is used to convolve over the sequence of word embeddings, resulting in a sequence of feature maps.\n",
        "3. A GlobalMaxPooling1D layer is used to pool the maximum value over the sequence of feature maps, resulting in a fixed-length output vector.\n",
        "4. A Dense layer with 3 units and a softmax activation function is used to output a probability distribution over the 3 output classes.\n",
        "\n",
        "This is a simple model with only a few layers, but it has been shown to perform well on text classification tasks. The model has 1,019,459 trainable parameters, which is relatively small compared to some other deep learning models."
      ]
    },
    {
      "cell_type": "code",
      "execution_count": null,
      "id": "20e9f05c-78b8-4ecb-835c-b5fd42d3cac9",
      "metadata": {
        "id": "20e9f05c-78b8-4ecb-835c-b5fd42d3cac9"
      },
      "outputs": [],
      "source": [
        "# Compile model\n",
        "model.compile(loss='categorical_crossentropy', optimizer='adam', metrics=['accuracy'])"
      ]
    },
    {
      "cell_type": "code",
      "execution_count": null,
      "id": "8c5b020f-3758-4f5f-888f-7cc354a27883",
      "metadata": {
        "id": "8c5b020f-3758-4f5f-888f-7cc354a27883",
        "outputId": "6fba42e7-2a07-49cc-c0b0-3750f5a173cb"
      },
      "outputs": [
        {
          "name": "stdout",
          "output_type": "stream",
          "text": [
            "Epoch 1/10\n",
            "1937/1937 [==============================] - 57s 29ms/step - loss: 0.2787 - accuracy: 0.9051 - val_loss: 0.2386 - val_accuracy: 0.9150\n",
            "Epoch 2/10\n",
            "1937/1937 [==============================] - 56s 29ms/step - loss: 0.1923 - accuracy: 0.9307 - val_loss: 0.2362 - val_accuracy: 0.9176\n",
            "Epoch 3/10\n",
            "1937/1937 [==============================] - 56s 29ms/step - loss: 0.1334 - accuracy: 0.9538 - val_loss: 0.2529 - val_accuracy: 0.9167\n",
            "Epoch 4/10\n",
            "1937/1937 [==============================] - 56s 29ms/step - loss: 0.0804 - accuracy: 0.9747 - val_loss: 0.3005 - val_accuracy: 0.9119\n",
            "Epoch 5/10\n",
            "1937/1937 [==============================] - 56s 29ms/step - loss: 0.0423 - accuracy: 0.9882 - val_loss: 0.3608 - val_accuracy: 0.9117\n",
            "Epoch 6/10\n",
            "1937/1937 [==============================] - 55s 29ms/step - loss: 0.0216 - accuracy: 0.9952 - val_loss: 0.4161 - val_accuracy: 0.9083\n",
            "Epoch 7/10\n",
            "1937/1937 [==============================] - 56s 29ms/step - loss: 0.0125 - accuracy: 0.9976 - val_loss: 0.4742 - val_accuracy: 0.9087\n",
            "Epoch 8/10\n",
            "1937/1937 [==============================] - 55s 29ms/step - loss: 0.0085 - accuracy: 0.9983 - val_loss: 0.5187 - val_accuracy: 0.9081\n",
            "Epoch 9/10\n",
            "1937/1937 [==============================] - 54s 28ms/step - loss: 0.0068 - accuracy: 0.9987 - val_loss: 0.5528 - val_accuracy: 0.9039\n",
            "Epoch 10/10\n",
            "1937/1937 [==============================] - 56s 29ms/step - loss: 0.0061 - accuracy: 0.9988 - val_loss: 0.5995 - val_accuracy: 0.9055\n"
          ]
        }
      ],
      "source": [
        "# Train model\n",
        "history = model.fit(x_train, y_train, epochs=10, batch_size=64, validation_split=0.2)"
      ]
    },
    {
      "cell_type": "code",
      "execution_count": null,
      "id": "a56a7234-8d5e-4370-974f-091c21a26575",
      "metadata": {
        "id": "a56a7234-8d5e-4370-974f-091c21a26575",
        "outputId": "ca9f543e-4669-414d-e5ca-da70cf57b32e"
      },
      "outputs": [
        {
          "data": {
            "image/png": "[encoded data removed]",
            "text/plain": [
              "<Figure size 640x480 with 1 Axes>"
            ]
          },
          "metadata": {},
          "output_type": "display_data"
        },
        {
          "data": {
            "image/png": "[encoded data removed]",
            "text/plain": [
              "<Figure size 640x480 with 1 Axes>"
            ]
          },
          "metadata": {},
          "output_type": "display_data"
        }
      ],
      "source": [
        "# Plot the loss evolution\n",
        "plt.plot(history.history['loss'], label='Training Loss')\n",
        "plt.plot(history.history['val_loss'], label='Validation Loss')\n",
        "plt.xlabel('Epoch')\n",
        "plt.ylabel('Loss')\n",
        "plt.legend()\n",
        "plt.show()\n",
        "\n",
        "# Plot the accuracy evolution\n",
        "plt.plot(history.history['accuracy'], label='Training Accuracy')\n",
        "plt.plot(history.history['val_accuracy'], label='Validation Accuracy')\n",
        "plt.xlabel('Epoch')\n",
        "plt.ylabel('Accuracy')\n",
        "plt.legend()\n",
        "plt.show()"
      ]
    },
    {
      "cell_type": "code",
      "execution_count": null,
      "id": "42862f94-1bb5-4bd7-b7d6-21f6a723c1f7",
      "metadata": {
        "id": "42862f94-1bb5-4bd7-b7d6-21f6a723c1f7",
        "outputId": "44361113-dfcc-411c-bd23-a8ebdafff0b9"
      },
      "outputs": [
        {
          "name": "stdout",
          "output_type": "stream",
          "text": [
            "2075/2075 [==============================] - 12s 6ms/step - loss: 0.6007 - accuracy: 0.9056\n",
            "Test accuracy: 0.9056183099746704\n"
          ]
        }
      ],
      "source": [
        "test_loss, test_accuracy = model.evaluate(x_val, y_val)\n",
        "print(\"Test accuracy:\", test_accuracy)"
      ]
    },
    {
      "cell_type": "markdown",
      "id": "c6027f32-1f49-4c95-bc57-8d766e0453f8",
      "metadata": {
        "id": "c6027f32-1f49-4c95-bc57-8d766e0453f8"
      },
      "source": [
        "This shows that the model achieved an accuracy of 90% on the testing data, which is a very good performance. This means that the model is able to correctly predict the sentiment of a text in 9 out of 10 cases. This is a strong indication that the model has learned to generalize well to unseen data, and that it is not overfitting the training data. Overall, this result suggests that the model is performing well and can be used for sentiment analysis tasks."
      ]
    },
    {
      "cell_type": "markdown",
      "id": "b1339a4d-ca48-4f24-9425-abed141f0c4b",
      "metadata": {
        "id": "b1339a4d-ca48-4f24-9425-abed141f0c4b"
      },
      "source": [
        "### predictions"
      ]
    },
    {
      "cell_type": "code",
      "execution_count": null,
      "id": "b64fb08a-da22-42e0-9cf7-6d8be5b60a20",
      "metadata": {
        "id": "b64fb08a-da22-42e0-9cf7-6d8be5b60a20",
        "outputId": "1b2a3dc9-3df8-4137-db31-ceeaec784ead"
      },
      "outputs": [
        {
          "name": "stdout",
          "output_type": "stream",
          "text": [
            "313/313 [==============================] - 2s 5ms/step\n"
          ]
        }
      ],
      "source": [
        "# Make predictions on test data\n",
        "y_pred = model.predict(X_test_tensor)\n",
        "\n",
        "# Convert predictions to class labels\n",
        "y_pred_labels = np.argmax(y_pred, axis=1)"
      ]
    },
    {
      "cell_type": "code",
      "execution_count": null,
      "id": "9a1607d1-ed63-4446-869e-00bdb965ecf9",
      "metadata": {
        "id": "9a1607d1-ed63-4446-869e-00bdb965ecf9",
        "outputId": "42e562d7-396e-4a6b-99e5-48119b360e37"
      },
      "outputs": [
        {
          "data": {
            "text/plain": [
              "array([2, 2, 2, ..., 2, 2, 2], dtype=int64)"
            ]
          },
          "execution_count": 31,
          "metadata": {},
          "output_type": "execute_result"
        }
      ],
      "source": [
        "y_pred_labels"
      ]
    },
    {
      "cell_type": "code",
      "execution_count": null,
      "id": "c52b2818-05f2-4d78-99ee-95e61df38302",
      "metadata": {
        "id": "c52b2818-05f2-4d78-99ee-95e61df38302",
        "outputId": "a168d7f3-723d-4395-c26b-72e18d8131d9"
      },
      "outputs": [
        {
          "name": "stdout",
          "output_type": "stream",
          "text": [
            "Predicted label counts: {0: 682, 1: 581, 2: 8737}\n"
          ]
        }
      ],
      "source": [
        "unique_labels, label_counts = np.unique(y_pred_labels, return_counts=True)\n",
        "print(\"Predicted label counts:\", dict(zip(unique_labels, label_counts)))"
      ]
    },
    {
      "cell_type": "code",
      "execution_count": null,
      "id": "dfd3e0d4-8b69-4a4b-b1ab-7aa9bff108ee",
      "metadata": {
        "id": "dfd3e0d4-8b69-4a4b-b1ab-7aa9bff108ee"
      },
      "outputs": [],
      "source": [
        "# Define a mapping of labels to their integer encoding\n",
        "label_map = {\"negative\": 0, \"neutral\": 1, \"positive\": 2}"
      ]
    },
    {
      "cell_type": "code",
      "execution_count": null,
      "id": "895e3324-42c4-4814-8cf5-82f6f20b3e9b",
      "metadata": {
        "id": "895e3324-42c4-4814-8cf5-82f6f20b3e9b"
      },
      "outputs": [],
      "source": [
        "# Reverse the mapping of labels to their integer encoding\n",
        "reverse_label_map = {v: k for k, v in label_map.items()}\n",
        "\n",
        "# Convert integers to labels using the reverse mapping\n",
        "y_pred_labels = [reverse_label_map[int_label] for int_label in y_pred_labels]"
      ]
    },
    {
      "cell_type": "code",
      "execution_count": null,
      "id": "1a36b94a-e479-4e66-86c6-0b5d1470738a",
      "metadata": {
        "id": "1a36b94a-e479-4e66-86c6-0b5d1470738a",
        "outputId": "7cbae1a8-1148-4c36-82a8-4e21589478e1"
      },
      "outputs": [
        {
          "data": {
            "text/plain": [
              "['positive',\n",
              " 'positive',\n",
              " 'positive',\n",
              " 'negative',\n",
              " 'positive',\n",
              " 'positive',\n",
              " 'neutral',\n",
              " 'positive',\n",
              " 'neutral',\n",
              " 'positive',\n",
              " 'positive',\n",
              " 'positive',\n",
              " 'positive',\n",
              " 'positive',\n",
              " 'positive',\n",
              " 'positive',\n",
              " 'positive',\n",
              " 'positive',\n",
              " 'positive',\n",
              " 'positive',\n",
              " 'positive',\n",
              " 'positive',\n",
              " 'positive',\n",
              " 'positive',\n",
              " 'positive',\n",
              " 'positive',\n",
              " 'positive',\n",
              " 'positive',\n",
              " 'positive',\n",
              " 'positive',\n",
              " 'positive',\n",
              " 'positive',\n",
              " 'positive',\n",
              " 'positive',\n",
              " 'positive',\n",
              " 'positive',\n",
              " 'positive',\n",
              " 'positive',\n",
              " 'positive',\n",
              " 'positive',\n",
              " 'positive',\n",
              " 'positive',\n",
              " 'neutral',\n",
              " 'neutral',\n",
              " 'positive',\n",
              " 'positive',\n",
              " 'positive',\n",
              " 'positive',\n",
              " 'positive',\n",
              " 'positive',\n",
              " 'positive',\n",
              " 'positive',\n",
              " 'positive',\n",
              " 'positive',\n",
              " 'positive',\n",
              " 'positive',\n",
              " 'negative',\n",
              " 'positive',\n",
              " 'positive',\n",
              " 'positive',\n",
              " 'positive',\n",
              " 'positive',\n",
              " 'positive',\n",
              " 'positive',\n",
              " 'positive',\n",
              " 'positive',\n",
              " 'negative',\n",
              " 'positive',\n",
              " 'positive',\n",
              " 'positive',\n",
              " 'positive',\n",
              " 'positive',\n",
              " 'positive',\n",
              " 'positive',\n",
              " 'positive',\n",
              " 'positive',\n",
              " 'negative',\n",
              " 'positive',\n",
              " 'positive',\n",
              " 'positive',\n",
              " 'positive',\n",
              " 'positive',\n",
              " 'negative',\n",
              " 'positive',\n",
              " 'positive',\n",
              " 'positive',\n",
              " 'positive',\n",
              " 'positive',\n",
              " 'positive',\n",
              " 'positive',\n",
              " 'positive',\n",
              " 'positive',\n",
              " 'positive',\n",
              " 'negative',\n",
              " 'positive',\n",
              " 'positive',\n",
              " 'positive',\n",
              " 'positive',\n",
              " 'positive',\n",
              " 'positive',\n",
              " 'positive',\n",
              " 'positive',\n",
              " 'positive',\n",
              " 'neutral',\n",
              " 'positive',\n",
              " 'positive',\n",
              " 'positive',\n",
              " 'positive',\n",
              " 'positive',\n",
              " 'positive',\n",
              " 'positive',\n",
              " 'positive',\n",
              " 'positive',\n",
              " 'positive',\n",
              " 'positive',\n",
              " 'positive',\n",
              " 'positive',\n",
              " 'positive',\n",
              " 'positive',\n",
              " 'positive',\n",
              " 'positive',\n",
              " 'positive',\n",
              " 'negative',\n",
              " 'positive',\n",
              " 'positive',\n",
              " 'positive',\n",
              " 'positive',\n",
              " 'positive',\n",
              " 'positive',\n",
              " 'positive',\n",
              " 'positive',\n",
              " 'positive',\n",
              " 'positive',\n",
              " 'positive',\n",
              " 'neutral',\n",
              " 'positive',\n",
              " 'negative',\n",
              " 'positive',\n",
              " 'positive',\n",
              " 'positive',\n",
              " 'neutral',\n",
              " 'positive',\n",
              " 'positive',\n",
              " 'positive',\n",
              " 'positive',\n",
              " 'positive',\n",
              " 'negative',\n",
              " 'positive',\n",
              " 'positive',\n",
              " 'positive',\n",
              " 'positive',\n",
              " 'positive',\n",
              " 'positive',\n",
              " 'positive',\n",
              " 'positive',\n",
              " 'positive',\n",
              " 'positive',\n",
              " 'neutral',\n",
              " 'positive',\n",
              " 'positive',\n",
              " 'positive',\n",
              " 'positive',\n",
              " 'positive',\n",
              " 'positive',\n",
              " 'positive',\n",
              " 'positive',\n",
              " 'negative',\n",
              " 'positive',\n",
              " 'positive',\n",
              " 'positive',\n",
              " 'positive',\n",
              " 'positive',\n",
              " 'positive',\n",
              " 'positive',\n",
              " 'positive',\n",
              " 'positive',\n",
              " 'positive',\n",
              " 'positive',\n",
              " 'positive',\n",
              " 'negative',\n",
              " 'positive',\n",
              " 'positive',\n",
              " 'positive',\n",
              " 'neutral',\n",
              " 'positive',\n",
              " 'positive',\n",
              " 'positive',\n",
              " 'positive',\n",
              " 'positive',\n",
              " 'positive',\n",
              " 'positive',\n",
              " 'positive',\n",
              " 'negative',\n",
              " 'positive',\n",
              " 'positive',\n",
              " 'positive',\n",
              " 'neutral',\n",
              " 'positive',\n",
              " 'positive',\n",
              " 'positive',\n",
              " 'positive',\n",
              " 'positive',\n",
              " 'positive',\n",
              " 'positive',\n",
              " 'positive',\n",
              " 'positive',\n",
              " 'positive',\n",
              " 'positive',\n",
              " 'positive',\n",
              " 'positive',\n",
              " 'positive',\n",
              " 'positive',\n",
              " 'positive',\n",
              " 'positive',\n",
              " 'neutral',\n",
              " 'positive',\n",
              " 'positive',\n",
              " 'positive',\n",
              " 'positive',\n",
              " 'positive',\n",
              " 'positive',\n",
              " 'positive',\n",
              " 'positive',\n",
              " 'positive',\n",
              " 'positive',\n",
              " 'positive',\n",
              " 'positive',\n",
              " 'positive',\n",
              " 'positive',\n",
              " 'positive',\n",
              " 'positive',\n",
              " 'positive',\n",
              " 'neutral',\n",
              " 'positive',\n",
              " 'positive',\n",
              " 'positive',\n",
              " 'positive',\n",
              " 'positive',\n",
              " 'positive',\n",
              " 'positive',\n",
              " 'positive',\n",
              " 'positive',\n",
              " 'positive',\n",
              " 'positive',\n",
              " 'positive',\n",
              " 'negative',\n",
              " 'negative',\n",
              " 'positive',\n",
              " 'positive',\n",
              " 'negative',\n",
              " 'positive',\n",
              " 'positive',\n",
              " 'positive',\n",
              " 'positive',\n",
              " 'positive',\n",
              " 'positive',\n",
              " 'positive',\n",
              " 'positive',\n",
              " 'positive',\n",
              " 'positive',\n",
              " 'positive',\n",
              " 'positive',\n",
              " 'positive',\n",
              " 'positive',\n",
              " 'neutral',\n",
              " 'positive',\n",
              " 'positive',\n",
              " 'positive',\n",
              " 'positive',\n",
              " 'positive',\n",
              " 'positive',\n",
              " 'positive',\n",
              " 'positive',\n",
              " 'positive',\n",
              " 'positive',\n",
              " 'positive',\n",
              " 'positive',\n",
              " 'positive',\n",
              " 'positive',\n",
              " 'negative',\n",
              " 'positive',\n",
              " 'positive',\n",
              " 'positive',\n",
              " 'positive',\n",
              " 'positive',\n",
              " 'positive',\n",
              " 'positive',\n",
              " 'positive',\n",
              " 'positive',\n",
              " 'neutral',\n",
              " 'positive',\n",
              " 'positive',\n",
              " 'positive',\n",
              " 'positive',\n",
              " 'positive',\n",
              " 'positive',\n",
              " 'positive',\n",
              " 'positive',\n",
              " 'positive',\n",
              " 'positive',\n",
              " 'positive',\n",
              " 'positive',\n",
              " 'positive',\n",
              " 'positive',\n",
              " 'positive',\n",
              " 'positive',\n",
              " 'positive',\n",
              " 'positive',\n",
              " 'negative',\n",
              " 'positive',\n",
              " 'positive',\n",
              " 'positive',\n",
              " 'positive',\n",
              " 'positive',\n",
              " 'positive',\n",
              " 'positive',\n",
              " 'positive',\n",
              " 'positive',\n",
              " 'positive',\n",
              " 'positive',\n",
              " 'positive',\n",
              " 'positive',\n",
              " 'positive',\n",
              " 'positive',\n",
              " 'negative',\n",
              " 'positive',\n",
              " 'positive',\n",
              " 'positive',\n",
              " 'positive',\n",
              " 'neutral',\n",
              " 'positive',\n",
              " 'negative',\n",
              " 'positive',\n",
              " 'positive',\n",
              " 'positive',\n",
              " 'positive',\n",
              " 'positive',\n",
              " 'positive',\n",
              " 'neutral',\n",
              " 'positive',\n",
              " 'positive',\n",
              " 'neutral',\n",
              " 'positive',\n",
              " 'positive',\n",
              " 'positive',\n",
              " 'positive',\n",
              " 'positive',\n",
              " 'positive',\n",
              " 'neutral',\n",
              " 'positive',\n",
              " 'positive',\n",
              " 'positive',\n",
              " 'positive',\n",
              " 'positive',\n",
              " 'negative',\n",
              " 'positive',\n",
              " 'positive',\n",
              " 'positive',\n",
              " 'positive',\n",
              " 'positive',\n",
              " 'positive',\n",
              " 'neutral',\n",
              " 'positive',\n",
              " 'positive',\n",
              " 'positive',\n",
              " 'positive',\n",
              " 'positive',\n",
              " 'positive',\n",
              " 'negative',\n",
              " 'positive',\n",
              " 'positive',\n",
              " 'positive',\n",
              " 'positive',\n",
              " 'neutral',\n",
              " 'positive',\n",
              " 'neutral',\n",
              " 'negative',\n",
              " 'positive',\n",
              " 'positive',\n",
              " 'positive',\n",
              " 'positive',\n",
              " 'positive',\n",
              " 'positive',\n",
              " 'positive',\n",
              " 'positive',\n",
              " 'positive',\n",
              " 'positive',\n",
              " 'positive',\n",
              " 'positive',\n",
              " 'positive',\n",
              " 'positive',\n",
              " 'positive',\n",
              " 'positive',\n",
              " 'positive',\n",
              " 'positive',\n",
              " 'positive',\n",
              " 'neutral',\n",
              " 'positive',\n",
              " 'positive',\n",
              " 'positive',\n",
              " 'positive',\n",
              " 'positive',\n",
              " 'positive',\n",
              " 'positive',\n",
              " 'positive',\n",
              " 'neutral',\n",
              " 'positive',\n",
              " 'positive',\n",
              " 'positive',\n",
              " 'positive',\n",
              " 'neutral',\n",
              " 'positive',\n",
              " 'positive',\n",
              " 'positive',\n",
              " 'positive',\n",
              " 'positive',\n",
              " 'positive',\n",
              " 'positive',\n",
              " 'positive',\n",
              " 'positive',\n",
              " 'positive',\n",
              " 'positive',\n",
              " 'positive',\n",
              " 'positive',\n",
              " 'positive',\n",
              " 'positive',\n",
              " 'positive',\n",
              " 'positive',\n",
              " 'positive',\n",
              " 'positive',\n",
              " 'positive',\n",
              " 'positive',\n",
              " 'positive',\n",
              " 'neutral',\n",
              " 'positive',\n",
              " 'positive',\n",
              " 'positive',\n",
              " 'positive',\n",
              " 'positive',\n",
              " 'negative',\n",
              " 'negative',\n",
              " 'positive',\n",
              " 'neutral',\n",
              " 'positive',\n",
              " 'positive',\n",
              " 'neutral',\n",
              " 'positive',\n",
              " 'positive',\n",
              " 'positive',\n",
              " 'positive',\n",
              " 'positive',\n",
              " 'positive',\n",
              " 'neutral',\n",
              " 'positive',\n",
              " 'positive',\n",
              " 'neutral',\n",
              " 'positive',\n",
              " 'neutral',\n",
              " 'positive',\n",
              " 'positive',\n",
              " 'positive',\n",
              " 'positive',\n",
              " 'positive',\n",
              " 'positive',\n",
              " 'positive',\n",
              " 'positive',\n",
              " 'positive',\n",
              " 'positive',\n",
              " 'positive',\n",
              " 'neutral',\n",
              " 'positive',\n",
              " 'positive',\n",
              " 'negative',\n",
              " 'neutral',\n",
              " 'positive',\n",
              " 'positive',\n",
              " 'positive',\n",
              " 'positive',\n",
              " 'positive',\n",
              " 'neutral',\n",
              " 'positive',\n",
              " 'positive',\n",
              " 'positive',\n",
              " 'positive',\n",
              " 'positive',\n",
              " 'positive',\n",
              " 'positive',\n",
              " 'positive',\n",
              " 'positive',\n",
              " 'positive',\n",
              " 'positive',\n",
              " 'positive',\n",
              " 'positive',\n",
              " 'positive',\n",
              " 'positive',\n",
              " 'positive',\n",
              " 'positive',\n",
              " 'positive',\n",
              " 'negative',\n",
              " 'positive',\n",
              " 'negative',\n",
              " 'positive',\n",
              " 'positive',\n",
              " 'positive',\n",
              " 'positive',\n",
              " 'negative',\n",
              " 'positive',\n",
              " 'positive',\n",
              " 'positive',\n",
              " 'positive',\n",
              " 'positive',\n",
              " 'negative',\n",
              " 'neutral',\n",
              " 'positive',\n",
              " 'positive',\n",
              " 'positive',\n",
              " 'positive',\n",
              " 'positive',\n",
              " 'positive',\n",
              " 'positive',\n",
              " 'neutral',\n",
              " 'positive',\n",
              " 'positive',\n",
              " 'positive',\n",
              " 'positive',\n",
              " 'positive',\n",
              " 'positive',\n",
              " 'negative',\n",
              " 'positive',\n",
              " 'positive',\n",
              " 'positive',\n",
              " 'positive',\n",
              " 'negative',\n",
              " 'positive',\n",
              " 'positive',\n",
              " 'positive',\n",
              " 'positive',\n",
              " 'negative',\n",
              " 'positive',\n",
              " 'positive',\n",
              " 'positive',\n",
              " 'positive',\n",
              " 'positive',\n",
              " 'positive',\n",
              " 'positive',\n",
              " 'positive',\n",
              " 'positive',\n",
              " 'positive',\n",
              " 'positive',\n",
              " 'positive',\n",
              " 'positive',\n",
              " 'positive',\n",
              " 'positive',\n",
              " 'positive',\n",
              " 'neutral',\n",
              " 'positive',\n",
              " 'positive',\n",
              " 'positive',\n",
              " 'positive',\n",
              " 'positive',\n",
              " 'positive',\n",
              " 'negative',\n",
              " 'positive',\n",
              " 'positive',\n",
              " 'positive',\n",
              " 'positive',\n",
              " 'positive',\n",
              " 'positive',\n",
              " 'positive',\n",
              " 'positive',\n",
              " 'positive',\n",
              " 'positive',\n",
              " 'neutral',\n",
              " 'positive',\n",
              " 'positive',\n",
              " 'positive',\n",
              " 'positive',\n",
              " 'positive',\n",
              " 'positive',\n",
              " 'positive',\n",
              " 'positive',\n",
              " 'positive',\n",
              " 'positive',\n",
              " 'positive',\n",
              " 'positive',\n",
              " 'positive',\n",
              " 'positive',\n",
              " 'positive',\n",
              " 'positive',\n",
              " 'neutral',\n",
              " 'positive',\n",
              " 'positive',\n",
              " 'positive',\n",
              " 'positive',\n",
              " 'positive',\n",
              " 'positive',\n",
              " 'negative',\n",
              " 'negative',\n",
              " 'positive',\n",
              " 'positive',\n",
              " 'positive',\n",
              " 'positive',\n",
              " 'positive',\n",
              " 'positive',\n",
              " 'positive',\n",
              " 'negative',\n",
              " 'positive',\n",
              " 'positive',\n",
              " 'positive',\n",
              " 'positive',\n",
              " 'positive',\n",
              " 'positive',\n",
              " 'positive',\n",
              " 'positive',\n",
              " 'positive',\n",
              " 'positive',\n",
              " 'positive',\n",
              " 'positive',\n",
              " 'positive',\n",
              " 'neutral',\n",
              " 'positive',\n",
              " 'positive',\n",
              " 'positive',\n",
              " 'positive',\n",
              " 'positive',\n",
              " 'positive',\n",
              " 'positive',\n",
              " 'positive',\n",
              " 'positive',\n",
              " 'positive',\n",
              " 'positive',\n",
              " 'positive',\n",
              " 'positive',\n",
              " 'positive',\n",
              " 'positive',\n",
              " 'positive',\n",
              " 'positive',\n",
              " 'positive',\n",
              " 'positive',\n",
              " 'positive',\n",
              " 'neutral',\n",
              " 'positive',\n",
              " 'positive',\n",
              " 'neutral',\n",
              " 'positive',\n",
              " 'positive',\n",
              " 'positive',\n",
              " 'positive',\n",
              " 'positive',\n",
              " 'positive',\n",
              " 'positive',\n",
              " 'positive',\n",
              " 'positive',\n",
              " 'positive',\n",
              " 'positive',\n",
              " 'negative',\n",
              " 'positive',\n",
              " 'positive',\n",
              " 'positive',\n",
              " 'positive',\n",
              " 'positive',\n",
              " 'positive',\n",
              " 'negative',\n",
              " 'positive',\n",
              " 'positive',\n",
              " 'positive',\n",
              " 'neutral',\n",
              " 'positive',\n",
              " 'positive',\n",
              " 'positive',\n",
              " 'positive',\n",
              " 'positive',\n",
              " 'positive',\n",
              " 'positive',\n",
              " 'negative',\n",
              " 'positive',\n",
              " 'positive',\n",
              " 'positive',\n",
              " 'positive',\n",
              " 'positive',\n",
              " 'positive',\n",
              " 'positive',\n",
              " 'positive',\n",
              " 'positive',\n",
              " 'positive',\n",
              " 'positive',\n",
              " 'positive',\n",
              " 'positive',\n",
              " 'positive',\n",
              " 'positive',\n",
              " 'positive',\n",
              " 'positive',\n",
              " 'positive',\n",
              " 'positive',\n",
              " 'positive',\n",
              " 'positive',\n",
              " 'positive',\n",
              " 'positive',\n",
              " 'positive',\n",
              " 'positive',\n",
              " 'positive',\n",
              " 'positive',\n",
              " 'positive',\n",
              " 'positive',\n",
              " 'positive',\n",
              " 'positive',\n",
              " 'positive',\n",
              " 'positive',\n",
              " 'positive',\n",
              " 'positive',\n",
              " 'positive',\n",
              " 'positive',\n",
              " 'positive',\n",
              " 'positive',\n",
              " 'positive',\n",
              " 'positive',\n",
              " 'positive',\n",
              " 'neutral',\n",
              " 'positive',\n",
              " 'negative',\n",
              " 'positive',\n",
              " 'positive',\n",
              " 'positive',\n",
              " 'negative',\n",
              " 'positive',\n",
              " 'positive',\n",
              " 'negative',\n",
              " 'positive',\n",
              " 'positive',\n",
              " 'positive',\n",
              " 'positive',\n",
              " 'positive',\n",
              " 'positive',\n",
              " 'positive',\n",
              " 'positive',\n",
              " 'positive',\n",
              " 'positive',\n",
              " 'positive',\n",
              " 'positive',\n",
              " 'positive',\n",
              " 'positive',\n",
              " 'positive',\n",
              " 'positive',\n",
              " 'positive',\n",
              " 'positive',\n",
              " 'positive',\n",
              " 'positive',\n",
              " 'positive',\n",
              " 'positive',\n",
              " 'positive',\n",
              " 'positive',\n",
              " 'positive',\n",
              " 'positive',\n",
              " 'positive',\n",
              " 'positive',\n",
              " 'positive',\n",
              " 'positive',\n",
              " 'positive',\n",
              " 'positive',\n",
              " 'positive',\n",
              " 'positive',\n",
              " 'positive',\n",
              " 'positive',\n",
              " 'positive',\n",
              " 'positive',\n",
              " 'positive',\n",
              " 'positive',\n",
              " 'positive',\n",
              " 'positive',\n",
              " 'negative',\n",
              " 'neutral',\n",
              " 'positive',\n",
              " 'positive',\n",
              " 'negative',\n",
              " 'positive',\n",
              " 'positive',\n",
              " 'positive',\n",
              " 'negative',\n",
              " 'positive',\n",
              " 'positive',\n",
              " 'positive',\n",
              " 'positive',\n",
              " 'positive',\n",
              " 'positive',\n",
              " 'positive',\n",
              " 'positive',\n",
              " 'negative',\n",
              " 'positive',\n",
              " 'positive',\n",
              " 'positive',\n",
              " 'positive',\n",
              " 'positive',\n",
              " 'positive',\n",
              " 'positive',\n",
              " 'neutral',\n",
              " 'positive',\n",
              " 'positive',\n",
              " 'positive',\n",
              " 'positive',\n",
              " 'positive',\n",
              " 'positive',\n",
              " 'positive',\n",
              " 'positive',\n",
              " 'neutral',\n",
              " 'positive',\n",
              " 'positive',\n",
              " 'positive',\n",
              " 'neutral',\n",
              " 'positive',\n",
              " 'positive',\n",
              " 'positive',\n",
              " 'positive',\n",
              " 'positive',\n",
              " 'negative',\n",
              " 'positive',\n",
              " 'positive',\n",
              " 'positive',\n",
              " 'positive',\n",
              " 'positive',\n",
              " 'positive',\n",
              " 'positive',\n",
              " 'positive',\n",
              " 'positive',\n",
              " 'positive',\n",
              " 'positive',\n",
              " 'positive',\n",
              " 'positive',\n",
              " 'positive',\n",
              " 'positive',\n",
              " 'positive',\n",
              " 'positive',\n",
              " 'positive',\n",
              " 'neutral',\n",
              " 'neutral',\n",
              " 'positive',\n",
              " 'positive',\n",
              " 'negative',\n",
              " 'positive',\n",
              " 'positive',\n",
              " 'positive',\n",
              " 'positive',\n",
              " 'positive',\n",
              " 'positive',\n",
              " 'neutral',\n",
              " 'positive',\n",
              " 'positive',\n",
              " 'positive',\n",
              " 'positive',\n",
              " 'positive',\n",
              " 'positive',\n",
              " 'positive',\n",
              " 'positive',\n",
              " 'positive',\n",
              " 'positive',\n",
              " 'positive',\n",
              " 'neutral',\n",
              " 'positive',\n",
              " 'positive',\n",
              " 'positive',\n",
              " 'positive',\n",
              " 'positive',\n",
              " 'positive',\n",
              " 'positive',\n",
              " 'positive',\n",
              " 'neutral',\n",
              " 'positive',\n",
              " 'positive',\n",
              " 'negative',\n",
              " 'positive',\n",
              " 'positive',\n",
              " 'positive',\n",
              " 'positive',\n",
              " 'positive',\n",
              " 'neutral',\n",
              " 'positive',\n",
              " 'positive',\n",
              " 'positive',\n",
              " 'negative',\n",
              " 'positive',\n",
              " 'positive',\n",
              " 'positive',\n",
              " 'positive',\n",
              " 'positive',\n",
              " 'positive',\n",
              " 'neutral',\n",
              " 'positive',\n",
              " 'positive',\n",
              " 'positive',\n",
              " 'positive',\n",
              " 'positive',\n",
              " 'positive',\n",
              " 'positive',\n",
              " 'positive',\n",
              " 'positive',\n",
              " 'positive',\n",
              " 'positive',\n",
              " 'positive',\n",
              " 'neutral',\n",
              " 'positive',\n",
              " 'positive',\n",
              " 'positive',\n",
              " 'positive',\n",
              " 'positive',\n",
              " 'positive',\n",
              " 'positive',\n",
              " 'positive',\n",
              " 'positive',\n",
              " 'positive',\n",
              " 'positive',\n",
              " 'positive',\n",
              " 'positive',\n",
              " 'positive',\n",
              " 'neutral',\n",
              " 'positive',\n",
              " 'neutral',\n",
              " 'positive',\n",
              " 'positive',\n",
              " 'positive',\n",
              " 'positive',\n",
              " 'positive',\n",
              " 'positive',\n",
              " 'positive',\n",
              " 'positive',\n",
              " 'positive',\n",
              " 'positive',\n",
              " 'positive',\n",
              " 'positive',\n",
              " 'positive',\n",
              " 'positive',\n",
              " 'positive',\n",
              " 'negative',\n",
              " 'positive',\n",
              " 'positive',\n",
              " 'positive',\n",
              " 'negative',\n",
              " 'positive',\n",
              " 'positive',\n",
              " 'negative',\n",
              " 'positive',\n",
              " 'positive',\n",
              " 'positive',\n",
              " 'positive',\n",
              " 'positive',\n",
              " 'negative',\n",
              " 'positive',\n",
              " 'positive',\n",
              " 'positive',\n",
              " 'positive',\n",
              " 'positive',\n",
              " 'positive',\n",
              " 'positive',\n",
              " 'negative',\n",
              " 'positive',\n",
              " 'positive',\n",
              " 'positive',\n",
              " 'positive',\n",
              " 'positive',\n",
              " 'positive',\n",
              " 'positive',\n",
              " 'negative',\n",
              " 'positive',\n",
              " 'positive',\n",
              " 'positive',\n",
              " 'positive',\n",
              " 'positive',\n",
              " 'negative',\n",
              " 'positive',\n",
              " 'positive',\n",
              " 'positive',\n",
              " 'positive',\n",
              " 'positive',\n",
              " 'positive',\n",
              " 'positive',\n",
              " 'positive',\n",
              " 'positive',\n",
              " 'positive',\n",
              " 'positive',\n",
              " 'positive',\n",
              " 'positive',\n",
              " 'positive',\n",
              " 'positive',\n",
              " 'positive',\n",
              " 'positive',\n",
              " 'positive',\n",
              " 'positive',\n",
              " 'positive',\n",
              " 'positive',\n",
              " 'positive',\n",
              " 'positive',\n",
              " 'positive',\n",
              " 'positive',\n",
              " 'positive',\n",
              " 'positive',\n",
              " 'positive',\n",
              " 'positive',\n",
              " 'positive',\n",
              " 'neutral',\n",
              " 'positive',\n",
              " 'positive',\n",
              " 'positive',\n",
              " ...]"
            ]
          },
          "execution_count": 35,
          "metadata": {},
          "output_type": "execute_result"
        }
      ],
      "source": [
        "y_pred_labels"
      ]
    },
    {
      "cell_type": "code",
      "execution_count": null,
      "id": "46baa5f5-4281-4bef-8f0d-e30f2edd2e40",
      "metadata": {
        "id": "46baa5f5-4281-4bef-8f0d-e30f2edd2e40"
      },
      "outputs": [],
      "source": [
        "# save the results in the .txt file\n",
        "with open(\"amazonReviewsPredictions.txt\", \"w\") as f:\n",
        "    for label in y_pred_labels:\n",
        "        f.write(label + \"\\n\")"
      ]
    },
    {
      "cell_type": "markdown",
      "id": "bedea51a-231c-4699-a211-634245382d82",
      "metadata": {
        "id": "bedea51a-231c-4699-a211-634245382d82"
      },
      "source": [
        "### Test the format"
      ]
    },
    {
      "cell_type": "code",
      "execution_count": null,
      "id": "d8b8347e-e2e7-4feb-8c19-4b925855c98a",
      "metadata": {
        "id": "d8b8347e-e2e7-4feb-8c19-4b925855c98a",
        "outputId": "e26ab101-1070-4a1f-9acd-ab0e9600e994"
      },
      "outputs": [
        {
          "data": {
            "text/plain": [
              "'file looks ok'"
            ]
          },
          "execution_count": 37,
          "metadata": {},
          "output_type": "execute_result"
        }
      ],
      "source": [
        "def test():\n",
        "    i = 0\n",
        "    answers = ['negative', 'neutral', 'positive']\n",
        "    with open('amazonReviewsPredictions.txt', 'r') as outfile:\n",
        "        lines = outfile.readlines()\n",
        "        for line in lines:\n",
        "            if line.strip() not in answers:\n",
        "                return(\"invalid entry line %i\" % (i))\n",
        "            i += 1\n",
        "        if i != 10000:\n",
        "            return (\"incorrect number of lines\")\n",
        "        else:\n",
        "            return (\"file looks ok\")\n",
        "test()"
      ]
    }
  ],
  "metadata": {
    "kernelspec": {
      "display_name": "Python 3 (ipykernel)",
      "language": "python",
      "name": "python3"
    },
    "language_info": {
      "codemirror_mode": {
        "name": "ipython",
        "version": 3
      },
      "file_extension": ".py",
      "mimetype": "text/x-python",
      "name": "python",
      "nbconvert_exporter": "python",
      "pygments_lexer": "ipython3",
      "version": "3.9.13"
    },
    "colab": {
      "provenance": []
    }
  },
  "nbformat": 4,
  "nbformat_minor": 5
}