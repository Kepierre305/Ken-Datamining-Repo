{
  "cells": [
    {
      "cell_type": "markdown",
      "id": "5f9ad010-d3a3-4a5f-a609-f1620db5a59e",
      "metadata": {
        "id": "5f9ad010-d3a3-4a5f-a609-f1620db5a59e"
      },
      "source": [
        "### context"
      ]
    },
    {
      "cell_type": "markdown",
      "id": "c1ed81d1-98cb-4237-ae73-db8dd6789966",
      "metadata": {
        "id": "c1ed81d1-98cb-4237-ae73-db8dd6789966"
      },
      "source": [
        "This notebook is an image classification project that uses the Intel dataset of natural scenes around the world. The dataset contains around 25,000 images of size 150x150 pixels, which are categorized into six different classes: buildings, forest, glacier, mountain, sea, and street. The challenge of this project is to build a powerful neural network that can accurately classify the images into their respective categories. The dataset was initially published on datahack.analyticsvidhya.com by Intel to host an image classification challenge. The notebook aims to provide a practical example of building a convolutional neural network (CNN) for image classification using Keras and TensorFlow. The notebook includes data preprocessing steps, building and training a CNN model, and evaluating the model's accuracy on a test set."
      ]
    },
    {
      "cell_type": "markdown",
      "id": "20630135-f3a4-44d9-beb9-eeaff3ab58bf",
      "metadata": {
        "id": "20630135-f3a4-44d9-beb9-eeaff3ab58bf"
      },
      "source": [
        "### Libraries"
      ]
    },
    {
      "cell_type": "markdown",
      "id": "ca6852d8-4f8e-43ea-b935-9b7d5ee4137b",
      "metadata": {
        "id": "ca6852d8-4f8e-43ea-b935-9b7d5ee4137b"
      },
      "source": [
        "#### Acessing folders"
      ]
    },
    {
      "cell_type": "markdown",
      "id": "8fc89afd-99bf-40d0-bf3a-64fb6d2934ba",
      "metadata": {
        "id": "8fc89afd-99bf-40d0-bf3a-64fb6d2934ba"
      },
      "source": [
        "In the following part of the project, we will access each folder of the dataset and count the number of pictures for every class. This is an important step in any image classification project as it allows us to understand the distribution of the data and ensure that we have a balanced dataset. With this information, we can then proceed to prepare the data, build and train our deep learning model, and evaluate its performance on the test set. So let's get into it!"
      ]
    },
    {
      "cell_type": "code",
      "execution_count": null,
      "id": "11dee6da-ea2a-4e95-a20b-5e249d359af2",
      "metadata": {
        "id": "11dee6da-ea2a-4e95-a20b-5e249d359af2"
      },
      "outputs": [],
      "source": [
        "import pandas as pd\n",
        "import numpy as np\n",
        "import seaborn as sns\n",
        "import matplotlib.pyplot as plt\n",
        "\n",
        "import os\n",
        "import cv2\n",
        "import glob as gb\n",
        "\n",
        "from keras.utils import to_categorical\n",
        "from keras.models import Sequential\n",
        "from keras.layers import Conv2D, MaxPooling2D, Flatten, Dense, Dropout"
      ]
    },
    {
      "cell_type": "markdown",
      "id": "e1508935-7e4e-4238-a448-78a8e65727b2",
      "metadata": {
        "id": "e1508935-7e4e-4238-a448-78a8e65727b2"
      },
      "source": [
        "### Data reading"
      ]
    },
    {
      "cell_type": "code",
      "execution_count": null,
      "id": "4b034d9e-4cf0-47ee-bab3-a5f8a7ba19af",
      "metadata": {
        "id": "4b034d9e-4cf0-47ee-bab3-a5f8a7ba19af"
      },
      "outputs": [],
      "source": [
        "trainpath = './Dataset/seg_train/'\n",
        "testpath = './Dataset/seg_test/'"
      ]
    },
    {
      "cell_type": "code",
      "execution_count": null,
      "id": "d21fd889-c73a-472b-8fd1-de2e68f289d4",
      "metadata": {
        "id": "d21fd889-c73a-472b-8fd1-de2e68f289d4",
        "outputId": "1f6f25db-f0c6-4616-c1db-fcb7710f3e30"
      },
      "outputs": [
        {
          "name": "stdout",
          "output_type": "stream",
          "text": [
            "For training data , found 2191 in folder buildings\n",
            "For training data , found 2271 in folder forest\n",
            "For training data , found 2404 in folder glacier\n",
            "For training data , found 2512 in folder mountain\n",
            "For training data , found 2274 in folder sea\n",
            "For training data , found 2382 in folder street\n"
          ]
        }
      ],
      "source": [
        "for folder in  os.listdir(trainpath + 'seg_train') : \n",
        "    files = gb.glob(pathname= str( trainpath +'seg_train//' + folder + '/*.jpg'))\n",
        "    print(f'For training data , found {len(files)} in folder {folder}')"
      ]
    },
    {
      "cell_type": "code",
      "execution_count": null,
      "id": "80d43b38-2ded-4d6b-ba3f-52c94b6e2b98",
      "metadata": {
        "id": "80d43b38-2ded-4d6b-ba3f-52c94b6e2b98",
        "outputId": "f05901ed-9b86-40fd-f8bc-544e9d15b732"
      },
      "outputs": [
        {
          "name": "stdout",
          "output_type": "stream",
          "text": [
            "For testing data , found 437 in folder buildings\n",
            "For testing data , found 474 in folder forest\n",
            "For testing data , found 553 in folder glacier\n",
            "For testing data , found 525 in folder mountain\n",
            "For testing data , found 510 in folder sea\n",
            "For testing data , found 501 in folder street\n"
          ]
        }
      ],
      "source": [
        "for folder in  os.listdir(testpath +'seg_test') : \n",
        "    files = gb.glob(pathname= str( testpath +'seg_test//' + folder + '/*.jpg'))\n",
        "    print(f'For testing data , found {len(files)} in folder {folder}')"
      ]
    },
    {
      "cell_type": "markdown",
      "id": "39b5e34b-0131-4c82-9e09-8cd8adb41f17",
      "metadata": {
        "id": "39b5e34b-0131-4c82-9e09-8cd8adb41f17"
      },
      "source": [
        "#### Converting to numbers"
      ]
    },
    {
      "cell_type": "markdown",
      "id": "9d75bc6e-ce35-4e82-a181-b6ec0ad2f810",
      "metadata": {
        "id": "9d75bc6e-ce35-4e82-a181-b6ec0ad2f810"
      },
      "source": [
        "In this code snippet, we are loading the training images into memory and resizing them to a square shape of size s by s pixels, where s is a variable that we will define later on. We iterate over each folder in the 'seg_train' directory, then use the glob library to get a list of all JPEG files in the current folder. We then load each image using OpenCV, resize it to s by s pixels, and append it to the X_train list. Additionally, we append the corresponding class label (encoded as a numerical value) to the y_train list.\n",
        "\n",
        "It's important to resize the images to a consistent size, as deep learning models require fixed input dimensions. Here, we have chosen s=150,as it was marked in the Git."
      ]
    },
    {
      "cell_type": "code",
      "execution_count": null,
      "id": "e1300f2f-f438-47e1-a1e2-a9cdce3ed41b",
      "metadata": {
        "id": "e1300f2f-f438-47e1-a1e2-a9cdce3ed41b"
      },
      "outputs": [],
      "source": [
        "s = 150"
      ]
    },
    {
      "cell_type": "code",
      "execution_count": null,
      "id": "053bc0d0-b053-47c8-9fa3-1d40d5df66e2",
      "metadata": {
        "id": "053bc0d0-b053-47c8-9fa3-1d40d5df66e2"
      },
      "outputs": [],
      "source": [
        "code = {'buildings':0 ,'forest':1,'glacier':2,'mountain':3,'sea':4,'street':5}\n",
        "\n",
        "def getcode(n) : \n",
        "    for x , y in code.items() : \n",
        "        if n == y : \n",
        "            return x   "
      ]
    },
    {
      "cell_type": "code",
      "execution_count": null,
      "id": "9cb32753-f19f-4c63-bbc1-844818a8ecca",
      "metadata": {
        "id": "9cb32753-f19f-4c63-bbc1-844818a8ecca"
      },
      "outputs": [],
      "source": [
        "# Initialize empty lists to store the images and labels for the training set\n",
        "X_train = []\n",
        "y_train = []\n",
        "\n",
        "# Loop through each folder in the training directory\n",
        "for folder in os.listdir(trainpath + 'seg_train'):\n",
        "\n",
        "    # Find all the image files in the folder using glob\n",
        "    files = gb.glob(pathname=str(trainpath + 'seg_train//' + folder + '/*.jpg'))\n",
        "\n",
        "    # Loop through each image file\n",
        "    for file in files:\n",
        "        \n",
        "        # Read in the image using cv2\n",
        "        image = cv2.imread(file)\n",
        "\n",
        "        # Resize the image to the specified size (s,s) using cv2\n",
        "        image_array = cv2.resize(image, (s,s))\n",
        "\n",
        "        # Append the image to the X_train list as a nested list of pixel values\n",
        "        X_train.append(list(image_array))\n",
        "\n",
        "        # Append the corresponding label (numeric code) to the y_train list\n",
        "        y_train.append(code[folder])"
      ]
    },
    {
      "cell_type": "code",
      "execution_count": null,
      "id": "b3bed746-37d3-421e-92df-9d79a6589ec9",
      "metadata": {
        "id": "b3bed746-37d3-421e-92df-9d79a6589ec9",
        "outputId": "b332db78-9fe8-4088-934b-3c252592fd73"
      },
      "outputs": [
        {
          "data": {
            "text/plain": [
              "14034"
            ]
          },
          "execution_count": 8,
          "metadata": {},
          "output_type": "execute_result"
        }
      ],
      "source": [
        "len(X_train)"
      ]
    },
    {
      "cell_type": "markdown",
      "id": "4b2ed4b1-5a36-4a2a-8117-91fe24090686",
      "metadata": {
        "id": "4b2ed4b1-5a36-4a2a-8117-91fe24090686"
      },
      "source": [
        "Also for testing data ,we will be doing the same thing."
      ]
    },
    {
      "cell_type": "code",
      "execution_count": null,
      "id": "a4432c51-ec24-4215-9548-ef5ae932bf06",
      "metadata": {
        "id": "a4432c51-ec24-4215-9548-ef5ae932bf06"
      },
      "outputs": [],
      "source": [
        "# create empty lists to store images and labels\n",
        "X_test = []\n",
        "y_test = []\n",
        "\n",
        "# loop through each folder in the test directory\n",
        "for folder in  os.listdir(testpath +'seg_test') : \n",
        "    \n",
        "    # get a list of all the image files in the folder\n",
        "    files = gb.glob(pathname= str(testpath + 'seg_test//' + folder + '/*.jpg'))\n",
        "    \n",
        "    # loop through each image file in the folder\n",
        "    for file in files: \n",
        "        \n",
        "        # read in the image using OpenCV\n",
        "        image = cv2.imread(file)\n",
        "        \n",
        "        # resize the image to the desired size\n",
        "        image_array = cv2.resize(image , (s,s))\n",
        "        \n",
        "        # convert the image to a list and append it to the X_test list\n",
        "        X_test.append(list(image_array))\n",
        "        \n",
        "        # get the label for the image from the code dictionary and append it to the y_test list\n",
        "        y_test.append(code[folder])"
      ]
    },
    {
      "cell_type": "code",
      "execution_count": null,
      "id": "a98ff6d4-bea9-4b9d-96e7-2b51e5a45b27",
      "metadata": {
        "id": "a98ff6d4-bea9-4b9d-96e7-2b51e5a45b27",
        "outputId": "a73a94cd-4794-4846-c7ad-66d20050b1d6"
      },
      "outputs": [
        {
          "data": {
            "text/plain": [
              "3000"
            ]
          },
          "execution_count": 10,
          "metadata": {},
          "output_type": "execute_result"
        }
      ],
      "source": [
        "len(X_test)"
      ]
    },
    {
      "cell_type": "markdown",
      "id": "b41f51ea-96cd-4297-ab38-6841c3ebd817",
      "metadata": {
        "id": "b41f51ea-96cd-4297-ab38-6841c3ebd817"
      },
      "source": [
        "### Modeling"
      ]
    },
    {
      "cell_type": "markdown",
      "id": "5d75c4a7-66e9-4168-b837-6b23012993d5",
      "metadata": {
        "id": "5d75c4a7-66e9-4168-b837-6b23012993d5"
      },
      "source": [
        "Before modeling, we need to convert the X_train, X_test, y_train, and y_test lists into NumPy arrays as it is the required data type for modeling. We will use the np.array() function to convert the lists. Here's the code for that:"
      ]
    },
    {
      "cell_type": "code",
      "execution_count": null,
      "id": "2ca9e7db-9a0b-4094-af1f-bf22769d2122",
      "metadata": {
        "id": "2ca9e7db-9a0b-4094-af1f-bf22769d2122"
      },
      "outputs": [],
      "source": [
        "X_train = np.array(X_train)\n",
        "X_test = np.array(X_test)\n",
        "y_train = np.array(y_train)\n",
        "y_test = np.array(y_test)"
      ]
    },
    {
      "cell_type": "markdown",
      "id": "fe94bbd7-58f8-479a-b6ba-3e217a0594f0",
      "metadata": {
        "id": "fe94bbd7-58f8-479a-b6ba-3e217a0594f0"
      },
      "source": [
        "We can use the to_categorical function from the keras.utils module to convert the class labels from integers to categorical data."
      ]
    },
    {
      "cell_type": "code",
      "execution_count": null,
      "id": "8c3006de-0a76-4731-9322-d7bdc87f52fd",
      "metadata": {
        "id": "8c3006de-0a76-4731-9322-d7bdc87f52fd"
      },
      "outputs": [],
      "source": [
        "# Convert class labels to categorical data\n",
        "y_train = to_categorical(y_train)\n",
        "y_test = to_categorical(y_test)"
      ]
    },
    {
      "cell_type": "code",
      "execution_count": null,
      "id": "719957d0-e25f-4680-9111-2804b4c02071",
      "metadata": {
        "id": "719957d0-e25f-4680-9111-2804b4c02071",
        "outputId": "85a41d3e-8bf3-4e78-a20b-52094f9214e1"
      },
      "outputs": [
        {
          "name": "stdout",
          "output_type": "stream",
          "text": [
            "X_train shape: (14034, 150, 150, 3)\n",
            "y_train shape: (14034, 6)\n",
            "X_test shape: (3000, 150, 150, 3)\n",
            "y_test shape: (3000, 6)\n"
          ]
        }
      ],
      "source": [
        "print(\"X_train shape:\", X_train.shape)\n",
        "print(\"y_train shape:\", y_train.shape)\n",
        "print(\"X_test shape:\", X_test.shape)\n",
        "print(\"y_test shape:\", y_test.shape)"
      ]
    },
    {
      "cell_type": "code",
      "execution_count": null,
      "id": "df0fbcec-3557-45d7-bc6b-f44ca263900e",
      "metadata": {
        "id": "df0fbcec-3557-45d7-bc6b-f44ca263900e"
      },
      "outputs": [],
      "source": [
        "# Define the model\n",
        "model = Sequential()\n",
        "\n",
        "# Add the convolutional layer\n",
        "model.add(Conv2D(filters=32, kernel_size=(3,3), activation='relu', input_shape=X_train[0].shape))\n",
        "model.add(MaxPooling2D(pool_size=(2,2)))\n",
        "\n",
        "# Add more convolutional layer\n",
        "model.add(Conv2D(filters=64, kernel_size=(3,3), activation='relu'))\n",
        "model.add(MaxPooling2D(pool_size=(2,2)))\n",
        "\n",
        "# Add more convolutional layer\n",
        "model.add(Conv2D(filters=128, kernel_size=(3,3), activation='relu'))\n",
        "model.add(MaxPooling2D(pool_size=(2,2)))\n",
        "\n",
        "# Flatten the output layer\n",
        "model.add(Flatten())\n",
        "\n",
        "# Add the fully connected layer\n",
        "model.add(Dense(units=128, activation='relu'))\n",
        "model.add(Dropout(0.5))\n",
        "\n",
        "# Add the output layer\n",
        "model.add(Dense(units=6, activation='softmax'))"
      ]
    },
    {
      "cell_type": "code",
      "execution_count": null,
      "id": "adecc081-a610-4cb7-9b98-4ef464715a1d",
      "metadata": {
        "id": "adecc081-a610-4cb7-9b98-4ef464715a1d",
        "outputId": "80fb4450-340f-4bc3-c09f-2480311ca498"
      },
      "outputs": [
        {
          "name": "stdout",
          "output_type": "stream",
          "text": [
            "Model: \"sequential\"\n",
            "_________________________________________________________________\n",
            " Layer (type)                Output Shape              Param #   \n",
            "=================================================================\n",
            " conv2d (Conv2D)             (None, 148, 148, 32)      896       \n",
            "                                                                 \n",
            " max_pooling2d (MaxPooling2D  (None, 74, 74, 32)       0         \n",
            " )                                                               \n",
            "                                                                 \n",
            " conv2d_1 (Conv2D)           (None, 72, 72, 64)        18496     \n",
            "                                                                 \n",
            " max_pooling2d_1 (MaxPooling  (None, 36, 36, 64)       0         \n",
            " 2D)                                                             \n",
            "                                                                 \n",
            " conv2d_2 (Conv2D)           (None, 34, 34, 128)       73856     \n",
            "                                                                 \n",
            " max_pooling2d_2 (MaxPooling  (None, 17, 17, 128)      0         \n",
            " 2D)                                                             \n",
            "                                                                 \n",
            " flatten (Flatten)           (None, 36992)             0         \n",
            "                                                                 \n",
            " dense (Dense)               (None, 128)               4735104   \n",
            "                                                                 \n",
            " dropout (Dropout)           (None, 128)               0         \n",
            "                                                                 \n",
            " dense_1 (Dense)             (None, 6)                 774       \n",
            "                                                                 \n",
            "=================================================================\n",
            "Total params: 4,829,126\n",
            "Trainable params: 4,829,126\n",
            "Non-trainable params: 0\n",
            "_________________________________________________________________\n"
          ]
        }
      ],
      "source": [
        "model.summary()"
      ]
    },
    {
      "cell_type": "markdown",
      "id": "bc5434f8-dcce-47af-8ff8-42db36eb4ef7",
      "metadata": {
        "id": "bc5434f8-dcce-47af-8ff8-42db36eb4ef7"
      },
      "source": [
        "This model is a convolutional neural network (CNN) consisting of three convolutional layers, each followed by a max pooling layer to reduce the dimensionality of the features. The first convolutional layer has 32 filters of size 3x3, while the second and third layers have 64 and 128 filters of size 3x3 respectively. The output of the last pooling layer is flattened and fed into a fully connected layer of 128 neurons, followed by a dropout layer to reduce overfitting, and finally a dense layer with 6 neurons, corresponding to the 6 classes of the dataset. The total number of trainable parameters in this model is 4,829,126, and the output shape of the model is (None, 6), where None corresponds to the batch size."
      ]
    },
    {
      "cell_type": "code",
      "execution_count": null,
      "id": "50f1db6d-f47c-4f2c-903f-4ebfff2f0822",
      "metadata": {
        "id": "50f1db6d-f47c-4f2c-903f-4ebfff2f0822"
      },
      "outputs": [],
      "source": [
        "# Compile the model\n",
        "model.compile(optimizer='adam', loss='categorical_crossentropy', metrics=['accuracy'])"
      ]
    },
    {
      "cell_type": "code",
      "execution_count": null,
      "id": "0c0fb218-f94b-4a12-822b-52b01cf4a201",
      "metadata": {
        "id": "0c0fb218-f94b-4a12-822b-52b01cf4a201",
        "outputId": "c5411b7c-a89b-4d1c-ebaf-3b24096b5bb0"
      },
      "outputs": [
        {
          "name": "stdout",
          "output_type": "stream",
          "text": [
            "Epoch 1/10\n",
            "439/439 [==============================] - 222s 505ms/step - loss: 3.7609 - accuracy: 0.2086 - val_loss: 1.7878 - val_accuracy: 0.1837\n",
            "Epoch 2/10\n",
            "439/439 [==============================] - 238s 541ms/step - loss: 1.7139 - accuracy: 0.2727 - val_loss: 1.3675 - val_accuracy: 0.4823\n",
            "Epoch 3/10\n",
            "439/439 [==============================] - 242s 552ms/step - loss: 1.3376 - accuracy: 0.4639 - val_loss: 1.2579 - val_accuracy: 0.4723\n",
            "Epoch 4/10\n",
            "439/439 [==============================] - 237s 540ms/step - loss: 1.1435 - accuracy: 0.5287 - val_loss: 1.0387 - val_accuracy: 0.5670\n",
            "Epoch 5/10\n",
            "439/439 [==============================] - 231s 526ms/step - loss: 1.0611 - accuracy: 0.5655 - val_loss: 0.9929 - val_accuracy: 0.5887\n",
            "Epoch 6/10\n",
            "439/439 [==============================] - 222s 507ms/step - loss: 1.0715 - accuracy: 0.5647 - val_loss: 1.0305 - val_accuracy: 0.5700\n",
            "Epoch 7/10\n",
            "439/439 [==============================] - 218s 496ms/step - loss: 0.9549 - accuracy: 0.6149 - val_loss: 0.9833 - val_accuracy: 0.5980\n",
            "Epoch 8/10\n",
            "439/439 [==============================] - 215s 490ms/step - loss: 0.9354 - accuracy: 0.6233 - val_loss: 1.0013 - val_accuracy: 0.6007\n",
            "Epoch 9/10\n",
            "439/439 [==============================] - 215s 491ms/step - loss: 0.8518 - accuracy: 0.6638 - val_loss: 1.0258 - val_accuracy: 0.5973\n",
            "Epoch 10/10\n",
            "439/439 [==============================] - 214s 488ms/step - loss: 0.7426 - accuracy: 0.7134 - val_loss: 0.9345 - val_accuracy: 0.6707\n"
          ]
        }
      ],
      "source": [
        "# Train the model\n",
        "history = model.fit(X_train, y_train, epochs=10, batch_size=32, validation_data=(X_test, y_test))"
      ]
    },
    {
      "cell_type": "code",
      "execution_count": null,
      "id": "22e19c64-d77b-4b38-b31e-0c9b72ae655d",
      "metadata": {
        "id": "22e19c64-d77b-4b38-b31e-0c9b72ae655d",
        "outputId": "7af18d9b-a101-4b34-c72e-47f55ae20f6e"
      },
      "outputs": [
        {
          "data": {
            "image/png": "[encoded data removed]",
            "text/plain": [
              "<Figure size 640x480 with 1 Axes>"
            ]
          },
          "metadata": {},
          "output_type": "display_data"
        },
        {
          "data": {
            "image/png": "[encoded data removed]",
            "text/plain": [
              "<Figure size 640x480 with 1 Axes>"
            ]
          },
          "metadata": {},
          "output_type": "display_data"
        }
      ],
      "source": [
        "# Plot training & validation accuracy values\n",
        "plt.plot(history.history['accuracy'])\n",
        "plt.plot(history.history['val_accuracy'])\n",
        "plt.title('Model accuracy')\n",
        "plt.ylabel('Accuracy')\n",
        "plt.xlabel('Epoch')\n",
        "plt.legend(['Train', 'Test'], loc='upper left')\n",
        "plt.show()\n",
        "\n",
        "# Plot training & validation loss values\n",
        "plt.plot(history.history['loss'])\n",
        "plt.plot(history.history['val_loss'])\n",
        "plt.title('Model loss')\n",
        "plt.ylabel('Loss')\n",
        "plt.xlabel('Epoch')\n",
        "plt.legend(['Train', 'Test'], loc='upper left')\n",
        "plt.show()\n"
      ]
    },
    {
      "cell_type": "code",
      "execution_count": null,
      "id": "e235e680-0b0b-44cf-8cc0-343b9e23322d",
      "metadata": {
        "id": "e235e680-0b0b-44cf-8cc0-343b9e23322d",
        "outputId": "ca9019fe-192c-48ae-fb7c-e76e227ee9aa"
      },
      "outputs": [
        {
          "name": "stdout",
          "output_type": "stream",
          "text": [
            "94/94 [==============================] - 13s 134ms/step - loss: 0.9345 - accuracy: 0.6707\n",
            "Test accuracy: 0.6706666946411133\n"
          ]
        }
      ],
      "source": [
        "# Evaluate the model on the test data\n",
        "test_loss, test_acc = model.evaluate(X_test, y_test)\n",
        "\n",
        "# Print the test accuracy\n",
        "print('Test accuracy:', test_acc)"
      ]
    },
    {
      "cell_type": "markdown",
      "id": "b15c713b-4948-4ce5-9966-5bb382ce7c58",
      "metadata": {
        "id": "b15c713b-4948-4ce5-9966-5bb382ce7c58"
      },
      "source": [
        "The final results of the model show that after training the model on the dataset, the loss achieved on the training set is 0.9345 and the accuracy achieved is 0.6707. This means that the model was able to correctly classify the images in the training set with an accuracy of 67.07%. On the testing data, the accuracy achieved was 0.6707 which means that the model was able to correctly classify the images in the testing set with an accuracy of 67.07%. This accuracy can be improved by increasing the complexity of the model, training it for more epochs or by using other techniques such as data augmentation."
      ]
    }
  ],
  "metadata": {
    "kernelspec": {
      "display_name": "Python 3 (ipykernel)",
      "language": "python",
      "name": "python3"
    },
    "language_info": {
      "codemirror_mode": {
        "name": "ipython",
        "version": 3
      },
      "file_extension": ".py",
      "mimetype": "text/x-python",
      "name": "python",
      "nbconvert_exporter": "python",
      "pygments_lexer": "ipython3",
      "version": "3.9.13"
    },
    "colab": {
      "provenance": []
    }
  },
  "nbformat": 4,
  "nbformat_minor": 5
}