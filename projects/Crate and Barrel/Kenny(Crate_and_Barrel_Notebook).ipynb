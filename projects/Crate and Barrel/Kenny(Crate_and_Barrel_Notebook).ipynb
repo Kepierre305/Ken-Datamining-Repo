{
  "cells": [
    {
      "cell_type": "markdown",
      "id": "44c9e94e-1dbe-4472-91ee-83de8765dd19",
      "metadata": {
        "id": "44c9e94e-1dbe-4472-91ee-83de8765dd19"
      },
      "source": [
        "### Conetxt"
      ]
    },
    {
      "cell_type": "markdown",
      "id": "e43dfef9-9f79-448f-b75b-84c9cf1826e5",
      "metadata": {
        "id": "e43dfef9-9f79-448f-b75b-84c9cf1826e5"
      },
      "source": [
        "Welcome to this notebook for the Otto Group Product Classification Challenge! The Otto Group is a global e-commerce company that sells millions of products worldwide, with several thousand products being added to its product line every day. Accurately clustering similar products is essential for analyzing the performance of their products, but due to their diverse global infrastructure, many identical products get classified differently. In this competition, we are tasked with building a predictive model that can distinguish between the main product categories based on a dataset containing 93 numerical features for more than 200,000 products.\n",
        "\n",
        "Data fields\n",
        "- id - an anonymous id unique to a product\n",
        "- feat_1, feat_2, ..., feat_93 - the various features of a product\n",
        "- target - the class of a product\n",
        "\n",
        "Let's get started!"
      ]
    },
    {
      "cell_type": "markdown",
      "id": "118a1480-7f42-427a-8245-dee01e683619",
      "metadata": {
        "id": "118a1480-7f42-427a-8245-dee01e683619"
      },
      "source": [
        "### Libraries"
      ]
    },
    {
      "cell_type": "code",
      "execution_count": 1,
      "id": "a4e73912-35e1-4c85-9231-108d6630e85f",
      "metadata": {
        "id": "a4e73912-35e1-4c85-9231-108d6630e85f"
      },
      "outputs": [],
      "source": [
        "import pandas as pd\n",
        "import numpy as np\n",
        "import matplotlib.pyplot as plt\n",
        "import seaborn as sns\n",
        "\n",
        "from sklearn.model_selection import StratifiedShuffleSplit\n",
        "from sklearn.preprocessing import LabelEncoder\n",
        "from sklearn.preprocessing import StandardScaler\n",
        "from xgboost.sklearn import XGBClassifier\n",
        "from sklearn.metrics import log_loss\n",
        "from sklearn.model_selection import GridSearchCV\n",
        "from sklearn.calibration import CalibratedClassifierCV\n",
        "\n",
        "import imblearn\n",
        "from imblearn.over_sampling import RandomOverSampler"
      ]
    },
    {
      "cell_type": "markdown",
      "id": "77654471-16e8-47ae-a503-4b6cc952c7c0",
      "metadata": {
        "id": "77654471-16e8-47ae-a503-4b6cc952c7c0"
      },
      "source": [
        "### Data reading"
      ]
    },
    {
      "cell_type": "code",
      "execution_count": 3,
      "id": "718f531c-ec50-480a-8ce1-831f8fdfe3a9",
      "metadata": {
        "id": "718f531c-ec50-480a-8ce1-831f8fdfe3a9"
      },
      "outputs": [],
      "source": [
        "train = pd.read_csv('train.csv')\n",
        "test = pd.read_csv('test.csv')\n",
        "sample = pd.read_csv('sampleSubmission.csv')"
      ]
    },
    {
      "cell_type": "code",
      "execution_count": 4,
      "id": "1a14e264-9a23-4c66-9c8c-47f83e67d96a",
      "metadata": {
        "id": "1a14e264-9a23-4c66-9c8c-47f83e67d96a",
        "outputId": "e6219013-1478-4a24-dabc-41dee4de2f96",
        "colab": {
          "base_uri": "https://localhost:8080/"
        }
      },
      "outputs": [
        {
          "output_type": "execute_result",
          "data": {
            "text/plain": [
              "((61878, 95), (144368, 94), (144368, 10))"
            ]
          },
          "metadata": {},
          "execution_count": 4
        }
      ],
      "source": [
        "train.shape, test.shape, sample.shape"
      ]
    },
    {
      "cell_type": "code",
      "execution_count": 5,
      "id": "e015bc88-430f-4f2b-98d1-8c2595c808c1",
      "metadata": {
        "id": "e015bc88-430f-4f2b-98d1-8c2595c808c1",
        "outputId": "25fe0fd7-e469-4f33-a20d-2b81b8450129",
        "colab": {
          "base_uri": "https://localhost:8080/"
        }
      },
      "outputs": [
        {
          "output_type": "execute_result",
          "data": {
            "text/plain": [
              "Index(['id', 'feat_1', 'feat_2', 'feat_3', 'feat_4', 'feat_5', 'feat_6',\n",
              "       'feat_7', 'feat_8', 'feat_9', 'feat_10', 'feat_11', 'feat_12',\n",
              "       'feat_13', 'feat_14', 'feat_15', 'feat_16', 'feat_17', 'feat_18',\n",
              "       'feat_19', 'feat_20', 'feat_21', 'feat_22', 'feat_23', 'feat_24',\n",
              "       'feat_25', 'feat_26', 'feat_27', 'feat_28', 'feat_29', 'feat_30',\n",
              "       'feat_31', 'feat_32', 'feat_33', 'feat_34', 'feat_35', 'feat_36',\n",
              "       'feat_37', 'feat_38', 'feat_39', 'feat_40', 'feat_41', 'feat_42',\n",
              "       'feat_43', 'feat_44', 'feat_45', 'feat_46', 'feat_47', 'feat_48',\n",
              "       'feat_49', 'feat_50', 'feat_51', 'feat_52', 'feat_53', 'feat_54',\n",
              "       'feat_55', 'feat_56', 'feat_57', 'feat_58', 'feat_59', 'feat_60',\n",
              "       'feat_61', 'feat_62', 'feat_63', 'feat_64', 'feat_65', 'feat_66',\n",
              "       'feat_67', 'feat_68', 'feat_69', 'feat_70', 'feat_71', 'feat_72',\n",
              "       'feat_73', 'feat_74', 'feat_75', 'feat_76', 'feat_77', 'feat_78',\n",
              "       'feat_79', 'feat_80', 'feat_81', 'feat_82', 'feat_83', 'feat_84',\n",
              "       'feat_85', 'feat_86', 'feat_87', 'feat_88', 'feat_89', 'feat_90',\n",
              "       'feat_91', 'feat_92', 'feat_93', 'target'],\n",
              "      dtype='object')"
            ]
          },
          "metadata": {},
          "execution_count": 5
        }
      ],
      "source": [
        "train.columns"
      ]
    },
    {
      "cell_type": "code",
      "execution_count": 6,
      "id": "31c968ec-00ce-48d6-bbfd-2029db6b48db",
      "metadata": {
        "id": "31c968ec-00ce-48d6-bbfd-2029db6b48db",
        "outputId": "398eb4bd-6b27-4e57-826f-f0f77c602cf5",
        "colab": {
          "base_uri": "https://localhost:8080/",
          "height": 236
        }
      },
      "outputs": [
        {
          "output_type": "execute_result",
          "data": {
            "text/plain": [
              "   id  feat_1  feat_2  feat_3  feat_4  feat_5  feat_6  feat_7  feat_8  feat_9  \\\n",
              "0   1       1       0       0       0       0       0       0       0       0   \n",
              "1   2       0       0       0       0       0       0       0       1       0   \n",
              "2   3       0       0       0       0       0       0       0       1       0   \n",
              "3   4       1       0       0       1       6       1       5       0       0   \n",
              "4   5       0       0       0       0       0       0       0       0       0   \n",
              "\n",
              "   ...  feat_85  feat_86  feat_87  feat_88  feat_89  feat_90  feat_91  \\\n",
              "0  ...        1        0        0        0        0        0        0   \n",
              "1  ...        0        0        0        0        0        0        0   \n",
              "2  ...        0        0        0        0        0        0        0   \n",
              "3  ...        0        1        2        0        0        0        0   \n",
              "4  ...        1        0        0        0        0        1        0   \n",
              "\n",
              "   feat_92  feat_93   target  \n",
              "0        0        0  Class_1  \n",
              "1        0        0  Class_1  \n",
              "2        0        0  Class_1  \n",
              "3        0        0  Class_1  \n",
              "4        0        0  Class_1  \n",
              "\n",
              "[5 rows x 95 columns]"
            ],
            "text/html": [
              "\n",
              "  <div id=\"df-b31eba93-d6a4-44e0-b506-868ae364ca1f\">\n",
              "    <div class=\"colab-df-container\">\n",
              "      <div>\n",
              "<style scoped>\n",
              "    .dataframe tbody tr th:only-of-type {\n",
              "        vertical-align: middle;\n",
              "    }\n",
              "\n",
              "    .dataframe tbody tr th {\n",
              "        vertical-align: top;\n",
              "    }\n",
              "\n",
              "    .dataframe thead th {\n",
              "        text-align: right;\n",
              "    }\n",
              "</style>\n",
              "<table border=\"1\" class=\"dataframe\">\n",
              "  <thead>\n",
              "    <tr style=\"text-align: right;\">\n",
              "      <th></th>\n",
              "      <th>id</th>\n",
              "      <th>feat_1</th>\n",
              "      <th>feat_2</th>\n",
              "      <th>feat_3</th>\n",
              "      <th>feat_4</th>\n",
              "      <th>feat_5</th>\n",
              "      <th>feat_6</th>\n",
              "      <th>feat_7</th>\n",
              "      <th>feat_8</th>\n",
              "      <th>feat_9</th>\n",
              "      <th>...</th>\n",
              "      <th>feat_85</th>\n",
              "      <th>feat_86</th>\n",
              "      <th>feat_87</th>\n",
              "      <th>feat_88</th>\n",
              "      <th>feat_89</th>\n",
              "      <th>feat_90</th>\n",
              "      <th>feat_91</th>\n",
              "      <th>feat_92</th>\n",
              "      <th>feat_93</th>\n",
              "      <th>target</th>\n",
              "    </tr>\n",
              "  </thead>\n",
              "  <tbody>\n",
              "    <tr>\n",
              "      <th>0</th>\n",
              "      <td>1</td>\n",
              "      <td>1</td>\n",
              "      <td>0</td>\n",
              "      <td>0</td>\n",
              "      <td>0</td>\n",
              "      <td>0</td>\n",
              "      <td>0</td>\n",
              "      <td>0</td>\n",
              "      <td>0</td>\n",
              "      <td>0</td>\n",
              "      <td>...</td>\n",
              "      <td>1</td>\n",
              "      <td>0</td>\n",
              "      <td>0</td>\n",
              "      <td>0</td>\n",
              "      <td>0</td>\n",
              "      <td>0</td>\n",
              "      <td>0</td>\n",
              "      <td>0</td>\n",
              "      <td>0</td>\n",
              "      <td>Class_1</td>\n",
              "    </tr>\n",
              "    <tr>\n",
              "      <th>1</th>\n",
              "      <td>2</td>\n",
              "      <td>0</td>\n",
              "      <td>0</td>\n",
              "      <td>0</td>\n",
              "      <td>0</td>\n",
              "      <td>0</td>\n",
              "      <td>0</td>\n",
              "      <td>0</td>\n",
              "      <td>1</td>\n",
              "      <td>0</td>\n",
              "      <td>...</td>\n",
              "      <td>0</td>\n",
              "      <td>0</td>\n",
              "      <td>0</td>\n",
              "      <td>0</td>\n",
              "      <td>0</td>\n",
              "      <td>0</td>\n",
              "      <td>0</td>\n",
              "      <td>0</td>\n",
              "      <td>0</td>\n",
              "      <td>Class_1</td>\n",
              "    </tr>\n",
              "    <tr>\n",
              "      <th>2</th>\n",
              "      <td>3</td>\n",
              "      <td>0</td>\n",
              "      <td>0</td>\n",
              "      <td>0</td>\n",
              "      <td>0</td>\n",
              "      <td>0</td>\n",
              "      <td>0</td>\n",
              "      <td>0</td>\n",
              "      <td>1</td>\n",
              "      <td>0</td>\n",
              "      <td>...</td>\n",
              "      <td>0</td>\n",
              "      <td>0</td>\n",
              "      <td>0</td>\n",
              "      <td>0</td>\n",
              "      <td>0</td>\n",
              "      <td>0</td>\n",
              "      <td>0</td>\n",
              "      <td>0</td>\n",
              "      <td>0</td>\n",
              "      <td>Class_1</td>\n",
              "    </tr>\n",
              "    <tr>\n",
              "      <th>3</th>\n",
              "      <td>4</td>\n",
              "      <td>1</td>\n",
              "      <td>0</td>\n",
              "      <td>0</td>\n",
              "      <td>1</td>\n",
              "      <td>6</td>\n",
              "      <td>1</td>\n",
              "      <td>5</td>\n",
              "      <td>0</td>\n",
              "      <td>0</td>\n",
              "      <td>...</td>\n",
              "      <td>0</td>\n",
              "      <td>1</td>\n",
              "      <td>2</td>\n",
              "      <td>0</td>\n",
              "      <td>0</td>\n",
              "      <td>0</td>\n",
              "      <td>0</td>\n",
              "      <td>0</td>\n",
              "      <td>0</td>\n",
              "      <td>Class_1</td>\n",
              "    </tr>\n",
              "    <tr>\n",
              "      <th>4</th>\n",
              "      <td>5</td>\n",
              "      <td>0</td>\n",
              "      <td>0</td>\n",
              "      <td>0</td>\n",
              "      <td>0</td>\n",
              "      <td>0</td>\n",
              "      <td>0</td>\n",
              "      <td>0</td>\n",
              "      <td>0</td>\n",
              "      <td>0</td>\n",
              "      <td>...</td>\n",
              "      <td>1</td>\n",
              "      <td>0</td>\n",
              "      <td>0</td>\n",
              "      <td>0</td>\n",
              "      <td>0</td>\n",
              "      <td>1</td>\n",
              "      <td>0</td>\n",
              "      <td>0</td>\n",
              "      <td>0</td>\n",
              "      <td>Class_1</td>\n",
              "    </tr>\n",
              "  </tbody>\n",
              "</table>\n",
              "<p>5 rows × 95 columns</p>\n",
              "</div>\n",
              "      <button class=\"colab-df-convert\" onclick=\"convertToInteractive('df-b31eba93-d6a4-44e0-b506-868ae364ca1f')\"\n",
              "              title=\"Convert this dataframe to an interactive table.\"\n",
              "              style=\"display:none;\">\n",
              "        \n",
              "  <svg xmlns=\"http://www.w3.org/2000/svg\" height=\"24px\"viewBox=\"0 0 24 24\"\n",
              "       width=\"24px\">\n",
              "    <path d=\"M0 0h24v24H0V0z\" fill=\"none\"/>\n",
              "    <path d=\"M18.56 5.44l.94 2.06.94-2.06 2.06-.94-2.06-.94-.94-2.06-.94 2.06-2.06.94zm-11 1L8.5 8.5l.94-2.06 2.06-.94-2.06-.94L8.5 2.5l-.94 2.06-2.06.94zm10 10l.94 2.06.94-2.06 2.06-.94-2.06-.94-.94-2.06-.94 2.06-2.06.94z\"/><path d=\"M17.41 7.96l-1.37-1.37c-.4-.4-.92-.59-1.43-.59-.52 0-1.04.2-1.43.59L10.3 9.45l-7.72 7.72c-.78.78-.78 2.05 0 2.83L4 21.41c.39.39.9.59 1.41.59.51 0 1.02-.2 1.41-.59l7.78-7.78 2.81-2.81c.8-.78.8-2.07 0-2.86zM5.41 20L4 18.59l7.72-7.72 1.47 1.35L5.41 20z\"/>\n",
              "  </svg>\n",
              "      </button>\n",
              "      \n",
              "  <style>\n",
              "    .colab-df-container {\n",
              "      display:flex;\n",
              "      flex-wrap:wrap;\n",
              "      gap: 12px;\n",
              "    }\n",
              "\n",
              "    .colab-df-convert {\n",
              "      background-color: #E8F0FE;\n",
              "      border: none;\n",
              "      border-radius: 50%;\n",
              "      cursor: pointer;\n",
              "      display: none;\n",
              "      fill: #1967D2;\n",
              "      height: 32px;\n",
              "      padding: 0 0 0 0;\n",
              "      width: 32px;\n",
              "    }\n",
              "\n",
              "    .colab-df-convert:hover {\n",
              "      background-color: #E2EBFA;\n",
              "      box-shadow: 0px 1px 2px rgba(60, 64, 67, 0.3), 0px 1px 3px 1px rgba(60, 64, 67, 0.15);\n",
              "      fill: #174EA6;\n",
              "    }\n",
              "\n",
              "    [theme=dark] .colab-df-convert {\n",
              "      background-color: #3B4455;\n",
              "      fill: #D2E3FC;\n",
              "    }\n",
              "\n",
              "    [theme=dark] .colab-df-convert:hover {\n",
              "      background-color: #434B5C;\n",
              "      box-shadow: 0px 1px 3px 1px rgba(0, 0, 0, 0.15);\n",
              "      filter: drop-shadow(0px 1px 2px rgba(0, 0, 0, 0.3));\n",
              "      fill: #FFFFFF;\n",
              "    }\n",
              "  </style>\n",
              "\n",
              "      <script>\n",
              "        const buttonEl =\n",
              "          document.querySelector('#df-b31eba93-d6a4-44e0-b506-868ae364ca1f button.colab-df-convert');\n",
              "        buttonEl.style.display =\n",
              "          google.colab.kernel.accessAllowed ? 'block' : 'none';\n",
              "\n",
              "        async function convertToInteractive(key) {\n",
              "          const element = document.querySelector('#df-b31eba93-d6a4-44e0-b506-868ae364ca1f');\n",
              "          const dataTable =\n",
              "            await google.colab.kernel.invokeFunction('convertToInteractive',\n",
              "                                                     [key], {});\n",
              "          if (!dataTable) return;\n",
              "\n",
              "          const docLinkHtml = 'Like what you see? Visit the ' +\n",
              "            '<a target=\"_blank\" href=https://colab.research.google.com/notebooks/data_table.ipynb>data table notebook</a>'\n",
              "            + ' to learn more about interactive tables.';\n",
              "          element.innerHTML = '';\n",
              "          dataTable['output_type'] = 'display_data';\n",
              "          await google.colab.output.renderOutput(dataTable, element);\n",
              "          const docLink = document.createElement('div');\n",
              "          docLink.innerHTML = docLinkHtml;\n",
              "          element.appendChild(docLink);\n",
              "        }\n",
              "      </script>\n",
              "    </div>\n",
              "  </div>\n",
              "  "
            ]
          },
          "metadata": {},
          "execution_count": 6
        }
      ],
      "source": [
        "train.head()"
      ]
    },
    {
      "cell_type": "code",
      "execution_count": 7,
      "id": "2ae660a3-ee83-4e11-9776-8695b6eb05f3",
      "metadata": {
        "id": "2ae660a3-ee83-4e11-9776-8695b6eb05f3",
        "outputId": "41e354ae-9efd-4487-f39d-efa977d22fc3",
        "colab": {
          "base_uri": "https://localhost:8080/",
          "height": 236
        }
      },
      "outputs": [
        {
          "output_type": "execute_result",
          "data": {
            "text/plain": [
              "          id  feat_1  feat_2  feat_3  feat_4  feat_5  feat_6  feat_7  feat_8  \\\n",
              "61873  61874       1       0       0       1       1       0       0       0   \n",
              "61874  61875       4       0       0       0       0       0       0       0   \n",
              "61875  61876       0       0       0       0       0       0       0       3   \n",
              "61876  61877       1       0       0       0       0       0       0       0   \n",
              "61877  61878       0       0       0       0       0       0       0       0   \n",
              "\n",
              "       feat_9  ...  feat_85  feat_86  feat_87  feat_88  feat_89  feat_90  \\\n",
              "61873       0  ...        1        0        0        0        0        0   \n",
              "61874       0  ...        0        2        0        0        2        0   \n",
              "61875       1  ...        0        3        1        0        0        0   \n",
              "61876       0  ...        0        0        0        0        1        0   \n",
              "61877       0  ...        0        0        0        0        0        0   \n",
              "\n",
              "       feat_91  feat_92  feat_93   target  \n",
              "61873        0        2        0  Class_9  \n",
              "61874        0        1        0  Class_9  \n",
              "61875        0        0        0  Class_9  \n",
              "61876        3       10        0  Class_9  \n",
              "61877        0        2        0  Class_9  \n",
              "\n",
              "[5 rows x 95 columns]"
            ],
            "text/html": [
              "\n",
              "  <div id=\"df-c8c70981-770e-48c3-94af-6e51bd916e2f\">\n",
              "    <div class=\"colab-df-container\">\n",
              "      <div>\n",
              "<style scoped>\n",
              "    .dataframe tbody tr th:only-of-type {\n",
              "        vertical-align: middle;\n",
              "    }\n",
              "\n",
              "    .dataframe tbody tr th {\n",
              "        vertical-align: top;\n",
              "    }\n",
              "\n",
              "    .dataframe thead th {\n",
              "        text-align: right;\n",
              "    }\n",
              "</style>\n",
              "<table border=\"1\" class=\"dataframe\">\n",
              "  <thead>\n",
              "    <tr style=\"text-align: right;\">\n",
              "      <th></th>\n",
              "      <th>id</th>\n",
              "      <th>feat_1</th>\n",
              "      <th>feat_2</th>\n",
              "      <th>feat_3</th>\n",
              "      <th>feat_4</th>\n",
              "      <th>feat_5</th>\n",
              "      <th>feat_6</th>\n",
              "      <th>feat_7</th>\n",
              "      <th>feat_8</th>\n",
              "      <th>feat_9</th>\n",
              "      <th>...</th>\n",
              "      <th>feat_85</th>\n",
              "      <th>feat_86</th>\n",
              "      <th>feat_87</th>\n",
              "      <th>feat_88</th>\n",
              "      <th>feat_89</th>\n",
              "      <th>feat_90</th>\n",
              "      <th>feat_91</th>\n",
              "      <th>feat_92</th>\n",
              "      <th>feat_93</th>\n",
              "      <th>target</th>\n",
              "    </tr>\n",
              "  </thead>\n",
              "  <tbody>\n",
              "    <tr>\n",
              "      <th>61873</th>\n",
              "      <td>61874</td>\n",
              "      <td>1</td>\n",
              "      <td>0</td>\n",
              "      <td>0</td>\n",
              "      <td>1</td>\n",
              "      <td>1</td>\n",
              "      <td>0</td>\n",
              "      <td>0</td>\n",
              "      <td>0</td>\n",
              "      <td>0</td>\n",
              "      <td>...</td>\n",
              "      <td>1</td>\n",
              "      <td>0</td>\n",
              "      <td>0</td>\n",
              "      <td>0</td>\n",
              "      <td>0</td>\n",
              "      <td>0</td>\n",
              "      <td>0</td>\n",
              "      <td>2</td>\n",
              "      <td>0</td>\n",
              "      <td>Class_9</td>\n",
              "    </tr>\n",
              "    <tr>\n",
              "      <th>61874</th>\n",
              "      <td>61875</td>\n",
              "      <td>4</td>\n",
              "      <td>0</td>\n",
              "      <td>0</td>\n",
              "      <td>0</td>\n",
              "      <td>0</td>\n",
              "      <td>0</td>\n",
              "      <td>0</td>\n",
              "      <td>0</td>\n",
              "      <td>0</td>\n",
              "      <td>...</td>\n",
              "      <td>0</td>\n",
              "      <td>2</td>\n",
              "      <td>0</td>\n",
              "      <td>0</td>\n",
              "      <td>2</td>\n",
              "      <td>0</td>\n",
              "      <td>0</td>\n",
              "      <td>1</td>\n",
              "      <td>0</td>\n",
              "      <td>Class_9</td>\n",
              "    </tr>\n",
              "    <tr>\n",
              "      <th>61875</th>\n",
              "      <td>61876</td>\n",
              "      <td>0</td>\n",
              "      <td>0</td>\n",
              "      <td>0</td>\n",
              "      <td>0</td>\n",
              "      <td>0</td>\n",
              "      <td>0</td>\n",
              "      <td>0</td>\n",
              "      <td>3</td>\n",
              "      <td>1</td>\n",
              "      <td>...</td>\n",
              "      <td>0</td>\n",
              "      <td>3</td>\n",
              "      <td>1</td>\n",
              "      <td>0</td>\n",
              "      <td>0</td>\n",
              "      <td>0</td>\n",
              "      <td>0</td>\n",
              "      <td>0</td>\n",
              "      <td>0</td>\n",
              "      <td>Class_9</td>\n",
              "    </tr>\n",
              "    <tr>\n",
              "      <th>61876</th>\n",
              "      <td>61877</td>\n",
              "      <td>1</td>\n",
              "      <td>0</td>\n",
              "      <td>0</td>\n",
              "      <td>0</td>\n",
              "      <td>0</td>\n",
              "      <td>0</td>\n",
              "      <td>0</td>\n",
              "      <td>0</td>\n",
              "      <td>0</td>\n",
              "      <td>...</td>\n",
              "      <td>0</td>\n",
              "      <td>0</td>\n",
              "      <td>0</td>\n",
              "      <td>0</td>\n",
              "      <td>1</td>\n",
              "      <td>0</td>\n",
              "      <td>3</td>\n",
              "      <td>10</td>\n",
              "      <td>0</td>\n",
              "      <td>Class_9</td>\n",
              "    </tr>\n",
              "    <tr>\n",
              "      <th>61877</th>\n",
              "      <td>61878</td>\n",
              "      <td>0</td>\n",
              "      <td>0</td>\n",
              "      <td>0</td>\n",
              "      <td>0</td>\n",
              "      <td>0</td>\n",
              "      <td>0</td>\n",
              "      <td>0</td>\n",
              "      <td>0</td>\n",
              "      <td>0</td>\n",
              "      <td>...</td>\n",
              "      <td>0</td>\n",
              "      <td>0</td>\n",
              "      <td>0</td>\n",
              "      <td>0</td>\n",
              "      <td>0</td>\n",
              "      <td>0</td>\n",
              "      <td>0</td>\n",
              "      <td>2</td>\n",
              "      <td>0</td>\n",
              "      <td>Class_9</td>\n",
              "    </tr>\n",
              "  </tbody>\n",
              "</table>\n",
              "<p>5 rows × 95 columns</p>\n",
              "</div>\n",
              "      <button class=\"colab-df-convert\" onclick=\"convertToInteractive('df-c8c70981-770e-48c3-94af-6e51bd916e2f')\"\n",
              "              title=\"Convert this dataframe to an interactive table.\"\n",
              "              style=\"display:none;\">\n",
              "        \n",
              "  <svg xmlns=\"http://www.w3.org/2000/svg\" height=\"24px\"viewBox=\"0 0 24 24\"\n",
              "       width=\"24px\">\n",
              "    <path d=\"M0 0h24v24H0V0z\" fill=\"none\"/>\n",
              "    <path d=\"M18.56 5.44l.94 2.06.94-2.06 2.06-.94-2.06-.94-.94-2.06-.94 2.06-2.06.94zm-11 1L8.5 8.5l.94-2.06 2.06-.94-2.06-.94L8.5 2.5l-.94 2.06-2.06.94zm10 10l.94 2.06.94-2.06 2.06-.94-2.06-.94-.94-2.06-.94 2.06-2.06.94z\"/><path d=\"M17.41 7.96l-1.37-1.37c-.4-.4-.92-.59-1.43-.59-.52 0-1.04.2-1.43.59L10.3 9.45l-7.72 7.72c-.78.78-.78 2.05 0 2.83L4 21.41c.39.39.9.59 1.41.59.51 0 1.02-.2 1.41-.59l7.78-7.78 2.81-2.81c.8-.78.8-2.07 0-2.86zM5.41 20L4 18.59l7.72-7.72 1.47 1.35L5.41 20z\"/>\n",
              "  </svg>\n",
              "      </button>\n",
              "      \n",
              "  <style>\n",
              "    .colab-df-container {\n",
              "      display:flex;\n",
              "      flex-wrap:wrap;\n",
              "      gap: 12px;\n",
              "    }\n",
              "\n",
              "    .colab-df-convert {\n",
              "      background-color: #E8F0FE;\n",
              "      border: none;\n",
              "      border-radius: 50%;\n",
              "      cursor: pointer;\n",
              "      display: none;\n",
              "      fill: #1967D2;\n",
              "      height: 32px;\n",
              "      padding: 0 0 0 0;\n",
              "      width: 32px;\n",
              "    }\n",
              "\n",
              "    .colab-df-convert:hover {\n",
              "      background-color: #E2EBFA;\n",
              "      box-shadow: 0px 1px 2px rgba(60, 64, 67, 0.3), 0px 1px 3px 1px rgba(60, 64, 67, 0.15);\n",
              "      fill: #174EA6;\n",
              "    }\n",
              "\n",
              "    [theme=dark] .colab-df-convert {\n",
              "      background-color: #3B4455;\n",
              "      fill: #D2E3FC;\n",
              "    }\n",
              "\n",
              "    [theme=dark] .colab-df-convert:hover {\n",
              "      background-color: #434B5C;\n",
              "      box-shadow: 0px 1px 3px 1px rgba(0, 0, 0, 0.15);\n",
              "      filter: drop-shadow(0px 1px 2px rgba(0, 0, 0, 0.3));\n",
              "      fill: #FFFFFF;\n",
              "    }\n",
              "  </style>\n",
              "\n",
              "      <script>\n",
              "        const buttonEl =\n",
              "          document.querySelector('#df-c8c70981-770e-48c3-94af-6e51bd916e2f button.colab-df-convert');\n",
              "        buttonEl.style.display =\n",
              "          google.colab.kernel.accessAllowed ? 'block' : 'none';\n",
              "\n",
              "        async function convertToInteractive(key) {\n",
              "          const element = document.querySelector('#df-c8c70981-770e-48c3-94af-6e51bd916e2f');\n",
              "          const dataTable =\n",
              "            await google.colab.kernel.invokeFunction('convertToInteractive',\n",
              "                                                     [key], {});\n",
              "          if (!dataTable) return;\n",
              "\n",
              "          const docLinkHtml = 'Like what you see? Visit the ' +\n",
              "            '<a target=\"_blank\" href=https://colab.research.google.com/notebooks/data_table.ipynb>data table notebook</a>'\n",
              "            + ' to learn more about interactive tables.';\n",
              "          element.innerHTML = '';\n",
              "          dataTable['output_type'] = 'display_data';\n",
              "          await google.colab.output.renderOutput(dataTable, element);\n",
              "          const docLink = document.createElement('div');\n",
              "          docLink.innerHTML = docLinkHtml;\n",
              "          element.appendChild(docLink);\n",
              "        }\n",
              "      </script>\n",
              "    </div>\n",
              "  </div>\n",
              "  "
            ]
          },
          "metadata": {},
          "execution_count": 7
        }
      ],
      "source": [
        "train.tail()"
      ]
    },
    {
      "cell_type": "code",
      "execution_count": 8,
      "id": "1abefde5-597d-41ed-8f91-7706fdf7811e",
      "metadata": {
        "id": "1abefde5-597d-41ed-8f91-7706fdf7811e",
        "outputId": "3a7b2ce1-59f0-4e97-ab6e-b84958ef0a22",
        "colab": {
          "base_uri": "https://localhost:8080/"
        }
      },
      "outputs": [
        {
          "output_type": "stream",
          "name": "stdout",
          "text": [
            "<class 'pandas.core.frame.DataFrame'>\n",
            "RangeIndex: 61878 entries, 0 to 61877\n",
            "Data columns (total 95 columns):\n",
            " #   Column   Non-Null Count  Dtype \n",
            "---  ------   --------------  ----- \n",
            " 0   id       61878 non-null  int64 \n",
            " 1   feat_1   61878 non-null  int64 \n",
            " 2   feat_2   61878 non-null  int64 \n",
            " 3   feat_3   61878 non-null  int64 \n",
            " 4   feat_4   61878 non-null  int64 \n",
            " 5   feat_5   61878 non-null  int64 \n",
            " 6   feat_6   61878 non-null  int64 \n",
            " 7   feat_7   61878 non-null  int64 \n",
            " 8   feat_8   61878 non-null  int64 \n",
            " 9   feat_9   61878 non-null  int64 \n",
            " 10  feat_10  61878 non-null  int64 \n",
            " 11  feat_11  61878 non-null  int64 \n",
            " 12  feat_12  61878 non-null  int64 \n",
            " 13  feat_13  61878 non-null  int64 \n",
            " 14  feat_14  61878 non-null  int64 \n",
            " 15  feat_15  61878 non-null  int64 \n",
            " 16  feat_16  61878 non-null  int64 \n",
            " 17  feat_17  61878 non-null  int64 \n",
            " 18  feat_18  61878 non-null  int64 \n",
            " 19  feat_19  61878 non-null  int64 \n",
            " 20  feat_20  61878 non-null  int64 \n",
            " 21  feat_21  61878 non-null  int64 \n",
            " 22  feat_22  61878 non-null  int64 \n",
            " 23  feat_23  61878 non-null  int64 \n",
            " 24  feat_24  61878 non-null  int64 \n",
            " 25  feat_25  61878 non-null  int64 \n",
            " 26  feat_26  61878 non-null  int64 \n",
            " 27  feat_27  61878 non-null  int64 \n",
            " 28  feat_28  61878 non-null  int64 \n",
            " 29  feat_29  61878 non-null  int64 \n",
            " 30  feat_30  61878 non-null  int64 \n",
            " 31  feat_31  61878 non-null  int64 \n",
            " 32  feat_32  61878 non-null  int64 \n",
            " 33  feat_33  61878 non-null  int64 \n",
            " 34  feat_34  61878 non-null  int64 \n",
            " 35  feat_35  61878 non-null  int64 \n",
            " 36  feat_36  61878 non-null  int64 \n",
            " 37  feat_37  61878 non-null  int64 \n",
            " 38  feat_38  61878 non-null  int64 \n",
            " 39  feat_39  61878 non-null  int64 \n",
            " 40  feat_40  61878 non-null  int64 \n",
            " 41  feat_41  61878 non-null  int64 \n",
            " 42  feat_42  61878 non-null  int64 \n",
            " 43  feat_43  61878 non-null  int64 \n",
            " 44  feat_44  61878 non-null  int64 \n",
            " 45  feat_45  61878 non-null  int64 \n",
            " 46  feat_46  61878 non-null  int64 \n",
            " 47  feat_47  61878 non-null  int64 \n",
            " 48  feat_48  61878 non-null  int64 \n",
            " 49  feat_49  61878 non-null  int64 \n",
            " 50  feat_50  61878 non-null  int64 \n",
            " 51  feat_51  61878 non-null  int64 \n",
            " 52  feat_52  61878 non-null  int64 \n",
            " 53  feat_53  61878 non-null  int64 \n",
            " 54  feat_54  61878 non-null  int64 \n",
            " 55  feat_55  61878 non-null  int64 \n",
            " 56  feat_56  61878 non-null  int64 \n",
            " 57  feat_57  61878 non-null  int64 \n",
            " 58  feat_58  61878 non-null  int64 \n",
            " 59  feat_59  61878 non-null  int64 \n",
            " 60  feat_60  61878 non-null  int64 \n",
            " 61  feat_61  61878 non-null  int64 \n",
            " 62  feat_62  61878 non-null  int64 \n",
            " 63  feat_63  61878 non-null  int64 \n",
            " 64  feat_64  61878 non-null  int64 \n",
            " 65  feat_65  61878 non-null  int64 \n",
            " 66  feat_66  61878 non-null  int64 \n",
            " 67  feat_67  61878 non-null  int64 \n",
            " 68  feat_68  61878 non-null  int64 \n",
            " 69  feat_69  61878 non-null  int64 \n",
            " 70  feat_70  61878 non-null  int64 \n",
            " 71  feat_71  61878 non-null  int64 \n",
            " 72  feat_72  61878 non-null  int64 \n",
            " 73  feat_73  61878 non-null  int64 \n",
            " 74  feat_74  61878 non-null  int64 \n",
            " 75  feat_75  61878 non-null  int64 \n",
            " 76  feat_76  61878 non-null  int64 \n",
            " 77  feat_77  61878 non-null  int64 \n",
            " 78  feat_78  61878 non-null  int64 \n",
            " 79  feat_79  61878 non-null  int64 \n",
            " 80  feat_80  61878 non-null  int64 \n",
            " 81  feat_81  61878 non-null  int64 \n",
            " 82  feat_82  61878 non-null  int64 \n",
            " 83  feat_83  61878 non-null  int64 \n",
            " 84  feat_84  61878 non-null  int64 \n",
            " 85  feat_85  61878 non-null  int64 \n",
            " 86  feat_86  61878 non-null  int64 \n",
            " 87  feat_87  61878 non-null  int64 \n",
            " 88  feat_88  61878 non-null  int64 \n",
            " 89  feat_89  61878 non-null  int64 \n",
            " 90  feat_90  61878 non-null  int64 \n",
            " 91  feat_91  61878 non-null  int64 \n",
            " 92  feat_92  61878 non-null  int64 \n",
            " 93  feat_93  61878 non-null  int64 \n",
            " 94  target   61878 non-null  object\n",
            "dtypes: int64(94), object(1)\n",
            "memory usage: 44.8+ MB\n"
          ]
        }
      ],
      "source": [
        "train.info()"
      ]
    },
    {
      "cell_type": "code",
      "execution_count": 9,
      "id": "04300553-33cf-4858-89f1-63bb07656a44",
      "metadata": {
        "id": "04300553-33cf-4858-89f1-63bb07656a44",
        "outputId": "394b4bf0-f82d-4683-d689-220e529b1cb4",
        "colab": {
          "base_uri": "https://localhost:8080/"
        }
      },
      "outputs": [
        {
          "output_type": "execute_result",
          "data": {
            "text/plain": [
              "0"
            ]
          },
          "metadata": {},
          "execution_count": 9
        }
      ],
      "source": [
        "train.isna().sum().sum()"
      ]
    },
    {
      "cell_type": "markdown",
      "id": "05b129a1-16f8-403a-99f7-0dc0816cab79",
      "metadata": {
        "id": "05b129a1-16f8-403a-99f7-0dc0816cab79"
      },
      "source": [
        "### EDA"
      ]
    },
    {
      "cell_type": "code",
      "execution_count": 10,
      "id": "1dbaf9fb-281a-4654-8f7b-4553b1951cbc",
      "metadata": {
        "id": "1dbaf9fb-281a-4654-8f7b-4553b1951cbc",
        "outputId": "203c7f8c-5431-42e9-ee86-a8602127568a",
        "colab": {
          "base_uri": "https://localhost:8080/",
          "height": 487
        }
      },
      "outputs": [
        {
          "output_type": "display_data",
          "data": {
            "text/plain": [
              "<Figure size 1200x500 with 1 Axes>"
            ],
            "image/png": "[encoded data removed]"
          },
          "metadata": {}
        }
      ],
      "source": [
        "g_target = train.groupby(['target']).size().reset_index(name='counts')\n",
        "\n",
        "plt.figure(figsize=(12,5))\n",
        "plt.title('The Distribution of Target in Training Dataset')\n",
        "ax = sns.barplot(x=\"target\", y=\"counts\", data=g_target)\n",
        "plt.show()"
      ]
    },
    {
      "cell_type": "code",
      "execution_count": 11,
      "id": "64523ba8-9a47-4ce3-ad60-5f2060436516",
      "metadata": {
        "id": "64523ba8-9a47-4ce3-ad60-5f2060436516",
        "outputId": "b9e202bf-29b1-4bc5-cc2d-0fb44334a7cf",
        "colab": {
          "base_uri": "https://localhost:8080/"
        }
      },
      "outputs": [
        {
          "output_type": "execute_result",
          "data": {
            "text/plain": [
              "Class_2    16122\n",
              "Class_6    14135\n",
              "Class_8     8464\n",
              "Class_3     8004\n",
              "Class_9     4955\n",
              "Class_7     2839\n",
              "Class_5     2739\n",
              "Class_4     2691\n",
              "Class_1     1929\n",
              "Name: target, dtype: int64"
            ]
          },
          "metadata": {},
          "execution_count": 11
        }
      ],
      "source": [
        "train['target'].value_counts()"
      ]
    },
    {
      "cell_type": "markdown",
      "id": "eb111194-e244-4b61-bc27-5e60a9658e00",
      "metadata": {
        "id": "eb111194-e244-4b61-bc27-5e60a9658e00"
      },
      "source": [
        "Looking at the distribution of the target variables, we can see that the dataset is imbalanced. Class_2 and Class_6 have the highest number of products with 16,122 and 14,135 respectively, while Class_1 has the fewest products with only 1,929. This is important to keep in mind when building our predictive model, as an imbalanced dataset can lead to biased model predictions. We may need to use techniques such as oversampling or undersampling to balance the dataset before training the model, or use evaluation metrics that are more appropriate for imbalanced datasets, such as precision, recall, and F1-score."
      ]
    },
    {
      "cell_type": "markdown",
      "id": "6da90221-2fc2-45c7-af3f-692c81769d4e",
      "metadata": {
        "id": "6da90221-2fc2-45c7-af3f-692c81769d4e"
      },
      "source": [
        "### Transform the target"
      ]
    },
    {
      "cell_type": "code",
      "execution_count": 12,
      "id": "70a22622-85c7-47ec-9bb8-917f70a129bc",
      "metadata": {
        "id": "70a22622-85c7-47ec-9bb8-917f70a129bc"
      },
      "outputs": [],
      "source": [
        "le = LabelEncoder()\n",
        "le.fit(train[\"target\"])\n",
        "train[\"target\"] = le.transform(train[\"target\"])"
      ]
    },
    {
      "cell_type": "markdown",
      "id": "c2b26a2d-9550-4da1-87fe-6847d036df91",
      "metadata": {
        "id": "c2b26a2d-9550-4da1-87fe-6847d036df91"
      },
      "source": [
        "### Data splitting"
      ]
    },
    {
      "cell_type": "code",
      "execution_count": 13,
      "id": "04ad7cb1-8194-4013-98b0-2afe9b3cf145",
      "metadata": {
        "id": "04ad7cb1-8194-4013-98b0-2afe9b3cf145"
      },
      "outputs": [],
      "source": [
        "train_X = train.drop(['target','id'], axis=1)\n",
        "train_y = train['target']"
      ]
    },
    {
      "cell_type": "code",
      "execution_count": 14,
      "id": "95223a11-109c-41cb-ae31-23fdc419ca78",
      "metadata": {
        "id": "95223a11-109c-41cb-ae31-23fdc419ca78"
      },
      "outputs": [],
      "source": [
        "# split train set into 2 parts with same distribution: 80% train, 20% validation\n",
        "sss = StratifiedShuffleSplit(n_splits=1, test_size=0.2, random_state=0)\n",
        "for train_index, test_index in sss.split(train_X.values, train_y):\n",
        "    X_train = train_X.values[train_index]\n",
        "    X_val = train_X.values[test_index]\n",
        "\n",
        "    y_train = train_y[train_index]\n",
        "    y_val = train_y[test_index]"
      ]
    },
    {
      "cell_type": "markdown",
      "id": "634ebe9f-e1c6-4652-acf4-08a28db75a90",
      "metadata": {
        "id": "634ebe9f-e1c6-4652-acf4-08a28db75a90"
      },
      "source": [
        "### Oversampling the data"
      ]
    },
    {
      "cell_type": "code",
      "execution_count": 15,
      "id": "0372f853-252b-4943-b86a-2a53d116ffa6",
      "metadata": {
        "id": "0372f853-252b-4943-b86a-2a53d116ffa6",
        "outputId": "6b71d122-c308-411c-f178-c74d9efda19a",
        "colab": {
          "base_uri": "https://localhost:8080/",
          "height": 424
        }
      },
      "outputs": [
        {
          "output_type": "execute_result",
          "data": {
            "text/plain": [
              "           count          mean           std  min       25%      50%  \\\n",
              "id       61878.0  30939.500000  17862.784315  1.0  15470.25  30939.5   \n",
              "feat_1   61878.0      0.386680      1.525330  0.0      0.00      0.0   \n",
              "feat_2   61878.0      0.263066      1.252073  0.0      0.00      0.0   \n",
              "feat_3   61878.0      0.901467      2.934818  0.0      0.00      0.0   \n",
              "feat_4   61878.0      0.779081      2.788005  0.0      0.00      0.0   \n",
              "...          ...           ...           ...  ...       ...      ...   \n",
              "feat_90  61878.0      0.812421      4.597804  0.0      0.00      0.0   \n",
              "feat_91  61878.0      0.264941      2.045646  0.0      0.00      0.0   \n",
              "feat_92  61878.0      0.380119      0.982385  0.0      0.00      0.0   \n",
              "feat_93  61878.0      0.126135      1.201720  0.0      0.00      0.0   \n",
              "target   61878.0      3.842335      2.510794  0.0      1.00      4.0   \n",
              "\n",
              "              75%      max  \n",
              "id       46408.75  61878.0  \n",
              "feat_1       0.00     61.0  \n",
              "feat_2       0.00     51.0  \n",
              "feat_3       0.00     64.0  \n",
              "feat_4       0.00     70.0  \n",
              "...           ...      ...  \n",
              "feat_90      0.00    130.0  \n",
              "feat_91      0.00     52.0  \n",
              "feat_92      0.00     19.0  \n",
              "feat_93      0.00     87.0  \n",
              "target       6.00      8.0  \n",
              "\n",
              "[95 rows x 8 columns]"
            ],
            "text/html": [
              "\n",
              "  <div id=\"df-bd600f29-2ee6-44cb-877f-5bd9836751ed\">\n",
              "    <div class=\"colab-df-container\">\n",
              "      <div>\n",
              "<style scoped>\n",
              "    .dataframe tbody tr th:only-of-type {\n",
              "        vertical-align: middle;\n",
              "    }\n",
              "\n",
              "    .dataframe tbody tr th {\n",
              "        vertical-align: top;\n",
              "    }\n",
              "\n",
              "    .dataframe thead th {\n",
              "        text-align: right;\n",
              "    }\n",
              "</style>\n",
              "<table border=\"1\" class=\"dataframe\">\n",
              "  <thead>\n",
              "    <tr style=\"text-align: right;\">\n",
              "      <th></th>\n",
              "      <th>count</th>\n",
              "      <th>mean</th>\n",
              "      <th>std</th>\n",
              "      <th>min</th>\n",
              "      <th>25%</th>\n",
              "      <th>50%</th>\n",
              "      <th>75%</th>\n",
              "      <th>max</th>\n",
              "    </tr>\n",
              "  </thead>\n",
              "  <tbody>\n",
              "    <tr>\n",
              "      <th>id</th>\n",
              "      <td>61878.0</td>\n",
              "      <td>30939.500000</td>\n",
              "      <td>17862.784315</td>\n",
              "      <td>1.0</td>\n",
              "      <td>15470.25</td>\n",
              "      <td>30939.5</td>\n",
              "      <td>46408.75</td>\n",
              "      <td>61878.0</td>\n",
              "    </tr>\n",
              "    <tr>\n",
              "      <th>feat_1</th>\n",
              "      <td>61878.0</td>\n",
              "      <td>0.386680</td>\n",
              "      <td>1.525330</td>\n",
              "      <td>0.0</td>\n",
              "      <td>0.00</td>\n",
              "      <td>0.0</td>\n",
              "      <td>0.00</td>\n",
              "      <td>61.0</td>\n",
              "    </tr>\n",
              "    <tr>\n",
              "      <th>feat_2</th>\n",
              "      <td>61878.0</td>\n",
              "      <td>0.263066</td>\n",
              "      <td>1.252073</td>\n",
              "      <td>0.0</td>\n",
              "      <td>0.00</td>\n",
              "      <td>0.0</td>\n",
              "      <td>0.00</td>\n",
              "      <td>51.0</td>\n",
              "    </tr>\n",
              "    <tr>\n",
              "      <th>feat_3</th>\n",
              "      <td>61878.0</td>\n",
              "      <td>0.901467</td>\n",
              "      <td>2.934818</td>\n",
              "      <td>0.0</td>\n",
              "      <td>0.00</td>\n",
              "      <td>0.0</td>\n",
              "      <td>0.00</td>\n",
              "      <td>64.0</td>\n",
              "    </tr>\n",
              "    <tr>\n",
              "      <th>feat_4</th>\n",
              "      <td>61878.0</td>\n",
              "      <td>0.779081</td>\n",
              "      <td>2.788005</td>\n",
              "      <td>0.0</td>\n",
              "      <td>0.00</td>\n",
              "      <td>0.0</td>\n",
              "      <td>0.00</td>\n",
              "      <td>70.0</td>\n",
              "    </tr>\n",
              "    <tr>\n",
              "      <th>...</th>\n",
              "      <td>...</td>\n",
              "      <td>...</td>\n",
              "      <td>...</td>\n",
              "      <td>...</td>\n",
              "      <td>...</td>\n",
              "      <td>...</td>\n",
              "      <td>...</td>\n",
              "      <td>...</td>\n",
              "    </tr>\n",
              "    <tr>\n",
              "      <th>feat_90</th>\n",
              "      <td>61878.0</td>\n",
              "      <td>0.812421</td>\n",
              "      <td>4.597804</td>\n",
              "      <td>0.0</td>\n",
              "      <td>0.00</td>\n",
              "      <td>0.0</td>\n",
              "      <td>0.00</td>\n",
              "      <td>130.0</td>\n",
              "    </tr>\n",
              "    <tr>\n",
              "      <th>feat_91</th>\n",
              "      <td>61878.0</td>\n",
              "      <td>0.264941</td>\n",
              "      <td>2.045646</td>\n",
              "      <td>0.0</td>\n",
              "      <td>0.00</td>\n",
              "      <td>0.0</td>\n",
              "      <td>0.00</td>\n",
              "      <td>52.0</td>\n",
              "    </tr>\n",
              "    <tr>\n",
              "      <th>feat_92</th>\n",
              "      <td>61878.0</td>\n",
              "      <td>0.380119</td>\n",
              "      <td>0.982385</td>\n",
              "      <td>0.0</td>\n",
              "      <td>0.00</td>\n",
              "      <td>0.0</td>\n",
              "      <td>0.00</td>\n",
              "      <td>19.0</td>\n",
              "    </tr>\n",
              "    <tr>\n",
              "      <th>feat_93</th>\n",
              "      <td>61878.0</td>\n",
              "      <td>0.126135</td>\n",
              "      <td>1.201720</td>\n",
              "      <td>0.0</td>\n",
              "      <td>0.00</td>\n",
              "      <td>0.0</td>\n",
              "      <td>0.00</td>\n",
              "      <td>87.0</td>\n",
              "    </tr>\n",
              "    <tr>\n",
              "      <th>target</th>\n",
              "      <td>61878.0</td>\n",
              "      <td>3.842335</td>\n",
              "      <td>2.510794</td>\n",
              "      <td>0.0</td>\n",
              "      <td>1.00</td>\n",
              "      <td>4.0</td>\n",
              "      <td>6.00</td>\n",
              "      <td>8.0</td>\n",
              "    </tr>\n",
              "  </tbody>\n",
              "</table>\n",
              "<p>95 rows × 8 columns</p>\n",
              "</div>\n",
              "      <button class=\"colab-df-convert\" onclick=\"convertToInteractive('df-bd600f29-2ee6-44cb-877f-5bd9836751ed')\"\n",
              "              title=\"Convert this dataframe to an interactive table.\"\n",
              "              style=\"display:none;\">\n",
              "        \n",
              "  <svg xmlns=\"http://www.w3.org/2000/svg\" height=\"24px\"viewBox=\"0 0 24 24\"\n",
              "       width=\"24px\">\n",
              "    <path d=\"M0 0h24v24H0V0z\" fill=\"none\"/>\n",
              "    <path d=\"M18.56 5.44l.94 2.06.94-2.06 2.06-.94-2.06-.94-.94-2.06-.94 2.06-2.06.94zm-11 1L8.5 8.5l.94-2.06 2.06-.94-2.06-.94L8.5 2.5l-.94 2.06-2.06.94zm10 10l.94 2.06.94-2.06 2.06-.94-2.06-.94-.94-2.06-.94 2.06-2.06.94z\"/><path d=\"M17.41 7.96l-1.37-1.37c-.4-.4-.92-.59-1.43-.59-.52 0-1.04.2-1.43.59L10.3 9.45l-7.72 7.72c-.78.78-.78 2.05 0 2.83L4 21.41c.39.39.9.59 1.41.59.51 0 1.02-.2 1.41-.59l7.78-7.78 2.81-2.81c.8-.78.8-2.07 0-2.86zM5.41 20L4 18.59l7.72-7.72 1.47 1.35L5.41 20z\"/>\n",
              "  </svg>\n",
              "      </button>\n",
              "      \n",
              "  <style>\n",
              "    .colab-df-container {\n",
              "      display:flex;\n",
              "      flex-wrap:wrap;\n",
              "      gap: 12px;\n",
              "    }\n",
              "\n",
              "    .colab-df-convert {\n",
              "      background-color: #E8F0FE;\n",
              "      border: none;\n",
              "      border-radius: 50%;\n",
              "      cursor: pointer;\n",
              "      display: none;\n",
              "      fill: #1967D2;\n",
              "      height: 32px;\n",
              "      padding: 0 0 0 0;\n",
              "      width: 32px;\n",
              "    }\n",
              "\n",
              "    .colab-df-convert:hover {\n",
              "      background-color: #E2EBFA;\n",
              "      box-shadow: 0px 1px 2px rgba(60, 64, 67, 0.3), 0px 1px 3px 1px rgba(60, 64, 67, 0.15);\n",
              "      fill: #174EA6;\n",
              "    }\n",
              "\n",
              "    [theme=dark] .colab-df-convert {\n",
              "      background-color: #3B4455;\n",
              "      fill: #D2E3FC;\n",
              "    }\n",
              "\n",
              "    [theme=dark] .colab-df-convert:hover {\n",
              "      background-color: #434B5C;\n",
              "      box-shadow: 0px 1px 3px 1px rgba(0, 0, 0, 0.15);\n",
              "      filter: drop-shadow(0px 1px 2px rgba(0, 0, 0, 0.3));\n",
              "      fill: #FFFFFF;\n",
              "    }\n",
              "  </style>\n",
              "\n",
              "      <script>\n",
              "        const buttonEl =\n",
              "          document.querySelector('#df-bd600f29-2ee6-44cb-877f-5bd9836751ed button.colab-df-convert');\n",
              "        buttonEl.style.display =\n",
              "          google.colab.kernel.accessAllowed ? 'block' : 'none';\n",
              "\n",
              "        async function convertToInteractive(key) {\n",
              "          const element = document.querySelector('#df-bd600f29-2ee6-44cb-877f-5bd9836751ed');\n",
              "          const dataTable =\n",
              "            await google.colab.kernel.invokeFunction('convertToInteractive',\n",
              "                                                     [key], {});\n",
              "          if (!dataTable) return;\n",
              "\n",
              "          const docLinkHtml = 'Like what you see? Visit the ' +\n",
              "            '<a target=\"_blank\" href=https://colab.research.google.com/notebooks/data_table.ipynb>data table notebook</a>'\n",
              "            + ' to learn more about interactive tables.';\n",
              "          element.innerHTML = '';\n",
              "          dataTable['output_type'] = 'display_data';\n",
              "          await google.colab.output.renderOutput(dataTable, element);\n",
              "          const docLink = document.createElement('div');\n",
              "          docLink.innerHTML = docLinkHtml;\n",
              "          element.appendChild(docLink);\n",
              "        }\n",
              "      </script>\n",
              "    </div>\n",
              "  </div>\n",
              "  "
            ]
          },
          "metadata": {},
          "execution_count": 15
        }
      ],
      "source": [
        "train.describe().T"
      ]
    },
    {
      "cell_type": "code",
      "execution_count": 16,
      "id": "ce6b2d9a-b5f2-4cc0-a79d-a6c17388db3b",
      "metadata": {
        "id": "ce6b2d9a-b5f2-4cc0-a79d-a6c17388db3b",
        "outputId": "06a325c7-edd4-4ac5-9fe1-f42e9d84954e",
        "colab": {
          "base_uri": "https://localhost:8080/"
        }
      },
      "outputs": [
        {
          "output_type": "stream",
          "name": "stdout",
          "text": [
            "[[    0 12898]\n",
            " [    1 12898]\n",
            " [    2 12898]\n",
            " [    3 12898]\n",
            " [    4 12898]\n",
            " [    5 12898]\n",
            " [    6 12898]\n",
            " [    7 12898]\n",
            " [    8 12898]]\n"
          ]
        }
      ],
      "source": [
        "ros = RandomOverSampler()\n",
        "X_ros, y_ros = ros.fit_resample(X_train, y_train)\n",
        "\n",
        "unique, counts = np.unique(y_ros, return_counts=True)\n",
        "\n",
        "print(np.asarray((unique, counts)).T)"
      ]
    },
    {
      "cell_type": "code",
      "execution_count": 17,
      "id": "0c8fb23f-4d36-4d35-b764-f89a88e5467c",
      "metadata": {
        "id": "0c8fb23f-4d36-4d35-b764-f89a88e5467c",
        "outputId": "3e345416-8509-45b5-eb4a-5cba2d0ee8ef",
        "colab": {
          "base_uri": "https://localhost:8080/",
          "height": 442
        }
      },
      "outputs": [
        {
          "output_type": "execute_result",
          "data": {
            "text/plain": [
              "<Axes: >"
            ]
          },
          "metadata": {},
          "execution_count": 17
        },
        {
          "output_type": "display_data",
          "data": {
            "text/plain": [
              "<Figure size 640x480 with 1 Axes>"
            ],
            "image/png": "[encoded data removed]"
          },
          "metadata": {}
        }
      ],
      "source": [
        "pd.Series(y_ros).value_counts().plot.bar()"
      ]
    },
    {
      "cell_type": "markdown",
      "id": "0d56e759-070b-46e0-be0e-d5930ccc0cb1",
      "metadata": {
        "id": "0d56e759-070b-46e0-be0e-d5930ccc0cb1"
      },
      "source": [
        "### Scaling the features"
      ]
    },
    {
      "cell_type": "markdown",
      "id": "4e4086f3-ad03-489b-90a9-52122a673f38",
      "metadata": {
        "id": "4e4086f3-ad03-489b-90a9-52122a673f38"
      },
      "source": [
        "Scaling the features is important because it can improve the performance and accuracy of many machine learning algorithms. When features are measured on different scales, with different units or ranges, some algorithms can be influenced more by features with larger scales than by those with smaller scales. This can cause some features to dominate the model, leading to biased or suboptimal results."
      ]
    },
    {
      "cell_type": "code",
      "execution_count": 18,
      "id": "537112d5-046f-4b09-910a-d577f7538e2d",
      "metadata": {
        "id": "537112d5-046f-4b09-910a-d577f7538e2d"
      },
      "outputs": [],
      "source": [
        "scaler = StandardScaler()\n",
        "scaler.fit(X_train)\n",
        "X_train_scaled = scaler.transform(X_train)\n",
        "X_val_scaled = scaler.transform(X_val)"
      ]
    },
    {
      "cell_type": "code",
      "execution_count": 19,
      "id": "7db4c260-ae65-4c0e-b38f-d9fa6bf8be8e",
      "metadata": {
        "id": "7db4c260-ae65-4c0e-b38f-d9fa6bf8be8e",
        "outputId": "b76aabbc-9840-4df8-ee11-877e61407459",
        "colab": {
          "base_uri": "https://localhost:8080/"
        }
      },
      "outputs": [
        {
          "output_type": "stream",
          "name": "stderr",
          "text": [
            "/usr/local/lib/python3.9/dist-packages/sklearn/base.py:432: UserWarning: X has feature names, but StandardScaler was fitted without feature names\n",
            "  warnings.warn(\n"
          ]
        }
      ],
      "source": [
        "# also for the testing data\n",
        "test_X = test.drop([\"id\"], axis=1)\n",
        "scaler_all = StandardScaler()\n",
        "train_X_scaled = scaler_all.fit_transform(train_X)\n",
        "test_X_scaled = scaler.transform(test_X)"
      ]
    },
    {
      "cell_type": "markdown",
      "id": "791ffe38-3ae0-4428-ba99-5a22a33c92f7",
      "metadata": {
        "id": "791ffe38-3ae0-4428-ba99-5a22a33c92f7"
      },
      "source": [
        "### XGBoost"
      ]
    },
    {
      "cell_type": "code",
      "execution_count": 20,
      "id": "e2d99991-3adf-4dba-859b-9aa24563ee29",
      "metadata": {
        "id": "e2d99991-3adf-4dba-859b-9aa24563ee29",
        "outputId": "51eca2c6-070a-4872-dcbb-32195a078bac",
        "colab": {
          "base_uri": "https://localhost:8080/"
        }
      },
      "outputs": [
        {
          "output_type": "stream",
          "name": "stdout",
          "text": [
            "test data log loss eval : 0.47193172882378664\n"
          ]
        }
      ],
      "source": [
        "xgb = XGBClassifier()\n",
        "xgb.fit(X_train_scaled, y_train)\n",
        "preds = xgb.predict_proba(X_val_scaled)\n",
        "score = log_loss(y_val, preds)\n",
        "print(\"test data log loss eval : {}\".format(log_loss(y_val,preds)))"
      ]
    },
    {
      "cell_type": "markdown",
      "id": "50036790-8272-4b8e-bcc1-29debfddbca9",
      "metadata": {
        "id": "50036790-8272-4b8e-bcc1-29debfddbca9"
      },
      "source": [
        "### Hyper parameters tuning"
      ]
    },
    {
      "cell_type": "markdown",
      "id": "48e97f70-36f1-437b-b2db-9c79d441011a",
      "metadata": {
        "id": "48e97f70-36f1-437b-b2db-9c79d441011a"
      },
      "source": [
        "XGBoost is a powerful and widely used machine learning algorithm for supervised learning tasks, such as classification and regression. Like many machine learning algorithms, XGBoost has several hyperparameters that need to be set before training the model, such as the learning rate, maximum depth, and number of trees.\n",
        "\n",
        "Hyperparameter tuning is important in XGBoost because it can significantly impact the performance and accuracy of the model. By adjusting the hyperparameters, we can find the optimal combination of values that can improve the model's performance on the given dataset. For example, setting a higher learning rate can lead to faster convergence and shorter training times, but may also cause the model to overfit. Similarly, setting a higher maximum depth can increase the model's complexity and ability to fit the training data, but may also lead to overfitting and poor generalization."
      ]
    },
    {
      "cell_type": "markdown",
      "id": "d4e89e7c-4885-4980-9443-4c2292f5c986",
      "metadata": {
        "id": "d4e89e7c-4885-4980-9443-4c2292f5c986"
      },
      "source": [
        "#### Evolution with the number of estimators"
      ]
    },
    {
      "cell_type": "code",
      "execution_count": null,
      "id": "b85dae55-6728-4736-8ad5-d38466c270b1",
      "metadata": {
        "id": "b85dae55-6728-4736-8ad5-d38466c270b1",
        "outputId": "bd620b26-dc95-495e-98d8-8f7aadb84e9c",
        "colab": {
          "base_uri": "https://localhost:8080/"
        }
      },
      "outputs": [
        {
          "output_type": "stream",
          "name": "stdout",
          "text": [
            "Validation log loss for n_estimators=100: 0.5048\n",
            "Validation log loss for n_estimators=400: 0.4395\n"
          ]
        }
      ],
      "source": [
        "# Define the list of hyperparameters to tune\n",
        "n_estimators = [100, 400, 450, 500, 525, 550, 600]\n",
        "\n",
        "# Define an empty list to store the validation scores\n",
        "val_scores = []\n",
        "\n",
        "# Loop over the values of n_estimators and train and evaluate the XGBoost model for each value\n",
        "for nes in n_estimators:\n",
        "    \n",
        "    # Define the XGBoost model with the current hyperparameter values\n",
        "    xgb_model = XGBClassifier(learning_rate=0.1, n_estimators=nes, max_depth=7, min_child_weight=3, subsample=0.8,\n",
        "                              colsample_bytree=0.8, nthread=4, seed=42, objective='multi:softprob')\n",
        "    \n",
        "    # Train the XGBoost model on the scaled training data\n",
        "    xgb_model.fit(X_train_scaled, y_train)\n",
        "    \n",
        "    # Make predictions on the scaled validation data\n",
        "    val_preds = xgb_model.predict_proba(X_val_scaled)\n",
        "    \n",
        "    # Compute the log loss score on the validation data and append it to the list of validation scores\n",
        "    val_score = log_loss(y_val, val_preds)\n",
        "    val_scores.append(val_score)\n",
        "    \n",
        "    # Print the log loss score for the current hyperparameter values\n",
        "    print(f\"Validation log loss for n_estimators={nes}: {val_score:.4f}\")"
      ]
    },
    {
      "cell_type": "code",
      "execution_count": null,
      "id": "7f6fbc47-45f0-4d25-ba09-c099a39f53ef",
      "metadata": {
        "id": "7f6fbc47-45f0-4d25-ba09-c099a39f53ef"
      },
      "outputs": [],
      "source": [
        "plt.plot(n_estimators,val_scores,'o-')\n",
        "plt.ylabel(log_loss)\n",
        "plt.xlabel(\"n_estimator\")\n",
        "print(\"best n_estimator {}\".format(n_estimators[np.argmin(val_scores)]))"
      ]
    },
    {
      "cell_type": "markdown",
      "id": "9844c514-ed65-42c5-90bc-60f0a0dd054d",
      "metadata": {
        "id": "9844c514-ed65-42c5-90bc-60f0a0dd054d"
      },
      "source": [
        "#### Evolution with the number of the max depth"
      ]
    },
    {
      "cell_type": "code",
      "execution_count": null,
      "id": "871ff2a0-4fdb-4f39-9b83-1279f26a6cb9",
      "metadata": {
        "id": "871ff2a0-4fdb-4f39-9b83-1279f26a6cb9"
      },
      "outputs": [],
      "source": [
        "scores_md = []\n",
        "max_depths = [1,3,5,6,7,8,10]\n",
        "\n",
        "for md in max_depths:\n",
        "    xgb = XGBClassifier(learning_rate =0.1, n_estimators=n_estimators[np.argmin(val_scores)], \n",
        "                        max_depth=md, min_child_weight=3, subsample=0.8, \n",
        "                        colsample_bytree=0.8, nthread=4, seed=42, objective='multi:softprob')\n",
        "    xgb.fit(X_train_scaled, y_train)\n",
        "    preds = xgb.predict_proba(X_val_scaled)\n",
        "    score = log_loss(y_val, preds)\n",
        "    scores_md.append(score)\n",
        "    print(\"test data log loss eval : {}\".format(log_loss(y_val,preds)))"
      ]
    },
    {
      "cell_type": "code",
      "execution_count": null,
      "id": "5216eb9a-5d02-41d3-8e8b-db81c3a429ac",
      "metadata": {
        "id": "5216eb9a-5d02-41d3-8e8b-db81c3a429ac",
        "outputId": "2460a7ea-1dfb-4fcf-91c3-e5405e77d5d2"
      },
      "outputs": [
        {
          "name": "stdout",
          "output_type": "stream",
          "text": [
            "best max_depth 7\n"
          ]
        },
        {
          "data": {
            "image/png": "[encoded data removed]",
            "text/plain": [
              "<Figure size 640x480 with 1 Axes>"
            ]
          },
          "metadata": {},
          "output_type": "display_data"
        }
      ],
      "source": [
        "plt.plot(max_depths,scores_md,'o-')\n",
        "plt.ylabel(log_loss)\n",
        "plt.xlabel(\"max_depth\")\n",
        "print(\"best max_depth {}\".format(max_depths[np.argmin(scores_md)]))"
      ]
    },
    {
      "cell_type": "markdown",
      "id": "cbe723e5-8894-45b3-8aea-7c952a6b1a6a",
      "metadata": {
        "id": "cbe723e5-8894-45b3-8aea-7c952a6b1a6a"
      },
      "source": [
        "We will be optimizing our model using the log loss instead of accuracy because we have 9 classes in the target variable. Accuracy can be a misleading metric in cases where the classes are imbalanced, as it only considers the number of correct predictions made without considering the likelihood of the predicted class. In contrast, log loss takes into account the probability of the predicted class, penalizing highly confident wrong predictions more severely than less confident ones.\n",
        "\n",
        "Since we have 9 classes, the likelihood of a random guess is 1/9, which is 0.111. This means that if we have an accuracy of 50%, which may seem high, it actually performs only slightly better than a random guess. Therefore, we need to use a metric that takes into account the probability of each prediction and rewards models that assign high probabilities to the correct class. Log loss is a widely used metric for multiclass classification problems that does exactly that. It penalizes the model heavily for incorrect predictions with high confidence, and less for incorrect predictions with low confidence, making it a more appropriate metric for our problem."
      ]
    },
    {
      "cell_type": "markdown",
      "id": "c3ac743a-d9bb-4044-99f7-70544de94091",
      "metadata": {
        "id": "c3ac743a-d9bb-4044-99f7-70544de94091"
      },
      "source": [
        "### Submission"
      ]
    },
    {
      "cell_type": "markdown",
      "id": "2811dc5a-2d6e-4f0d-af5d-8bf5a071bb7a",
      "metadata": {
        "id": "2811dc5a-2d6e-4f0d-af5d-8bf5a071bb7a"
      },
      "source": [
        "This model is an XGBoost classifier with the following hyperparameters:\n",
        "\n",
        "- learning_rate: the learning rate used for updating the weights of the model during training\n",
        "- n_estimators: the number of decision trees to build in the model\n",
        "- max_depth: the maximum depth of each decision tree\n",
        "- seed: the random seed used to initialize the random number generator\n",
        "- objective: the objective function to be optimized during training, in this case \"multi:softprob\" for multiclass classification\n",
        "\n",
        "The CalibratedClassifierCV is a wrapper that performs isotonic or sigmoid calibration of predicted class probabilities, which can improve the reliability of the predicted probabilities. In this case, isotonic calibration is used with 5-fold cross-validation."
      ]
    },
    {
      "cell_type": "code",
      "execution_count": null,
      "id": "6d2e7096-2d4c-4190-965c-88b542ba7f6a",
      "metadata": {
        "id": "6d2e7096-2d4c-4190-965c-88b542ba7f6a"
      },
      "outputs": [],
      "source": [
        "# Create an XGBoost classifier with the chosen hyperparameters\n",
        "xgb = XGBClassifier(learning_rate =0.1, n_estimators=525, max_depth=7, seed=42, objective='multi:softprob')\n",
        "\n",
        "# Create a calibrated classifier with isotonic calibration and 5-fold cross-validation\n",
        "my_model = CalibratedClassifierCV(xgb, cv=5, method='isotonic')"
      ]
    },
    {
      "cell_type": "code",
      "execution_count": null,
      "id": "d61e9f40-9c9f-4d92-8785-10476618ba6a",
      "metadata": {
        "id": "d61e9f40-9c9f-4d92-8785-10476618ba6a"
      },
      "outputs": [],
      "source": [
        "# Fit the calibrated classifier on the training data\n",
        "my_model.fit(train_X_scaled, train_y)\n",
        "\n",
        "# Predict the class probabilities on the test data\n",
        "test_preds = my_model.predict_proba(test_X_scaled)"
      ]
    },
    {
      "cell_type": "code",
      "execution_count": null,
      "id": "89b8570f-ce52-4804-b909-b78e9cbe143a",
      "metadata": {
        "id": "89b8570f-ce52-4804-b909-b78e9cbe143a"
      },
      "outputs": [],
      "source": [
        "# Convert the predictions to a DataFrame with appropriate column names\n",
        "output = pd.DataFrame(test_preds, columns=[\"Class_\"+str(i) for i in range(1,10)])"
      ]
    },
    {
      "cell_type": "code",
      "execution_count": null,
      "id": "711c6c4a-1aa5-4934-b654-30e267f0af46",
      "metadata": {
        "id": "711c6c4a-1aa5-4934-b654-30e267f0af46"
      },
      "outputs": [],
      "source": [
        "# Add the ID column from the test data to the DataFrame\n",
        "output.insert(loc=0, column='id', value=test.id)\n",
        "\n",
        "# Save the predictions to a CSV file without the index column\n",
        "output.to_csv('submission.csv', index=False)"
      ]
    },
    {
      "cell_type": "code",
      "execution_count": null,
      "id": "fdab3b55-dbd3-4fa8-98b7-c93de463b0f1",
      "metadata": {
        "id": "fdab3b55-dbd3-4fa8-98b7-c93de463b0f1",
        "outputId": "a1f232b5-4596-4aa4-a3b2-b486afbe3439"
      },
      "outputs": [
        {
          "data": {
            "text/html": [
              "<div>\n",
              "<style scoped>\n",
              "    .dataframe tbody tr th:only-of-type {\n",
              "        vertical-align: middle;\n",
              "    }\n",
              "\n",
              "    .dataframe tbody tr th {\n",
              "        vertical-align: top;\n",
              "    }\n",
              "\n",
              "    .dataframe thead th {\n",
              "        text-align: right;\n",
              "    }\n",
              "</style>\n",
              "<table border=\"1\" class=\"dataframe\">\n",
              "  <thead>\n",
              "    <tr style=\"text-align: right;\">\n",
              "      <th></th>\n",
              "      <th>id</th>\n",
              "      <th>Class_1</th>\n",
              "      <th>Class_2</th>\n",
              "      <th>Class_3</th>\n",
              "      <th>Class_4</th>\n",
              "      <th>Class_5</th>\n",
              "      <th>Class_6</th>\n",
              "      <th>Class_7</th>\n",
              "      <th>Class_8</th>\n",
              "      <th>Class_9</th>\n",
              "    </tr>\n",
              "  </thead>\n",
              "  <tbody>\n",
              "    <tr>\n",
              "      <th>0</th>\n",
              "      <td>1</td>\n",
              "      <td>0.000237</td>\n",
              "      <td>0.144340</td>\n",
              "      <td>0.140818</td>\n",
              "      <td>0.709982</td>\n",
              "      <td>0.000000</td>\n",
              "      <td>0.000067</td>\n",
              "      <td>0.004447</td>\n",
              "      <td>0.000109</td>\n",
              "      <td>0.000000</td>\n",
              "    </tr>\n",
              "    <tr>\n",
              "      <th>1</th>\n",
              "      <td>2</td>\n",
              "      <td>0.001396</td>\n",
              "      <td>0.003902</td>\n",
              "      <td>0.000426</td>\n",
              "      <td>0.000216</td>\n",
              "      <td>0.000292</td>\n",
              "      <td>0.433939</td>\n",
              "      <td>0.002389</td>\n",
              "      <td>0.556756</td>\n",
              "      <td>0.000684</td>\n",
              "    </tr>\n",
              "    <tr>\n",
              "      <th>2</th>\n",
              "      <td>3</td>\n",
              "      <td>0.000000</td>\n",
              "      <td>0.000000</td>\n",
              "      <td>0.000000</td>\n",
              "      <td>0.000095</td>\n",
              "      <td>0.000000</td>\n",
              "      <td>0.999066</td>\n",
              "      <td>0.000000</td>\n",
              "      <td>0.000839</td>\n",
              "      <td>0.000000</td>\n",
              "    </tr>\n",
              "    <tr>\n",
              "      <th>3</th>\n",
              "      <td>4</td>\n",
              "      <td>0.000000</td>\n",
              "      <td>0.638065</td>\n",
              "      <td>0.351949</td>\n",
              "      <td>0.007817</td>\n",
              "      <td>0.000000</td>\n",
              "      <td>0.000000</td>\n",
              "      <td>0.000000</td>\n",
              "      <td>0.000238</td>\n",
              "      <td>0.001931</td>\n",
              "    </tr>\n",
              "    <tr>\n",
              "      <th>4</th>\n",
              "      <td>5</td>\n",
              "      <td>0.129135</td>\n",
              "      <td>0.000000</td>\n",
              "      <td>0.000382</td>\n",
              "      <td>0.000179</td>\n",
              "      <td>0.000000</td>\n",
              "      <td>0.007127</td>\n",
              "      <td>0.001644</td>\n",
              "      <td>0.043176</td>\n",
              "      <td>0.818356</td>\n",
              "    </tr>\n",
              "  </tbody>\n",
              "</table>\n",
              "</div>"
            ],
            "text/plain": [
              "   id   Class_1   Class_2   Class_3   Class_4   Class_5   Class_6   Class_7  \\\n",
              "0   1  0.000237  0.144340  0.140818  0.709982  0.000000  0.000067  0.004447   \n",
              "1   2  0.001396  0.003902  0.000426  0.000216  0.000292  0.433939  0.002389   \n",
              "2   3  0.000000  0.000000  0.000000  0.000095  0.000000  0.999066  0.000000   \n",
              "3   4  0.000000  0.638065  0.351949  0.007817  0.000000  0.000000  0.000000   \n",
              "4   5  0.129135  0.000000  0.000382  0.000179  0.000000  0.007127  0.001644   \n",
              "\n",
              "    Class_8   Class_9  \n",
              "0  0.000109  0.000000  \n",
              "1  0.556756  0.000684  \n",
              "2  0.000839  0.000000  \n",
              "3  0.000238  0.001931  \n",
              "4  0.043176  0.818356  "
            ]
          },
          "execution_count": 48,
          "metadata": {},
          "output_type": "execute_result"
        }
      ],
      "source": [
        "output.head()"
      ]
    }
  ],
  "metadata": {
    "kernelspec": {
      "display_name": "Python 3 (ipykernel)",
      "language": "python",
      "name": "python3"
    },
    "language_info": {
      "codemirror_mode": {
        "name": "ipython",
        "version": 3
      },
      "file_extension": ".py",
      "mimetype": "text/x-python",
      "name": "python",
      "nbconvert_exporter": "python",
      "pygments_lexer": "ipython3",
      "version": "3.9.13"
    },
    "colab": {
      "provenance": [],
      "toc_visible": true
    }
  },
  "nbformat": 4,
  "nbformat_minor": 5
}